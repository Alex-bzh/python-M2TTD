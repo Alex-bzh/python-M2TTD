{
 "cells": [
  {
   "cell_type": "markdown",
   "metadata": {
    "slideshow": {
     "slide_type": "slide"
    }
   },
   "source": [
    "# Des commandes UNIX"
   ]
  },
  {
   "cell_type": "markdown",
   "metadata": {
    "slideshow": {
     "slide_type": "subslide"
    }
   },
   "source": [
    "## Ce qu’il est inutile de savoir\n",
    "\n",
    "- **UNIX :** famille de systèmes d’exploitation\n",
    "- issu de recherches menées par Kenneth Thompson\n",
    "- Linux est de type UNIX\n",
    "- Mac OS dérivé de UNIX (BSD)"
   ]
  },
  {
   "cell_type": "markdown",
   "metadata": {
    "slideshow": {
     "slide_type": "subslide"
    }
   },
   "source": [
    "## Ce qu’il est utile de savoir\n",
    "\n",
    "- repose sur un interpréteur (*shell*)\n",
    "- dispose de petits utilitaires appelés en ligne de commande\n",
    "- ligne de commande débute par une invite (*prompt*), par exemple le `$` ou le `#` en mode superutilisateur\n",
    "- syntaxe de l’appel d’une commande :\n",
    "```txt\n",
    "commande [-options] [arguments]\n",
    "```\n",
    "- exemple :\n",
    "```bash\n",
    "ls -l ./files/pg2490.txt\n",
    "```"
   ]
  },
  {
   "cell_type": "markdown",
   "metadata": {
    "slideshow": {
     "slide_type": "slide"
    }
   },
   "source": [
    "## Commandes usuelles"
   ]
  },
  {
   "cell_type": "markdown",
   "metadata": {
    "slideshow": {
     "slide_type": "subslide"
    }
   },
   "source": [
    "### Opérations sur les fichiers ou répertoires\n",
    "\n",
    "- `ls`: liste le contenu d’un répertoire\n",
    "- `touch`: crée un fichier\n",
    "- `mv`: renomme un fichier\n",
    "- `rm`: supprime un fichier\n",
    "- `cp`: copie un fichier"
   ]
  },
  {
   "cell_type": "markdown",
   "metadata": {
    "slideshow": {
     "slide_type": "subslide"
    }
   },
   "source": [
    "### Opérations spécifiques aux répertoires\n",
    "\n",
    "- `cd` : modifie le répertoire courant\n",
    "- `pwd` : affiche le chemin vers le répertoire courant\n",
    "- `mkdir`: crée un répertoire\n",
    "- `rmdir` : supprime un répertoire"
   ]
  },
  {
   "cell_type": "markdown",
   "metadata": {
    "slideshow": {
     "slide_type": "subslide"
    }
   },
   "source": [
    "### Opérations sur des fichiers textes\n",
    "\n",
    "- `cat` : concatène des fichiers pour les imprimer\n",
    "- `less` : ouvre un fichier pour affichage\n",
    "- `more` : ouvre un fichier pour affichage\n",
    "- `head` : affiche les dix premières lignes d’un fichier\n",
    "- `tail` : affiche les dix dernières lignes d’un fichier\n",
    "- `grep` : recherche de motifs dans un fichier"
   ]
  },
  {
   "cell_type": "markdown",
   "metadata": {
    "slideshow": {
     "slide_type": "subslide"
    }
   },
   "source": [
    "### Divers\n",
    "\n",
    "- `echo` : imprime un message\n",
    "- `man` : obtenir la page du manuel relative à la commande\n",
    "\n",
    "Un doute sur l’utilisation d’une commande ? Pensez à `man` ou au site [TLDR](https://tldr.ostera.io/) qui présente des cas pratiques."
   ]
  },
  {
   "cell_type": "markdown",
   "metadata": {
    "slideshow": {
     "slide_type": "slide"
    }
   },
   "source": [
    "## Enchaîner des instructions\n",
    "\n",
    "Parmi les manières d’enchaîner des instructions :\n",
    "- opérateur `;` pour tout exécuter en même temps\n",
    "- opérateur `&&` pour exécuter une commande seulement si les précédentes ont réussi\n",
    "- opérateur `|` pour envoyer à une commande le résultat des précédentes\n",
    "\n",
    "Et puis citons deux opérateurs pour rediriger les flux :\n",
    "- opérateur `>` pour remplacer le contenu d’un fichier par le résultat d’une commande\n",
    "- opérateur `>>` pour ajouter à un fichier le résultat d’une commande"
   ]
  },
  {
   "cell_type": "markdown",
   "metadata": {
    "slideshow": {
     "slide_type": "subslide"
    }
   },
   "source": [
    "### Exemples d’utilisation\n",
    "\n",
    "Essayons de lister les fichiers du répertoire *files* :\n",
    "\n",
    "```bash\n",
    "ls ./files\n",
    "```\n",
    "\n",
    "Sur la base du résultat, recherchons les fichiers avec une extension `.csv` :\n",
    "\n",
    "```bash\n",
    "ls ./files | grep \".csv\"\n",
    "```\n",
    "\n",
    "Qu’il existe ou non des fichiers CSV, on souhaite créer un fichier de résultats :\n",
    "\n",
    "```bash\n",
    "ls ./files | grep \".csv\" ; touch ./files/results.txt\n",
    "```\n",
    "\n",
    "S’il existe des fichiers CSV dans le répertoire, on souhaite en plus afficher un message :\n",
    "\n",
    "```bash\n",
    "ls ./files | grep \".csv\" && echo \"Il existe des fichiers CSV dans le répertoire.\"\n",
    "```\n",
    "\n",
    "S’il existe des fichiers CSV, on souhaite maintenant créer un fichier dans lequel écrire le message :\n",
    "\n",
    "```bash\n",
    "ls ./files | grep \".csv\" && touch ./files/results.txt && echo \"Il existe des fichiers CSV dans le répertoire.\" > ./files/results.txt\n",
    "```\n",
    "\n",
    "**Remarque :** il est possible d’obtenir le même résultat en effectuant les opérations les unes après les autres."
   ]
  },
  {
   "cell_type": "markdown",
   "metadata": {
    "slideshow": {
     "slide_type": "slide"
    }
   },
   "source": [
    "## Opérations courantes en analyse de texte"
   ]
  },
  {
   "cell_type": "markdown",
   "metadata": {
    "slideshow": {
     "slide_type": "fragment"
    }
   },
   "source": [
    "### Filtrage\n",
    "\n",
    "L’utilitaire `grep` (*file pattern searcher*) associé à l’option `-a` considère les fichiers en paramètres comme de l’ASCII. Il est utile pour rechercher un motif (*pattern*) en utilisant les expressions rationnelles.\n",
    "\n",
    "```bash\n",
    "# find, in all the TXT files, the lines that contain the word 'upon'\n",
    "cat ./files/*.txt | grep -a upon\n",
    "```\n",
    "\n",
    "```bash\n",
    "# words that end with suffix -ly\n",
    "cat ./files/*.txt | grep -a \"[a-zA-Z]*ly\"\n",
    "```"
   ]
  },
  {
   "cell_type": "markdown",
   "metadata": {
    "slideshow": {
     "slide_type": "subslide"
    }
   },
   "source": [
    "### Remplacement\n",
    "\n",
    "`sed` (*stream editor*) est un utilitaire très puissant qui permet d’éditer les lignes d’un flux en effectuant des remplacements.\n",
    "\n",
    "```bash\n",
    "# substitutes first occurrence of 'id' by 'it'\n",
    "echo \"Le petit chat boid du laid.\" | sed 's/id/it/'\n",
    "```\n",
    "\n",
    "```bash\n",
    "# substitutes all occurrences of 'id' by 'it'\n",
    "echo \"Le petit chat boid du laid.\" | sed 's/id/it/g'\n",
    "```\n",
    "\n",
    "Il est possible d’utiliser des expressions rationnelles :\n",
    "\n",
    "```bash\n",
    "echo \"Le petit chat boid du laid.\" | sed 's/\\w*d/t/g'\n",
    "```\n",
    "\n",
    "Si l’utilitaire renvoie ordinairement le flux dans la sortie standard, l’option `-i` effectue le remplacement en place dans les fichiers en paramètres :\n",
    "\n",
    "```bash\n",
    "sed -i '' 's/subscribe/unsubscribe/g' ./files/*.txt\n",
    "```\n",
    "\n",
    "La configuration `d` dans le paramétrage de l’outil permet de supprimer les lignes qui répondent au motif renseigné :\n",
    "\n",
    "```bash\n",
    "# remove lines starting with a whitespace character\n",
    "sed '/^[[:space:]]/d' ./files/*.txt\n",
    "```\n",
    "\n",
    "```bash\n",
    "# remove empty lines\n",
    "sed '/^$/d' ./files/*.txt\n",
    "```"
   ]
  },
  {
   "cell_type": "markdown",
   "metadata": {
    "slideshow": {
     "slide_type": "subslide"
    }
   },
   "source": [
    "Un autre utilitaire pour manipuler le flux d’un texte est `tr` (*translate characters*). Il offre la capacité d’effectuer une concordance entre plusieurs caractères à remplacer.\n",
    "\n",
    "```bash\n",
    "# 'a' => 'e' ; 'e' => 'a'\n",
    "echo \"Le petit chat boit du lait.\" | tr ae ea\n",
    "```\n",
    "\n",
    "Les remplacements peuvent s’opérer depuis un fichier :\n",
    "\n",
    "```bash\n",
    "tr ae ea < ./files/*.txt\n",
    "```\n",
    "\n",
    "L’option `-d` s’utilise pour supprimer des caractères :\n",
    "\n",
    "```bash\n",
    "# removes all occurrences of character 'e'\n",
    "tr -d e < ./files/*.txt\n",
    "```\n",
    "\n",
    "Avec l’option `-s`, les caractères répétés fusionnent :\n",
    "```bash\n",
    "# the three whitespace characters become one, while single ones still\n",
    "echo \"Le petit chat   boit du lait.\" | tr -s '[:blank:]' ' '\n",
    "```\n",
    "\n",
    "Une autre option intéressante consiste à effectuer un remplacement sur tous les autres caractères sauf ceux indiqués :\n",
    "\n",
    "```bash\n",
    "# keep all digits\n",
    "echo \"La révolution française a eu lieu en 1789.\" | tr -cd '[:digit:]'\n",
    "```\n",
    "\n",
    "```bash\n",
    "# every character but digits become an 'x'\n",
    "echo \"La révolution française a eu lieu en 1789.\" | tr -c '[:digit:]' 'x'\n",
    "```"
   ]
  },
  {
   "cell_type": "markdown",
   "metadata": {
    "slideshow": {
     "slide_type": "subslide"
    }
   },
   "source": [
    "### Tri\n",
    "\n",
    "L’utilitaire `sort` permet de trier des lignes de textes. Avec l’option `-r`, le tri s’effectue de manière inversée et, avec `-f`, il ignore la casse des caractères :\n",
    "\n",
    "```bash\n",
    "echo \"Le\n",
    "petit\n",
    "chat\n",
    "boit\n",
    "du\n",
    "lait\n",
    ".\" | sort -rf\n",
    "```\n",
    "\n",
    "Et pour effectuer un tri sur des valeurs numériques plutôt qu’alphabétiques, il faut recourir à l’option `-n`."
   ]
  },
  {
   "cell_type": "markdown",
   "metadata": {
    "slideshow": {
     "slide_type": "subslide"
    }
   },
   "source": [
    "### Comptage\n",
    "\n",
    "Il existe un utilitaire pour compter les lignes, mots et caractères dans un texte : `wc` (*word count*).\n",
    "\n",
    "```bash\n",
    "# 1 line, 6 words, 28 characters\n",
    "echo \"Le petit chat boit du lait.\" | wc\n",
    "```\n",
    "\n",
    "Pour limiter le comptage à l’une ou l’autre des unités, il faut utiliser les options `-l` (lignes), `-w` (mots) et `-m` (caractères)."
   ]
  },
  {
   "cell_type": "markdown",
   "metadata": {
    "slideshow": {
     "slide_type": "subslide"
    }
   },
   "source": [
    "### Fréquence\n",
    "\n",
    "Grâce à `uniq` et son option `-c`, il est possible d’obtenir un décompte des occurrences d’un mot dans un texte :\n",
    "\n",
    "```bash\n",
    "echo \"Le\n",
    "petit\n",
    "chat\n",
    "boit\n",
    "du\n",
    "lait\n",
    ".\n",
    "Le\n",
    "petit\n",
    "chien\n",
    "boit\n",
    "de\n",
    "l’\n",
    "eau\n",
    ".\" | sort | uniq -c | sort -rn\n",
    "```\n",
    "\n",
    "À noter que l’option `-i` permet d’effectuer ce calcul en ignorant la casse."
   ]
  },
  {
   "cell_type": "markdown",
   "metadata": {
    "slideshow": {
     "slide_type": "slide"
    }
   },
   "source": [
    "## Opérations courantes avec le Web\n",
    "\n",
    "La communication entre un client et un serveur sur le Web s’effectue au moyen d’un protocole (http, https, ftp) et de méthodes (*verbs*) qui définissent le type d’échanges souhaité. Parmi les méthodes les plus souvent employées :\n",
    "- **GET :** obtenir une ressource\n",
    "- **POST :** ajouter une ressource\n",
    "- **PUT :** modifier une ressource\n",
    "- **DELETE :** supprimer une ressource"
   ]
  },
  {
   "cell_type": "markdown",
   "metadata": {
    "slideshow": {
     "slide_type": "subslide"
    }
   },
   "source": [
    "### *WGET*\n",
    "\n",
    "L’utilitaire `wget` (*network downloader*) permet d’interroger le Web uniquement en mode **GET**. Il sert ainsi à télécharger du contenu.\n",
    "\n",
    "```bash\n",
    "wget http://www.inalco.fr/sites/all/themes/inalco/logo.svg\n",
    "```\n",
    "\n",
    "Un ensemble d’options permettent d’aspirer par exemple un site Web entier :\n",
    "\n",
    "```bash\n",
    "wget -r -k -E -np http://www.llf.cnrs.fr\n",
    "```\n",
    "\n",
    "Explication des options :\n",
    "- `-r` : de manière récursive\n",
    "- `-k` : conversion des liens en liens locaux\n",
    "- `-E` : conversion des scripts PHP en pages HTML\n",
    "- `-np` : pour ne pas remonter dans l’arborescence du site"
   ]
  }
 ],
 "metadata": {
  "celltoolbar": "Diaporama",
  "kernelspec": {
   "display_name": "Python 3",
   "language": "python",
   "name": "python3"
  },
  "language_info": {
   "codemirror_mode": {
    "name": "ipython",
    "version": 3
   },
   "file_extension": ".py",
   "mimetype": "text/x-python",
   "name": "python",
   "nbconvert_exporter": "python",
   "pygments_lexer": "ipython3",
   "version": "3.7.4"
  }
 },
 "nbformat": 4,
 "nbformat_minor": 4
}
