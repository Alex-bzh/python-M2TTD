{
 "cells": [
  {
   "cell_type": "markdown",
   "id": "7dcbe6d0-a3f3-4339-857b-ac3e7585c1eb",
   "metadata": {},
   "source": [
    "# Concevoir un programme en Python"
   ]
  },
  {
   "cell_type": "markdown",
   "id": "3e8d310e-2c59-48f5-a33f-6c82dc73f0e0",
   "metadata": {},
   "source": [
    "L’objectif de ce calepin est de mettre en œuvre les bonnes pratiques abordées précédemment en matière de conception d’un programme."
   ]
  },
  {
   "cell_type": "markdown",
   "id": "bc33d2dc-2f4b-4fe3-a2a0-6ee84bce5c9f",
   "metadata": {},
   "source": [
    "## Rappel sur l’exécution d’un script"
   ]
  },
  {
   "cell_type": "markdown",
   "id": "88ff6842-8723-41b2-997e-47fd27df159b",
   "metadata": {},
   "source": [
    "Dans le répertoire *scripts* se trouvent plusieurs fichiers Python que l’on peut exécuter avec la commande générique :\n",
    "\n",
    "```bash\n",
    "python /path/to/script.py\n",
    "```\n",
    "\n",
    "Par exemple :"
   ]
  },
  {
   "cell_type": "code",
   "execution_count": null,
   "id": "f8d53ba0-f130-45d5-8951-4514cb71b995",
   "metadata": {},
   "outputs": [],
   "source": [
    "! python ./scripts/hello_world.py"
   ]
  },
  {
   "cell_type": "markdown",
   "id": "c5560f90-9b4e-4666-aaec-49453bdbcaf2",
   "metadata": {},
   "source": [
    "Si une erreur apparaît, lisez le message, il vous indique sans doute un problème dans l’expression du chemin vers le fichier."
   ]
  },
  {
   "cell_type": "markdown",
   "id": "85f66f47-c96a-4db0-ac4c-896056dff49e",
   "metadata": {},
   "source": [
    "## Effectuer une régression linéaire"
   ]
  },
  {
   "cell_type": "markdown",
   "id": "d796750f-6427-4b9b-9821-49278f13275d",
   "metadata": {},
   "source": [
    "Pour la petite histoire, c’est en 1886 que le terme de régression apparaît pour la première fois, dans un article de Sir Francis Galton qu’il publie sous le titre de *Regression Towards Mediocrity in Hereditary Stature*. Dans cet article, il mettait en évidence que les enfants de personnes de grandes tailles avaient tendance à être plus petits qu’elles, et inversement, d’où l’idée d’une régression vers la médiocrité pour décrire en fait un phénomène d’attraction de la moyenne.\n",
    "\n",
    "À partir de données simulées, nous calculerons une droite de régression avec la méthode des moindres carrés en appliquant les notions vues jusqu’ici.\n",
    "\n",
    "**Attention !** Dans le répertoire *scripts*, le fichier *linear-regression.py* nous servira d’ébauche de programme. Toutes les instructions listées devront être reportées dans ce script."
   ]
  },
  {
   "cell_type": "markdown",
   "id": "cb339b56-30a6-4dbb-9133-e5ab97c4cfcc",
   "metadata": {},
   "source": [
    "### Charger les modules nécessaires"
   ]
  },
  {
   "cell_type": "markdown",
   "id": "f3a83fec-c2b4-490e-b810-f5971e33dee7",
   "metadata": {},
   "source": [
    "Chargeons d’abord, à l’endroit prévu à cet effet, toutes les bibliothqèues logicielles qui seront utilisées par notre programme :"
   ]
  },
  {
   "cell_type": "code",
   "execution_count": null,
   "id": "32a76851-4b63-47f7-9886-fb714f5b62c2",
   "metadata": {},
   "outputs": [],
   "source": [
    "import matplotlib.pyplot as plt\n",
    "import numpy as np"
   ]
  },
  {
   "cell_type": "markdown",
   "id": "580b3bcc-2a63-4f39-b9f0-52ae60f44933",
   "metadata": {},
   "source": [
    "### Générer des données aléatoires"
   ]
  },
  {
   "cell_type": "markdown",
   "id": "1f8cf676-e2d8-4a15-bc43-75a91a081fea",
   "metadata": {},
   "source": [
    "La fonction ci-dessous génère des données à l’aspect linéaire. Intégrons-la au programme :"
   ]
  },
  {
   "cell_type": "code",
   "execution_count": null,
   "id": "076f65d7-5814-47f8-b48b-dd5afc0b35df",
   "metadata": {},
   "outputs": [],
   "source": [
    "def generate_data():\n",
    "    \"\"\"Generate random data from a linear function with Gaussian noise.\"\"\"\n",
    "    noise = np.random.normal(loc=0, scale=10, size=100)\n",
    "    x = np.arange(100)\n",
    "    y = 2 * x - 4 + noise\n",
    "\n",
    "    return x, y"
   ]
  },
  {
   "cell_type": "markdown",
   "id": "a973d6d6-1ce6-4000-bc81-d4448c7bc0cf",
   "metadata": {},
   "source": [
    "**Astuce :** un doute sur la manière d’utiliser la méthode `np.random.normal()` ? Pensez à [la documentation officielle](https://numpy.org/doc/stable/index.html) ou à la fonction native `help()` :"
   ]
  },
  {
   "cell_type": "code",
   "execution_count": null,
   "id": "703ccd2f-3b7a-4e8f-b812-bb4c7814420a",
   "metadata": {},
   "outputs": [],
   "source": [
    "help(np.random.normal)"
   ]
  },
  {
   "cell_type": "markdown",
   "id": "6929a766-39ec-4723-86be-55397b35ae38",
   "metadata": {},
   "source": [
    "Dans la procédure principale, récupérons les données générées de manière aléatoire et affichons-les dans un diagramme :"
   ]
  },
  {
   "cell_type": "code",
   "execution_count": null,
   "id": "3911473b-e6a2-4aa3-8268-866a0274104d",
   "metadata": {},
   "outputs": [],
   "source": [
    "# get data\n",
    "X, Y = generate_data()\n",
    "\n",
    "# make plot\n",
    "coef = np.polyfit(X, Y, 1)\n",
    "poly1d_fn = np.poly1d(coef)\n",
    "plt.plot(X, Y, 'yo', X, poly1d_fn(X), '--k')\n",
    "\n",
    "# save plot\n",
    "plt.savefig('points.png', dpi=72)"
   ]
  },
  {
   "cell_type": "markdown",
   "id": "e3025c13-5739-4ec5-8667-19c282a71dc0",
   "metadata": {},
   "source": [
    "Afin de vérifier le bon fonctionnement du script, exécutons-le depuis une interface en ligne de commande :"
   ]
  },
  {
   "cell_type": "code",
   "execution_count": null,
   "id": "50bd5197-58a4-4f5d-ab3e-f5d7adb5db94",
   "metadata": {},
   "outputs": [],
   "source": [
    "! python ./scripts/linear_regression.py"
   ]
  },
  {
   "cell_type": "markdown",
   "id": "a1e46d7b-5c51-4e0c-9660-bc1c644dfeb2",
   "metadata": {},
   "source": [
    "### Une droite de régression des moindres carrés"
   ]
  },
  {
   "cell_type": "markdown",
   "id": "c557afef-a9b4-4633-9e24-70d37af8aee4",
   "metadata": {},
   "source": [
    "Lorsque nous prenons les coordonnées d’une observation au hasard, nous remarquons qu’elles sont éloignées de la droite. Il existe un décalage – que l’on appelle communément une **erreur** – et la droite de régression des moindres carrés est celle qui minimise la somme des carrés de toutes les erreurs.\n",
    "\n",
    "**Remarque :** Le rapport s’établit au carré afin d’éviter les valeurs négatives."
   ]
  },
  {
   "cell_type": "markdown",
   "id": "c66e392e-5655-4eb7-b5c2-134bac85160e",
   "metadata": {},
   "source": [
    "#### La formule"
   ]
  },
  {
   "cell_type": "markdown",
   "id": "ce19d7d0-59bf-41e3-b897-7f915181dab5",
   "metadata": {},
   "source": [
    "L’équation réduite qui permet d’obtenir les coordonnées de tous les points de la droite et, partant, d’obtenir une prédiction de $\\hat{y}$ en fonction de $x$ respecte la forme $\\hat{y} = mx + b$.\n",
    "\n",
    "Deux étapes majeures pour la trouver :\n",
    "\n",
    "- calculer d’abord le coefficient directeur $m$\n",
    "- puis l’ordonnée à l’origine $b$."
   ]
  },
  {
   "cell_type": "markdown",
   "id": "36b254e2-67a0-46a0-9d46-9de333ff6587",
   "metadata": {},
   "source": [
    "#### Calculer le coefficient directeur"
   ]
  },
  {
   "cell_type": "markdown",
   "id": "53e8532c-acd0-4c5e-ab1c-71f999c805cd",
   "metadata": {},
   "source": [
    "La résolution du coefficient directeur d’une droite des moindres carré est régi par la formule ci-dessous :\n",
    "\n",
    "$$m = \\frac{n\\sum xy - \\sum x \\sum y}{n \\sum x^2 - \\left(\\sum x\\right)^2}$$\n",
    "\n",
    "De cette formule, nous concluons avoir besoin de connaître :\n",
    "\n",
    "- le nombre $n$ des observations ;\n",
    "- la somme du produit de $x$ et de $y$ ;\n",
    "- la somme de $x$ et son carré ;\n",
    "- la somme de $y$ et la somme de $x$ ;\n",
    "- la somme des carrés de $x$.\n",
    "\n",
    "La fonction ci-dessous se charge des calculs :"
   ]
  },
  {
   "cell_type": "code",
   "execution_count": null,
   "id": "7bc3d512-b2e3-41f8-acbb-1f10691e282d",
   "metadata": {},
   "outputs": [],
   "source": [
    "def slope(x, y):\n",
    "  \"\"\"Return the slope of a straight line,\n",
    "  with the least squares method.\n",
    "\n",
    "  Arguments:\n",
    "  x -- data in x-axis\n",
    "  y -- data in y-axis\n",
    "  \"\"\"\n",
    "\n",
    "  n = len(x)\n",
    "  sum_xy = sum(x * y)\n",
    "  sum_x_squared = sum(x) ** 2\n",
    "  sum_x = sum(x)\n",
    "  sum_y = sum(y)\n",
    "  sum_squares_x = sum(x ** 2)\n",
    "\n",
    "  # formula\n",
    "  m = (n * sum_xy - sum_x * sum_y) / (n * sum_squares_x - sum_x_squared)\n",
    "\n",
    "  return m"
   ]
  },
  {
   "cell_type": "markdown",
   "id": "fd3fce22-60ba-45da-a29a-3e7542d5fd84",
   "metadata": {},
   "source": [
    "#### Calculer l’ordonnée à l’origine"
   ]
  },
  {
   "cell_type": "markdown",
   "id": "1bcb9258-0313-4fe5-b1e3-a35375ca9a44",
   "metadata": {},
   "source": [
    "La formule de résolution de l’ordonnée à l’origine fait appel au coefficient directeur et aux moyennes des valeurs de $x$ et de $y$ :\n",
    "\n",
    "$$b = \\bar{y} - m\\bar{x}$$\n",
    "\n",
    "Intégrons cette formule dans une fonction :"
   ]
  },
  {
   "cell_type": "code",
   "execution_count": null,
   "id": "598b29cb-18d2-497d-b0f2-98156d11e009",
   "metadata": {},
   "outputs": [],
   "source": [
    "def intercept(m, x, y):\n",
    "  \"\"\"Intercept of a straight line.\n",
    "  Arguments:\n",
    "  m -- slope\n",
    "  x -- data in x-axis\n",
    "  y -- data in y-axis\n",
    "  \"\"\"\n",
    "\n",
    "  avg_x = sum(x) / len(x)\n",
    "  avg_y = sum(y) / len(y)\n",
    "  b = avg_y - (m * avg_x)\n",
    "\n",
    "  return b"
   ]
  },
  {
   "cell_type": "markdown",
   "id": "41c97ea0-370d-46a5-b227-c2c04274405a",
   "metadata": {},
   "source": [
    "### Vérification"
   ]
  },
  {
   "cell_type": "markdown",
   "id": "0b20a1f1-21c2-44ac-9f0c-95c3d43cfca3",
   "metadata": {},
   "source": [
    "La droite qui minimise la somme des carrés des erreurs s’établit tout simplement grâce à l’équation réduite de toute droite, à l’exception ici que nous effectuons des prédictions :\n",
    "\n",
    "$$\\hat y = b + mx$$\n",
    "\n",
    "Ajoutons une fonction qui calcule la coordonnée prédite en *y* d’un point relativement à un $x$ connu :"
   ]
  },
  {
   "cell_type": "code",
   "execution_count": null,
   "id": "c99e5f55-1b9b-4aae-bd40-8e2a14288d45",
   "metadata": {},
   "outputs": [],
   "source": [
    "def F(*, x, m, b) -> float:\n",
    "  \"\"\"Solution to the standard form equation\n",
    "  of a straight line.\n",
    "\n",
    "  Keyword-only arguments:\n",
    "  x -- value of x\n",
    "  m -- slope\n",
    "  b -- intercept\n",
    "  \"\"\"\n",
    "  return m * x + b"
   ]
  },
  {
   "cell_type": "markdown",
   "id": "ee52463c-e0a2-4f2b-b3a0-42f74e2aa6b8",
   "metadata": {},
   "source": [
    "Dans la procédure principale, ne conservons que la toute première instruction qui génère les données et supprimons tout le reste. À partir des données, faisons appel aux fonction `slope()` et `intercept()` définies précédemment pour récupérer le coefficient directeur et l’ordonnée à l’origine de la droite de régression des moindres carrés :"
   ]
  },
  {
   "cell_type": "code",
   "execution_count": null,
   "id": "b1c2925c-3f18-40a8-a4e6-53757737493e",
   "metadata": {},
   "outputs": [],
   "source": [
    "# slope & intercept of a straight line\n",
    "m = slope(X, Y)\n",
    "b = intercept(m, X, Y)"
   ]
  },
  {
   "cell_type": "markdown",
   "id": "fa773529-bf5a-4a09-a45c-6797714931b1",
   "metadata": {},
   "source": [
    "Ensuite, il ne nous reste plus qu’à effectuer des prédictions pour chaque valeur de $x$ avec la fonction `F()` :"
   ]
  },
  {
   "cell_type": "code",
   "execution_count": null,
   "id": "b0610cb3-f8fc-4565-a966-4300992c5728",
   "metadata": {},
   "outputs": [],
   "source": [
    "Y_pred = [ F(x=x, m=m, b=b) for x in X ]"
   ]
  },
  {
   "cell_type": "markdown",
   "id": "ceaf2017-6627-41bf-9b0d-09eef81fdf95",
   "metadata": {},
   "source": [
    "Toujours dans la procédure principale, sauvegardons maintenant le graphique :"
   ]
  },
  {
   "cell_type": "code",
   "execution_count": null,
   "id": "6a99b527-3c05-479d-83b6-6cb5c026d13c",
   "metadata": {},
   "outputs": [],
   "source": [
    "ax = plt.subplots()\n",
    "\n",
    "ax = plt.plot(X, Y_pred)\n",
    "ax = plt.scatter(X, Y)\n",
    "\n",
    "plt.savefig('linear-regression.png', dpi=72)"
   ]
  },
  {
   "cell_type": "markdown",
   "id": "52c55057-807c-4310-a0b3-8092a7028f03",
   "metadata": {},
   "source": [
    "Exécutons le script. Si un fichier *linear-regression.png* apparaît, vous pouvez maintenant tenter le défi suivant : encapsuler la procédure principale dans une fonction `main()` et, ensuite, rendre le script directement exécutable de telle manière que la commande `./scripts/linear-regression.py` dans un terminal ne renvoie aucune erreur."
   ]
  }
 ],
 "metadata": {
  "kernelspec": {
   "display_name": "Python 3 (ipykernel)",
   "language": "python",
   "name": "python3"
  },
  "language_info": {
   "codemirror_mode": {
    "name": "ipython",
    "version": 3
   },
   "file_extension": ".py",
   "mimetype": "text/x-python",
   "name": "python",
   "nbconvert_exporter": "python",
   "pygments_lexer": "ipython3",
   "version": "3.11.10"
  }
 },
 "nbformat": 4,
 "nbformat_minor": 5
}
