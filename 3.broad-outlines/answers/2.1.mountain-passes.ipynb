{
 "cells": [
  {
   "cell_type": "markdown",
   "id": "02767bc5-66ad-465f-83fe-413e8619eb47",
   "metadata": {},
   "source": [
    "# De hautes espérances"
   ]
  },
  {
   "cell_type": "markdown",
   "id": "48928b9b-9f8a-487e-9484-ce650ce474ac",
   "metadata": {},
   "source": [
    "Un exercice au long cours qui vous permettra de revoir, en plus des bonnes pratiques générales déjà acquises, certaines des structures fondamentales du langage Python.\n",
    "\n",
    "L’objectif est d’afficher un diagramme permettant de comparer les distances de plusieurs randonnées, calculées d’après la pente moyenne et la dénivelée positive depuis leur point de départ."
   ]
  },
  {
   "cell_type": "markdown",
   "id": "a3ff0ff0-5722-4c13-9a1c-bc831a872703",
   "metadata": {},
   "source": [
    "## Première étape : ébauche du programme"
   ]
  },
  {
   "cell_type": "markdown",
   "id": "71661952-06d5-4db2-8b1f-51ef6153c05d",
   "metadata": {},
   "source": [
    "Préparez dans un premier temps le squelette de votre programme : *shebang*, fonction `main()`, procédure principale… N’hésitez pas à lui attribuer les droits en exécution et testez son bon fonctionnement.\n",
    "\n",
    "Prenez ensuite un peu de temps pour penser à toutes les fonctions qu’il est censé réaliser et aux ressources que vous devrez mobiliser.\n",
    "\n",
    "Nous avons listé pour vous trois bibliothèques logicielles à importer :"
   ]
  },
  {
   "cell_type": "code",
   "execution_count": null,
   "id": "21500fa3-470d-4ba1-b565-2d8d48a5c936",
   "metadata": {},
   "outputs": [],
   "source": [
    "import csv\n",
    "import math\n",
    "import matplotlib.pyplot as plt"
   ]
  },
  {
   "cell_type": "markdown",
   "id": "8237c403-44aa-40f1-8a52-8a1fab8c64ed",
   "metadata": {},
   "source": [
    "## Seconde étape : lire depuis un fichier"
   ]
  },
  {
   "cell_type": "markdown",
   "id": "2351226f-2e7a-403c-b8c8-80b0fe0e2afe",
   "metadata": {},
   "source": [
    "Dans le répertoire *data* vous trouverez un fichier intitulé [mountain_passes.tsv](../data/mountain_passes.tsv). Bien que portant une extension *.tsv*, il est au format CSV. Quelle est la différence ?\n",
    "\n",
    "**CSV :** *Comma-Separated Values*  \n",
    "**TSV :** *Tabulation-Separated Values*\n",
    "\n",
    "CSV est la dénomination officielle pour tous les fichiers plats qui permettent de représenter un tableau de données en respectant la structure :\n",
    "\n",
    "- un enregistrement par ligne ;\n",
    "- chaque donnée séparée de la précédente par un caractère.\n",
    "\n",
    "N’importe quel caractère peut être utilisé comme séparateur : le point-virgule, le tiret cadratin ou même une lettre ! La tabulation n’est qu’une possibilité parmi d’autres, mais une possibilité que l’on rencontre très fréquemment. Pour cette raison, elle dispose de sa propre extension *.tsv*, loin d’être officielle vu que l’on pourrait dénommer les fichiers avec l’extension *.csv* sans aucune perte de performance. Mieux encore, l’extension *.txt* est parfaitement convenable : les fichiers CSV ne sont au final que de très banals fichiers textes.\n",
    "\n",
    "En résumé, le format CSV présente de nombreux avantages, parmi lesquels :\n",
    "\n",
    "- un format plat, c’est-à-dire sans instruction de mise en forme (un caractère fait office de\n",
    "séparateur entre les champs de données) ;\n",
    "- une structure en lignes et en colonnes ;\n",
    "- une interopérabilité maximale avec des logiciels spécialisés (*LibreOffice Calc*, *Numbers*, *Excel*…) comme des éditeurs de textes simples.\n",
    "\n",
    "Même si Python parvient très bien à lire les fichiers CSV avec ses fonctions natives, il est préférable de faire appel à une bibliothèque logicielle spécialisée, opportunément nommée *csv*.\n",
    "\n",
    "Consultez [la documentation de la bibliothèque](https://docs.python.org/3.11/library/csv.html#csv.DictReader) et utilisez la méthode `.DictReader()` pour lire les données et les ajouter à une variable `data` en respectant les recommandations suivantes :\n",
    "\n",
    "- la variable `data` sera de type `list` ;\n",
    "- elle recueillera des objets de type `tuple`, composés de trois éléments :\n",
    "    - une chaîne de caractères pour le nom du col ;\n",
    "    - un entier de type `int` pour la dénivelée ;\n",
    "    - et un dernier de type `float` pour la pente en pourcentage.\n",
    "\n",
    "Vous terminerez en englobant le tout dans une fonction `read_data()` qui prend en argument un chemin de fichier."
   ]
  },
  {
   "cell_type": "code",
   "execution_count": null,
   "id": "5a659c00-4829-4155-b164-93255cb0d5fc",
   "metadata": {},
   "outputs": [],
   "source": [
    "# your code here\n",
    "\n",
    "def read_data(f):\n",
    "    \"\"\"Reads mountain passes data from a TSV file and returns a list of tuples.\"\"\"\n",
    "    with open(f, newline='') as csvfile:\n",
    "        reader = csv.DictReader(csvfile, delimiter='\\t')\n",
    "        data = [\n",
    "            (line['pass'], int(line['drop']), float(line['slope']))\n",
    "            for line in reader\n",
    "        ]\n",
    "        return data"
   ]
  },
  {
   "cell_type": "markdown",
   "id": "c671f239-6e40-4860-8cd4-03afaddd109a",
   "metadata": {},
   "source": [
    "## Troisième étape : un peu de trigonométrie"
   ]
  },
  {
   "cell_type": "markdown",
   "id": "33846880-d8c7-4f16-bad0-add24e7fe24e",
   "metadata": {},
   "source": [
    "Définissez une fonction `distance()` qui accepte deux paramètres `alt` et `gradient` afin de calculer une distance. Il s’agit de l’application de fonctions de trigonométrie. Une façon de procéder consiste à :\n",
    "\n",
    "1. obtenir la mesure en radians de l’angle stocké dans la variable `gradient` ;\n",
    "2. calculer l’arc tangente de l’angle ;\n",
    "3. déduire l’hypoténuse de la définition du sinus dans un triangle rectangle."
   ]
  },
  {
   "cell_type": "markdown",
   "id": "d6741baa-796c-45a8-b2d9-d9d70b857dc0",
   "metadata": {},
   "source": [
    "### Rappel sur les rapports dans un triangle rectangle"
   ]
  },
  {
   "cell_type": "markdown",
   "id": "f11090fb-d1be-4e44-9aba-da5f3a64b75e",
   "metadata": {},
   "source": [
    "Un triangle est une figure géométrique formée de trois sommets reliés par des segments de droites. Au point de jonction entre deux côtés d’un triangle rectangle, le sommet, on trouve un angle qui peut être décrit par trois rapports trigonométriques : le **sinus**, le **cosinus** et la **tangente**.\n",
    "\n",
    "Le sinus d’un angle est le rapport entre le côté qui lui est opposé et l’hypoténuse ; pour le cosinus, ce sera entre le côté qui lui est adjacent et l’hypoténuse et, pour la tangente, on effectue le rapport entre les côtés opposé et adjacent.\n",
    "\n",
    "Une formule mnémotechnique permet de se rappeler facilement des formules : **SOH CAH TOA**.\n",
    "\n",
    "$$\\sin(\\alpha) = \\frac{\\text{O}}{\\text{H}}$$\n",
    "$$\\cos(\\alpha) = \\frac{\\text{A}}{\\text{H}}$$\n",
    "$$\\tan(\\alpha) = \\frac{\\text{O}}{\\text{A}}$$"
   ]
  },
  {
   "cell_type": "markdown",
   "id": "a129791e-68c3-42c1-ad12-0df73e28fec4",
   "metadata": {},
   "source": [
    "### Résolution du calcul"
   ]
  },
  {
   "cell_type": "markdown",
   "id": "26c20c2f-a8c0-409d-9173-7e1f8d0ed4df",
   "metadata": {},
   "source": [
    "Avant de proposer une formule, nous allons considérer les données à disposition :\n",
    "\n",
    "- l’élévation totale (champ `drop`) ;\n",
    "- le pourcentage de pente entre le point A et le point B (champ `slope`).\n",
    "\n",
    "Dire qu’une pente est à 5,31 % en moyenne revient à dire que tous les 100 mètres on s’élève à peu près de 5,31 mètres. Par rapport au point de départ, le sommet où se trouve l’angle $\\theta$, l’avancée sur 100 m constitue son côté adjacent alors que l’élévation de 5,31 m est à l’opposé de lui. Or, notre objectif est de déterminer la longueur de l’hypoténuse. Les relations dans le triangle rectangle nous amènent à retenir deux fonctions trigonométriques pour le calcul : le sinus ou le cosinus. Prenons le premier :\n",
    "\n",
    "$$\\sin(\\alpha) = \\frac{\\text{O}}{\\text{H}}$$\n",
    "\n",
    "Par substitution :\n",
    "\n",
    "$$\\text{H} = \\frac{\\text{O}}{\\sin(\\alpha)}$$\n",
    "\n",
    "Or, pour calculer le sinus de $\\alpha$, nous avons besoin soit de l’opposé et de l’hypoténuse, soit de $\\alpha$ lui-même, $\\alpha$ étant un angle exprimé en **radians**.\n",
    "\n",
    "Que pouvons-nous faire avec les côtés adjacent et opposé ? Calculer la tangente :\n",
    "\n",
    "$$\\tan(\\alpha) = \\frac{5.31}{100}$$\n",
    "\n",
    "Comme le nombre obtenu est **sans unité**, il ne permet pas d’exprimer une mesure d’angle. Pour le faire, nous devons le convertir en **radians** grâce à l’arc tangente :\n",
    "\n",
    "$$\\theta = \\tan^{-1}(\\alpha)$$\n",
    "\n",
    "La valeur obtenue, cette fois-ci en radians, peut être placée dans la fonction sinus pour obtenir l’hypoténuse :\n",
    "\n",
    "$$\\text{H} = \\frac{\\text{O}}{\\sin(\\theta)}$$"
   ]
  },
  {
   "cell_type": "markdown",
   "id": "fc53feba-cc32-433c-814b-49b45273e9d6",
   "metadata": {},
   "source": [
    "### Écriture de la fonction"
   ]
  },
  {
   "cell_type": "markdown",
   "id": "2f512dd8-6d8e-4bf2-8df4-9583df63df0d",
   "metadata": {},
   "source": [
    "Concevez une fonction pour calculer l’hypoténuse grâce aux éléments de trigonométrie vues plus haut :"
   ]
  },
  {
   "cell_type": "code",
   "execution_count": null,
   "id": "cd7a4ae8-42e1-49fd-97f4-15d7029a367e",
   "metadata": {},
   "outputs": [],
   "source": [
    "# your code here\n",
    "\n",
    "def distance(alt, gradient):\n",
    "    \"\"\"Calculates a distance based on the\n",
    "    elevation and the gradient.\n",
    "\n",
    "    Positional arguments:\n",
    "    alt -- the elevation\n",
    "    gradient -- the gradient in percentage\n",
    "    \"\"\"\n",
    "    # converting angle in percentage into radians\n",
    "    alpha = gradient / 100\n",
    "\n",
    "    # arc tangent of the angle\n",
    "    theta = math.atan(alpha)\n",
    "    \n",
    "    # sin(a) = o/h (soh cah toa)\n",
    "    hypo = alt / math.sin(theta)\n",
    "\n",
    "    return hypo"
   ]
  },
  {
   "cell_type": "markdown",
   "id": "18a128ac-f2ec-4d6a-bebb-f05dbe07ae5b",
   "metadata": {},
   "source": [
    "## Quatrième étape : des fonctions utilitaires"
   ]
  },
  {
   "cell_type": "markdown",
   "id": "b2795e85-e263-4937-acd1-483e9bc2b1c4",
   "metadata": {},
   "source": [
    "Maintenant que vous avez un bon aperçu du programme, vous pouvez penser à quelques fonctions qui serviront à faciliter ou finaliser certaines étapes."
   ]
  },
  {
   "cell_type": "markdown",
   "id": "984bbe69-b8a6-4e9d-9d56-9218cdf067b1",
   "metadata": {},
   "source": [
    "### Encore plus de conversions"
   ]
  },
  {
   "cell_type": "markdown",
   "id": "a3e68968-f26a-4ca0-9db3-3fd4b4d78066",
   "metadata": {},
   "source": [
    "Dans le fichier, les mesures sont exprimées en mètres. Afin de rendre les résultats plus compréhensibles, concevez une fonction pour convertir les mètres en kilomètres :"
   ]
  },
  {
   "cell_type": "code",
   "execution_count": null,
   "id": "aef59492-cb70-4943-86b9-506e763b1599",
   "metadata": {},
   "outputs": [],
   "source": [
    "# your code here\n",
    "\n",
    "def mToKm(m):\n",
    "    \"\"\"Conversion: meters to kilometers\n",
    "    \n",
    "    m -- int: meters\n",
    "    \"\"\"\n",
    "    return round(m / 1000, 2)"
   ]
  },
  {
   "cell_type": "markdown",
   "id": "213185cc-66ea-439d-baf7-c12ad123e825",
   "metadata": {},
   "source": [
    "### Une fonction pour l’affichage"
   ]
  },
  {
   "cell_type": "markdown",
   "id": "009caa12-2350-475c-b252-f14a9ff09e4c",
   "metadata": {},
   "source": [
    "Vous trouverez ci-dessous une fonction pour gérer l’affichage d’un diagramme très simple avec *Matplotlib*. N’hésitez pas à en modifier les paramètres comme bon vous semble :"
   ]
  },
  {
   "cell_type": "code",
   "execution_count": null,
   "id": "7ac187d3-8487-4b6a-8c6c-52ec98c98c93",
   "metadata": {},
   "outputs": [],
   "source": [
    "def plot_data(names, distances):\n",
    "    \"\"\"Plots the mountain passes names against the distances.\"\"\"\n",
    "    plt.bar(names, distances)\n",
    "    plt.ylabel('Distance de la rando (en km)')\n",
    "    plt.xticks(rotation=70, ha=\"right\")\n",
    "    plt.tight_layout()\n",
    "    plt.show()"
   ]
  },
  {
   "cell_type": "markdown",
   "id": "68190b48-55d8-4d04-b025-afa8ed078ddb",
   "metadata": {},
   "source": [
    "## Cinquième étape : la fonction principale"
   ]
  },
  {
   "cell_type": "markdown",
   "id": "9649bd49-b75d-40ef-9461-b8ff87f7b892",
   "metadata": {},
   "source": [
    "Il est temps de terminer par la fonction principale. Complétez le squelette ci-dessous afin d’obtenir une procédure prête à être appelée :"
   ]
  },
  {
   "cell_type": "code",
   "execution_count": null,
   "id": "9f58b8b4-24da-49d3-82e8-c16360245702",
   "metadata": {},
   "outputs": [],
   "source": [
    "# your code here\n",
    "\n",
    "def main(path):\n",
    "    \"\"\"Main function to process data and plot the graph.\"\"\"\n",
    "    # get data\n",
    "    data = read_data(path)\n",
    "\n",
    "    # initialize axis\n",
    "    names, distances = [], []\n",
    "\n",
    "    # for each row in data\n",
    "    for name, height, slope in data:\n",
    "        # get distance in km\n",
    "        meters = distance(height, slope)\n",
    "        kilometers = mToKm(meters)\n",
    "        # append the name of the pass\n",
    "        # and the distance to the axis\n",
    "        names.append(name)\n",
    "        distances.append(kilometers)\n",
    "\n",
    "    # plot\n",
    "    plot_data(names, distances)"
   ]
  },
  {
   "cell_type": "markdown",
   "id": "cf40fd7d-e8c4-4eb1-a86d-df1ee9219abd",
   "metadata": {},
   "source": [
    "## Dernière étape : la procédure principale"
   ]
  },
  {
   "cell_type": "markdown",
   "id": "be953b48-1ac6-45dd-b03a-3f6831b7868e",
   "metadata": {},
   "source": [
    "Partie la plus simple de tout programme : lancer la fonction principale. À vous de jouer !"
   ]
  },
  {
   "cell_type": "code",
   "execution_count": null,
   "id": "4628fa13-2dce-48fc-b5f2-393548325796",
   "metadata": {},
   "outputs": [],
   "source": [
    "# your code here\n",
    "\n",
    "if __name__ == \"__main__\":\n",
    "\n",
    "    # path\n",
    "    file = '../data/mountain_passes.tsv'\n",
    "\n",
    "    # execute\n",
    "    main(file)"
   ]
  }
 ],
 "metadata": {
  "kernelspec": {
   "display_name": "Python 3 (ipykernel)",
   "language": "python",
   "name": "python3"
  },
  "language_info": {
   "codemirror_mode": {
    "name": "ipython",
    "version": 3
   },
   "file_extension": ".py",
   "mimetype": "text/x-python",
   "name": "python",
   "nbconvert_exporter": "python",
   "pygments_lexer": "ipython3",
   "version": "3.11.10"
  }
 },
 "nbformat": 4,
 "nbformat_minor": 5
}
