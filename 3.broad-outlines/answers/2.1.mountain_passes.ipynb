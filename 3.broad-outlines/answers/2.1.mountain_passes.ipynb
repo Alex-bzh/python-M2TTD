{
 "cells": [
  {
   "cell_type": "markdown",
   "id": "02767bc5-66ad-465f-83fe-413e8619eb47",
   "metadata": {},
   "source": [
    "# De hautes espérances"
   ]
  },
  {
   "cell_type": "markdown",
   "id": "48928b9b-9f8a-487e-9484-ce650ce474ac",
   "metadata": {},
   "source": [
    "Un exercice au long cours qui vous permettra de revoir, en plus des bonnes pratiques générales déjà acquises, certaines des structures fondamentales du langage Python.\n",
    "\n",
    "L’objectif est d’afficher un diagramme permettant de comparer les distances de plusieurs randonnées, calculées d’après la pente moyenne et la dénivelée positive depuis leur point de départ."
   ]
  },
  {
   "cell_type": "markdown",
   "id": "a3ff0ff0-5722-4c13-9a1c-bc831a872703",
   "metadata": {},
   "source": [
    "## Première étape : ébauche du programme"
   ]
  },
  {
   "cell_type": "markdown",
   "id": "71661952-06d5-4db2-8b1f-51ef6153c05d",
   "metadata": {},
   "source": [
    "Préparez dans un premier temps le squelette de votre programme : *shebang*, fonction `main()`, procédure principale… N’hésitez pas à lui attribuer les droits en exécution et testez son bon fonctionnement."
   ]
  },
  {
   "cell_type": "markdown",
   "id": "8237c403-44aa-40f1-8a52-8a1fab8c64ed",
   "metadata": {},
   "source": [
    "## Seconde étape : lire depuis un fichier"
   ]
  },
  {
   "cell_type": "markdown",
   "id": "2351226f-2e7a-403c-b8c8-80b0fe0e2afe",
   "metadata": {},
   "source": [
    "Dans le répertoire *data* vous trouverez un fichier intitulé [mountain_passes.tsv](../data/mountain_passes.tsv). Bien que portant une extension *.tsv*, il est au format CSV. Quelle est la différence ?\n",
    "\n",
    "**CSV :** *Comma-Separated Values*  \n",
    "**TSV :** *Tabulation-Separated Values*\n",
    "\n",
    "CSV est la dénomination officielle pour tous les fichiers plats qui permettent de représenter un tableau de données en respectant la structure :\n",
    "\n",
    "- un enregistrement par ligne ;\n",
    "- chaque donnée séparée de la précédente par un caractère.\n",
    "\n",
    "N’importe quel caractère peut être utilisé comme séparateur : le point-virgule, le tiret cadratin ou même une lettre ! La tabulation n’est qu’une possibilité parmi d’autres, mais une possibilité que l’on rencontre très fréquemment. Pour cette raison, elle dispose de sa propre extension *.tsv*, loin d’être officielle vu que l’on pourrait dénommer les fichiers avec l’extension *.csv* sans aucune perte de performance. Mieux encore, l’extension *.txt* est parfaitement convenable : les fichiers CSV ne sont au final que de très banals fichiers textes.\n",
    "\n",
    "En résumé, le format CSV présente de nombreux avantages, parmi lesquels :\n",
    "\n",
    "- un format plat, c’est-à-dire sans instruction de mise en forme (un caractère fait office de\n",
    "séparateur entre les champs de données) ;\n",
    "- une structure en lignes et en colonnes ;\n",
    "- une interopérabilité maximale avec des logiciels spécialisés (*LibreOffice Calc*, *Numbers*, *Excel*…) comme des éditeurs de textes simples.\n",
    "\n",
    "Même si Python parvient très bien à lire les fichiers CSV avec ses fonctions natives, il est préférable de faire appel à une bibliothèque logicielle spécialisée, opportunément nommée *csv*. Commencez par l’importer :"
   ]
  },
  {
   "cell_type": "code",
   "execution_count": null,
   "id": "7f2d2965-a6fa-4f9a-9e26-4e60173f5560",
   "metadata": {},
   "outputs": [],
   "source": [
    "# your code here\n",
    "\n",
    "import csv"
   ]
  },
  {
   "cell_type": "markdown",
   "id": "2eac8ef4-141e-4f5c-82d4-d7560ae44539",
   "metadata": {},
   "source": [
    "Consultez [la documentation de la bibliothèque](https://docs.python.org/3.11/library/csv.html#csv.DictReader) et utilisez la méthode `.DictReader()` pour lire les données et les ajouter à une variable `data` en respectant les recommandations suivantes :\n",
    "\n",
    "- la variable `data` sera de type `list` ;\n",
    "- elle recueillera des objets de type `tuple`, composés de trois éléments :\n",
    "    - une chaîne de caractères pour le nom du col ;\n",
    "    - un entier de type `int` pour la dénivelée ;\n",
    "    - et un dernier de type `float` pour la pente en pourcentage."
   ]
  },
  {
   "cell_type": "code",
   "execution_count": null,
   "id": "5a659c00-4829-4155-b164-93255cb0d5fc",
   "metadata": {},
   "outputs": [],
   "source": [
    "# your code here\n",
    "\n",
    "with open('../data/mountain_passes.tsv', newline='') as csvfile:\n",
    "    reader = csv.DictReader(csvfile, delimiter='\\t')\n",
    "    data = [\n",
    "        (line['pass'], int(line['drop']), float(line['slope']))\n",
    "        for line in reader\n",
    "    ]"
   ]
  },
  {
   "cell_type": "markdown",
   "id": "c671f239-6e40-4860-8cd4-03afaddd109a",
   "metadata": {},
   "source": [
    "## Troisième étape : un peu de trigonométrie"
   ]
  },
  {
   "cell_type": "markdown",
   "id": "33846880-d8c7-4f16-bad0-add24e7fe24e",
   "metadata": {},
   "source": [
    "Définissez une fonction `distance()` qui accepte deux paramètres `alt` et `gradient` afin de calculer une distance. Il s’agit de l’application de fonctions de trigonométrie. Une façon de procéder consiste à :\n",
    "\n",
    "1. obtenir la mesure en radians de l’angle stocké dans la variable `gradient` ;\n",
    "2. calculer l’arc tangente de l’angle ;\n",
    "3. déduire l’hypoténuse de la définition du sinus dans un triangle rectangle."
   ]
  },
  {
   "cell_type": "code",
   "execution_count": null,
   "id": "cd7a4ae8-42e1-49fd-97f4-15d7029a367e",
   "metadata": {},
   "outputs": [],
   "source": [
    "# your code here\n",
    "\n",
    "def distance(alt, gradient):\n",
    "    \"\"\"Calculates a distance based on the\n",
    "    elevation and the gradient.\n",
    "\n",
    "    Positional arguments:\n",
    "    alt -- the elevation\n",
    "    gradient -- the gradient in percentage\n",
    "    \"\"\"\n",
    "    # converting angle in percentage into radians\n",
    "    alpha = gradient / 100\n",
    "\n",
    "    # arc tangent of the angle\n",
    "    arc = math.atan(alpha)\n",
    "    \n",
    "    # sin(a) = o/h (soh cah toa)\n",
    "    hypo = alt / math.sin(arc)\n",
    "\n",
    "    return hypo"
   ]
  },
  {
   "cell_type": "code",
   "execution_count": null,
   "id": "aef59492-cb70-4943-86b9-506e763b1599",
   "metadata": {},
   "outputs": [],
   "source": [
    "def mToKm(m):\n",
    "    \"\"\"Conversion: meters to kilometers\n",
    "    \n",
    "    m -- int: meters\n",
    "    \"\"\"\n",
    "    return round(m / 1000, 2)"
   ]
  },
  {
   "cell_type": "code",
   "execution_count": null,
   "id": "1c654bd6-6490-4324-baa5-a521d1392f39",
   "metadata": {},
   "outputs": [],
   "source": [
    "def main():\n",
    "    \"\"\"Main function\"\"\"\n",
    "    with open('../data/mountain_passes.tsv', newline='') as csvfile:\n",
    "        reader = csv.DictReader(csvfile, delimiter='\\t')\n",
    "        data = [\n",
    "            (line['pass'], int(line['drop']), float(line['slope']))\n",
    "            for line in reader\n",
    "        ]\n",
    "    # Building the axis\n",
    "    x, y = [], []\n",
    "\n",
    "    # For each pass…\n",
    "    for mnt_pass in data:\n",
    "        # Informations\n",
    "        name = mnt_pass[0]\n",
    "        height = int(mnt_pass[1])\n",
    "        slope = float(mnt_pass[2])\n",
    "        # Calculates the distance\n",
    "        meters = distance(height, slope)\n",
    "        # Conversion in kms\n",
    "        kms = mToKm(meters)\n",
    "        # Data to graph\n",
    "        x.append(name)\n",
    "        y.append(kms)\n",
    "\n",
    "    # Ploting the bars\n",
    "    matplotlib.pyplot.bar(x, y)\n",
    "    matplotlib.pyplot.ylabel('Distance de la rando (en km)')\n",
    "    matplotlib.pyplot.show()"
   ]
  }
 ],
 "metadata": {
  "kernelspec": {
   "display_name": "Python 3 (ipykernel)",
   "language": "python",
   "name": "python3"
  },
  "language_info": {
   "codemirror_mode": {
    "name": "ipython",
    "version": 3
   },
   "file_extension": ".py",
   "mimetype": "text/x-python",
   "name": "python",
   "nbconvert_exporter": "python",
   "pygments_lexer": "ipython3",
   "version": "3.11.10"
  }
 },
 "nbformat": 4,
 "nbformat_minor": 5
}
