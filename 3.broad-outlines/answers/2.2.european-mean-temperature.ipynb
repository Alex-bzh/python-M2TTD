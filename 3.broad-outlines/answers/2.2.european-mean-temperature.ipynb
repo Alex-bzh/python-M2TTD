{
 "cells": [
  {
   "cell_type": "markdown",
   "id": "61d012b4-8475-4c1a-be9e-aec548ec7d17",
   "metadata": {},
   "source": [
    "# Analyse de la température moyenne en Europe"
   ]
  },
  {
   "cell_type": "markdown",
   "id": "0bb7b174-b98b-4e92-9ab5-556a2913a341",
   "metadata": {},
   "source": [
    "Au cours de cet exercice, vous serez amené·es à manipuler certains des concepts essentiels du langage Python en vue d’effectuer des calculs statistiques pour analyser des relevés de température en Europe, de 1950 à 2020. Notons tout de suite que ces données sont **factices**."
   ]
  },
  {
   "cell_type": "markdown",
   "id": "9b272ba4-3552-4edb-b48d-fb9399a9976b",
   "metadata": {},
   "source": [
    "## Préparation du programme"
   ]
  },
  {
   "cell_type": "markdown",
   "id": "4450d45c-189f-4ff4-839e-06e9169682d1",
   "metadata": {},
   "source": [
    "Commencez par réfléchir à la structuration de votre programme, puis mettez en place les premières structures dans votre script. L’objectif est, au terme, d’obtenir un fichier Python exécutable.\n",
    "\n",
    "Importez les bibliothèques logicielles nécessaires et préparez une fonction `read_data()` pour acquérir les données qui se trouvent dans un fichier [*european_temperatures.tsv*](../data/european_temperatures.tsv) stocké dans le répertoire *data*. Prenez le temps d’appréhender la structure du fichier :\n",
    "\n",
    "```csv\n",
    "country  year  jan  feb  …\n",
    "France  1950  4.0  …\n",
    "France  1951  1.8  …\n",
    "…\n",
    "France  2020  -0.2  …\n",
    "Allemagne  1950  4.4  …\n",
    "…\n",
    "```\n",
    "\n",
    "On recense, pour chaque année entre 1950 et 2020 comprises, les températures moyennes dans les pays européens pour les mois de janvier à décembre. Essayez de produire une structure de données sous forme de dictionnaire :\n",
    "\n",
    "```python\n",
    "data = {\n",
    "    'France': {\n",
    "        '1950': [4.0,…],\n",
    "        '1951': [1.8,…]\n",
    "    },\n",
    "    'Allemagne': {\n",
    "        '1950': [4.4]\n",
    "    }\n",
    "}\n",
    "```"
   ]
  },
  {
   "cell_type": "code",
   "execution_count": null,
   "id": "072dabdc-f7aa-439e-a281-935a3746bcf0",
   "metadata": {},
   "outputs": [],
   "source": []
  }
 ],
 "metadata": {
  "kernelspec": {
   "display_name": "Python 3 (ipykernel)",
   "language": "python",
   "name": "python3"
  },
  "language_info": {
   "codemirror_mode": {
    "name": "ipython",
    "version": 3
   },
   "file_extension": ".py",
   "mimetype": "text/x-python",
   "name": "python",
   "nbconvert_exporter": "python",
   "pygments_lexer": "ipython3",
   "version": "3.11.10"
  }
 },
 "nbformat": 4,
 "nbformat_minor": 5
}
