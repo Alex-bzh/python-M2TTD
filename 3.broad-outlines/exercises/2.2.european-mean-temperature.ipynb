{
 "cells": [
  {
   "cell_type": "markdown",
   "id": "61d012b4-8475-4c1a-be9e-aec548ec7d17",
   "metadata": {},
   "source": [
    "# Analyse de la température moyenne en Europe"
   ]
  },
  {
   "cell_type": "markdown",
   "id": "0bb7b174-b98b-4e92-9ab5-556a2913a341",
   "metadata": {},
   "source": [
    "Au cours de cet exercice, vous serez amené·es à manipuler certains des concepts essentiels du langage Python en vue d’effectuer des calculs statistiques pour analyser des relevés de température en Europe, de 1950 à 2020. Notons tout de suite que ces données sont **factices**."
   ]
  },
  {
   "cell_type": "markdown",
   "id": "9b272ba4-3552-4edb-b48d-fb9399a9976b",
   "metadata": {},
   "source": [
    "## Préparation du programme"
   ]
  },
  {
   "cell_type": "markdown",
   "id": "4450d45c-189f-4ff4-839e-06e9169682d1",
   "metadata": {},
   "source": [
    "Commencez par réfléchir à la structuration de votre programme, puis mettez en place les premières structures dans votre script. L’objectif est, au terme, d’obtenir un fichier Python exécutable.\n",
    "\n",
    "Importez les bibliothèques logicielles nécessaires et préparez une fonction `read_data()` pour acquérir les données qui se trouvent dans un fichier [*european_temperatures.tsv*](../data/european_temperatures.tsv) stocké dans le répertoire *data*. Prenez le temps d’appréhender la structure du fichier :\n",
    "\n",
    "```csv\n",
    "country  year  jan  feb  …\n",
    "France  1950  4.0  …\n",
    "France  1951  1.8  …\n",
    "…\n",
    "France  2020  -0.2  …\n",
    "Allemagne  1950  4.4  …\n",
    "…\n",
    "```\n",
    "\n",
    "On recense, pour chaque année entre 1950 et 2020 comprises, les températures moyennes dans les pays européens pour les mois de janvier à décembre. Essayez de produire une structure de données sous forme de dictionnaire :\n",
    "\n",
    "```python\n",
    "data = {\n",
    "    'France': {\n",
    "        '1950': [4.0,…],\n",
    "        '1951': [1.8,…]\n",
    "    },\n",
    "    'Allemagne': {\n",
    "        '1950': [4.4]\n",
    "    }\n",
    "}\n",
    "```"
   ]
  },
  {
   "cell_type": "code",
   "execution_count": null,
   "id": "5d9330c0-ea01-462d-8476-a9c963662987",
   "metadata": {},
   "outputs": [],
   "source": [
    "# your code here"
   ]
  },
  {
   "cell_type": "markdown",
   "id": "d94f236b-d920-4b0e-bb84-9792718cf2f5",
   "metadata": {},
   "source": [
    "## Analyse descriptive des données"
   ]
  },
  {
   "cell_type": "markdown",
   "id": "29e7a327-1fe0-4581-867d-946b54396e6b",
   "metadata": {},
   "source": [
    "Préparez à présent une fonction `average_temperature()` qui prenne en entrée votre structure de données et renvoie la température moyenne par pays et par année :"
   ]
  },
  {
   "cell_type": "code",
   "execution_count": null,
   "id": "e735a5c8-9feb-4e1e-884b-2d0741daae08",
   "metadata": {},
   "outputs": [],
   "source": [
    "# your code here"
   ]
  },
  {
   "cell_type": "markdown",
   "id": "be997dd7-8ab9-4990-aee8-8062e4363ae8",
   "metadata": {},
   "source": [
    "Récoltons les températures moyennes dans une variable `averages` :"
   ]
  },
  {
   "cell_type": "code",
   "execution_count": null,
   "id": "09c26b2c-4ca1-4165-836b-b36283a4c2c0",
   "metadata": {},
   "outputs": [],
   "source": [
    "# call function\n",
    "averages = average_temperature(data)"
   ]
  },
  {
   "cell_type": "markdown",
   "id": "b3c90a54-688d-4ae2-b119-0215288c84f1",
   "metadata": {},
   "source": [
    "Il est temps maintenant d’avoir un aperçu des données récoltées. Concevez une fonction `plot_temperature_evolution()` qui affiche un graphique pour représenter l’évolution des températures pour un pays donné :"
   ]
  },
  {
   "cell_type": "code",
   "execution_count": null,
   "id": "d48d949e-2d56-413f-87ed-ad05526c06ce",
   "metadata": {},
   "outputs": [],
   "source": [
    "import matplotlib.pyplot as plt\n",
    "\n",
    "def plot_temperature_evolution(data, country):\n",
    "    \"\"\"Displays a graph showing the change in\n",
    "    average temperature per year for a given country.\n",
    "\n",
    "    Arguments:\n",
    "    data -- dctionary containing average temperatures by country and year.\n",
    "    country -- the name of the country.\n",
    "    \"\"\"\n",
    "\n",
    "    # extract years and average temperatures to plot in the axis\n",
    "    years = sorted([ int(year) for year in data[country].keys() ])\n",
    "    avg_temperatures = [ data[country][str(year)] for year in years ]\n",
    "\n",
    "    # conceive the graph\n",
    "    plt.figure(figsize=(10, 5))\n",
    "    plt.plot(years, avg_temperatures, marker='o', linestyle='-', color='m', label=f'Average temperature for {country}')\n",
    "\n",
    "    # some labels\n",
    "    plt.xlabel('Year')\n",
    "    plt.ylabel('Average temperature (°C)')\n",
    "    plt.title(f\"Evolution of the temperature between 1950 and 2020 - {country}\")\n",
    "    plt.grid(True)\n",
    "    plt.legend()\n",
    "    plt.ylim(5, 20)\n",
    "\n",
    "    # display the graph\n",
    "    plt.show()"
   ]
  },
  {
   "cell_type": "markdown",
   "id": "053ac0c8-947d-4554-b6d9-528b0e19e0f0",
   "metadata": {},
   "source": [
    "Vérifions que votre fonction renvoie bien un graphique :"
   ]
  },
  {
   "cell_type": "code",
   "execution_count": null,
   "id": "a50a1126-2bda-48d6-855b-664cf01ac093",
   "metadata": {},
   "outputs": [],
   "source": [
    "# call function\n",
    "plot_temperature_evolution(averages, 'Estonie')"
   ]
  },
  {
   "cell_type": "markdown",
   "id": "0c5566f9-ba14-41f4-8e0a-4da969897249",
   "metadata": {},
   "source": [
    "## Établir une tendance centrale"
   ]
  },
  {
   "cell_type": "markdown",
   "id": "18e2ab56-3c95-4271-aff0-0aa12cc77411",
   "metadata": {},
   "source": [
    "Les températures moyennes varient assez fortement d’une année sur l’autre sans dessiner forcément de tendance soit à la hausse, soit à la baisse. Afin d’en juger, vous aurez besoin d’un indicateur. Pourquoi ne pas utiliser la régression linéaire ?\n",
    "\n",
    "En vous aidant de la méthode des moindres carrés, établissez deux fonctions `slope()` et `intercept()` pour déterminer le coefficient directeur et l’ordonnée à l’origine de la droite de régression :"
   ]
  },
  {
   "cell_type": "code",
   "execution_count": null,
   "id": "ad9286ab-a693-477d-a5d7-9bd680cbbff4",
   "metadata": {},
   "outputs": [],
   "source": [
    "# your code here"
   ]
  },
  {
   "cell_type": "markdown",
   "id": "7803ba27-22cd-486f-9216-d1278d894297",
   "metadata": {},
   "source": [
    "Concevez à présent une fonction `prediction()` pour résoudre l’équation réduite d’une droite. Elle acceptera en entrée une valeur de $x$, le coefficient directeur et l’ordonnée à l’origine :"
   ]
  },
  {
   "cell_type": "code",
   "execution_count": null,
   "id": "37b404bf-b897-46ea-9e67-854a14af1c23",
   "metadata": {},
   "outputs": [],
   "source": [
    "# your code here"
   ]
  },
  {
   "cell_type": "markdown",
   "id": "d36b2d07-d503-4820-8fef-0826e1ae486e",
   "metadata": {},
   "source": [
    "L’objectif est maintenant d’obtenir les coordonnées $x$ et $y$ d’un relevé de températures. Créez une fonction `get_coords()` qui renvoie deux objets de type `np.array` pour les années et les températures :"
   ]
  },
  {
   "cell_type": "code",
   "execution_count": null,
   "id": "e0db0ed8-d048-47a7-845f-59af800a0d87",
   "metadata": {},
   "outputs": [],
   "source": [
    "# your code here"
   ]
  },
  {
   "cell_type": "markdown",
   "id": "0ec214ea-101c-4486-9200-cf1dae15537a",
   "metadata": {},
   "source": [
    "Récupérez les coordonnées d’un pays européen dans deux variables `X` et `Y` :"
   ]
  },
  {
   "cell_type": "code",
   "execution_count": null,
   "id": "27fb9784-ae69-4246-a6ea-bc78b26b0842",
   "metadata": {},
   "outputs": [],
   "source": [
    "# your code here"
   ]
  },
  {
   "cell_type": "markdown",
   "id": "f047ca81-44be-4a2a-8a9d-387a5aaa95ec",
   "metadata": {},
   "source": [
    "Calculez dans deux variables `m` et `b` le coefficient directeur et l’ordonnée à l’origine de la droite de régression linéaire en utilisant les fonctions que vous avez définies plus haut :"
   ]
  },
  {
   "cell_type": "code",
   "execution_count": null,
   "id": "c98c2d99-365f-4886-818a-77a276d2b9dd",
   "metadata": {},
   "outputs": [],
   "source": [
    "# your code here"
   ]
  },
  {
   "cell_type": "markdown",
   "id": "867baa5d-7ea5-4118-b5f9-4e0511503cea",
   "metadata": {},
   "source": [
    "Effectuez des prédictions pour toutes les années de `X` :"
   ]
  },
  {
   "cell_type": "code",
   "execution_count": null,
   "id": "c32765d7-306e-4a4e-aa57-f928cd3bf885",
   "metadata": {},
   "outputs": [],
   "source": [
    "# your code here"
   ]
  },
  {
   "cell_type": "markdown",
   "id": "b58401ca-7854-413d-8dc5-2d96124f53b2",
   "metadata": {},
   "source": [
    "Exécutez le code ci-dessous pour afficher le graphique :"
   ]
  },
  {
   "cell_type": "code",
   "execution_count": null,
   "id": "370add37-6cbb-4597-8694-efbebf788c68",
   "metadata": {},
   "outputs": [],
   "source": [
    "ax = plt.subplots(figsize=(10,5))\n",
    "\n",
    "ax = plt.plot(X, Y_pred, color='c')\n",
    "ax = plt.scatter(X, Y, marker='x', color='m',)\n",
    "\n",
    "plt.xlabel('Year')\n",
    "plt.ylabel('Average temperature (°C)')\n",
    "# plt.ylim(5, 20)\n",
    "\n",
    "plt.show()"
   ]
  },
  {
   "cell_type": "markdown",
   "id": "707fbc3b-e819-4bab-a136-3b19fed28f6a",
   "metadata": {},
   "source": [
    "Afin de le rendre plus lisible, décommentez la ligne qui réajuste l’échelle sur l’axe des ordonnées."
   ]
  },
  {
   "cell_type": "markdown",
   "id": "c55028e8-d8af-4e4f-9048-7bb8bb62cf5f",
   "metadata": {},
   "source": [
    "## Analyser la variabilité des données"
   ]
  },
  {
   "cell_type": "markdown",
   "id": "068c1258-f099-48f8-9417-66549ed76883",
   "metadata": {},
   "source": [
    "Si l’étude de la température moyenne par année dans les pays européens nous donne un bon aperçu d’une tendance qui se dégage – et, à toutes fins utiles, rappelons que nos données sont générées aléatoirement et qu’elles ne représentent pas une situation réelle –, on ne peut pas juger de la stabilité de la situation.\n",
    "\n",
    "Pour cela, nous allons faire appel à une autre mesure statistique : l’écart-type ou *standard deviation*, qui rend compte de la dispersion des données autour de leur moyenne. La formule vaut :\n",
    "\n",
    "$$\n",
    "\\sigma = \\sqrt{\\frac{1}{n} \\sum_{i=1}^{n} (x_i - \\mu)^2}\n",
    "$$\n",
    "\n",
    "Où :\n",
    "\n",
    "- $x_i$ représente chaque température individuellement ;\n",
    "- $\\mu$ est la moyenne des valeurs ;\n",
    "- $n$ est le nombre des observations.\n",
    "\n",
    "Écrivez une fonction `std_deviation()` qui, à partir d’une liste de températures, détermine pour une série de données, c’est-à-dire pour un pays, l’écart-type de ses moyennes de température :"
   ]
  },
  {
   "cell_type": "code",
   "execution_count": null,
   "id": "ba294fb1-9b78-48d3-8daf-50ab518889e3",
   "metadata": {},
   "outputs": [],
   "source": [
    "# your code here"
   ]
  },
  {
   "cell_type": "markdown",
   "id": "66dcd213-94a8-4e8d-b80c-f0401018dc19",
   "metadata": {},
   "source": [
    "Vérifiez avec les valeurs de l’Italie :"
   ]
  },
  {
   "cell_type": "code",
   "execution_count": null,
   "id": "47dd70a1-7080-499f-bbf5-660f870a3461",
   "metadata": {},
   "outputs": [],
   "source": [
    "temperatures = list(averages['Italie'].values())\n",
    "\n",
    "print(std_deviation(temperatures))"
   ]
  },
  {
   "cell_type": "markdown",
   "id": "7c388da6-3c73-4b3f-bcab-e4a41bdb3b1e",
   "metadata": {},
   "source": [
    "Il devient ainsi possible de calculer l’écart-type pour les moyennes de tous les pays européens :"
   ]
  },
  {
   "cell_type": "code",
   "execution_count": null,
   "id": "684cac01-cc82-40dd-876f-2e7db441349a",
   "metadata": {},
   "outputs": [],
   "source": [
    "std_deviations = [\n",
    "    (country, std_deviation(list(years.values())))\n",
    "    for country, years in averages.items()\n",
    "]"
   ]
  },
  {
   "cell_type": "markdown",
   "id": "23e2ee4c-46c8-46df-ab75-c8d3798c8ff3",
   "metadata": {},
   "source": [
    "Et de les trier par ordre croissant afin de révéler les pays dont le climat est le plus stable :"
   ]
  },
  {
   "cell_type": "code",
   "execution_count": null,
   "id": "4d336a71-79ba-4449-a1d4-cf186b5e7210",
   "metadata": {},
   "outputs": [],
   "source": [
    "std_deviations.sort(key=lambda x: x[1])"
   ]
  },
  {
   "cell_type": "markdown",
   "id": "6e3997ef-8c11-4841-a96d-524b1dd7a4b1",
   "metadata": {},
   "source": [
    "## Un système d’alerte"
   ]
  },
  {
   "cell_type": "markdown",
   "id": "6d081d05-dddc-4150-9ed9-fff4abe1839a",
   "metadata": {},
   "source": [
    "La finalité de ces traitements serait de créer un système d’alerte pour détecter des valeurs anormales.\n",
    "\n",
    "Supposons que la moyenne des températures relevées en Allemagne entre 1950 et 2020 soit établie à 11,20°C pour un écart-type de 0,80. De nouvelles données sont disponibles : la moyenne pour 2021 est de 12,25°C. L’écart entre le relevé de 2021 et la moyenne observée jusqu’à maintenant est de $12,25 - 11,20 = 1,05$, soit 0,35 au-dessus de l’écart-type.\n",
    "\n",
    "Pour autant, est-ce alarmant ? En statistiques, on considère que, pour une distribution normale, 95,45 % des observations se situent à $\\pm 2 \\sigma$. Dans le cas de l’Allemagne, on devrait considérer une situation climatique anormale à partir du moment où la moyenne annuelle se situerait dans un intervalle de $[11,20 - 2 \\times 0,80;11,20 + 2 \\times 0,80]$\n",
    "\n",
    "Voici le relevé des températures moyennes pour 2021 :"
   ]
  },
  {
   "cell_type": "code",
   "execution_count": null,
   "id": "68cf8b64-243f-4025-8e88-fd368067dbda",
   "metadata": {},
   "outputs": [],
   "source": [
    "deutschland_year_2021 = {\n",
    "    'january': 7.8,\n",
    "    'february': 5.8,\n",
    "    'march': 9.6,\n",
    "    'april': 13.3,\n",
    "    'may': 18.4,\n",
    "    'june': 19.6,\n",
    "    'july': 24.8,\n",
    "    'august': 21.7,\n",
    "    'september': 16.5,\n",
    "    'october': 13.3,\n",
    "    'november': 9.8,\n",
    "    'december': 7.7\n",
    "}"
   ]
  },
  {
   "cell_type": "markdown",
   "id": "c9bd55ed-83e5-42ea-acdf-6964771aab52",
   "metadata": {},
   "source": [
    "L’année a-t-elle été plus chaude ou plus fraîche que d’habitude en Allemagne ? Concevez une procédure qui, à l’aide de conditions, permette de le déterminer :"
   ]
  },
  {
   "cell_type": "code",
   "execution_count": null,
   "id": "93c4a73c-b781-4f2a-b6a2-7e8f8e1d95c1",
   "metadata": {},
   "outputs": [],
   "source": [
    "# your code here"
   ]
  }
 ],
 "metadata": {
  "kernelspec": {
   "display_name": "Python 3 (ipykernel)",
   "language": "python",
   "name": "python3"
  },
  "language_info": {
   "codemirror_mode": {
    "name": "ipython",
    "version": 3
   },
   "file_extension": ".py",
   "mimetype": "text/x-python",
   "name": "python",
   "nbconvert_exporter": "python",
   "pygments_lexer": "ipython3",
   "version": "3.11.10"
  }
 },
 "nbformat": 4,
 "nbformat_minor": 5
}
