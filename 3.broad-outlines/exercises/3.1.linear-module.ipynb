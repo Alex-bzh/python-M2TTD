{
 "cells": [
  {
   "cell_type": "markdown",
   "id": "832ff444-c91e-4344-9576-23d370db264e",
   "metadata": {},
   "source": [
    "# Un module très linéaire"
   ]
  },
  {
   "cell_type": "markdown",
   "id": "9f0118e8-9e93-47e4-82f4-2f48d553d78e",
   "metadata": {},
   "source": [
    "Retravaillez le script [*linear_regression.py*](../scripts/linear_regression.py) que vous aviez complété à l’aide du calepin [*Concevoir un programme en Python*](../2.designing-a-programme.ipynb) afin de faire appel au module *dummy* existant et à un autre de votre conception, appelé *linear_model*, dans lequel vous reporterez toutes les fonctions nécessaires pour effectuer une régression linéaire."
   ]
  }
 ],
 "metadata": {
  "kernelspec": {
   "display_name": "Python 3 (ipykernel)",
   "language": "python",
   "name": "python3"
  },
  "language_info": {
   "codemirror_mode": {
    "name": "ipython",
    "version": 3
   },
   "file_extension": ".py",
   "mimetype": "text/x-python",
   "name": "python",
   "nbconvert_exporter": "python",
   "pygments_lexer": "ipython3",
   "version": "3.10.6"
  }
 },
 "nbformat": 4,
 "nbformat_minor": 5
}
