{
 "cells": [
  {
   "cell_type": "markdown",
   "id": "9c9d6ca2-b59e-4de8-8fa2-ad124acefc3a",
   "metadata": {},
   "source": [
    "# Quelques mesures statistiques"
   ]
  },
  {
   "cell_type": "markdown",
   "id": "89af3bc5-722e-45e6-b01f-b00687d598f3",
   "metadata": {},
   "source": [
    "Les mesures que nous abordons dans ce chapitre servent à synthétiser les résultats des observations d’une variable aléatoire, à l’instar des populaires moyenne et médiane. En plus de ces mesures de tendance centrale, nous explorons des mesures de la dispersion des données, comme la variance ou l’écart-type.\n",
    "\n",
    "Pour illustrer les différentes méthodes décrites dans ce calepin électronique, nous nous appuierons sur une liste de trois cents nombres aléatoires entre 15 et 80, afin de simuler une variable aléatoire qui enregistrerait dans une enquête statistique l’âge des individus interrogés :"
   ]
  },
  {
   "cell_type": "code",
   "execution_count": null,
   "id": "dc9001a8-c544-49cc-aabf-c544c2cca5cd",
   "metadata": {},
   "outputs": [],
   "source": [
    "import numpy as np\n",
    "import random\n",
    "\n",
    "# 300 values between 15-80\n",
    "ages = [\n",
    "    random.randint(15, 80)\n",
    "    for _ in range(300)\n",
    "]\n",
    "\n",
    "# some extreme values\n",
    "outliers = [5, 110, 120, 0, 150]\n",
    "ages.extend(outliers)\n",
    "\n",
    "# shuffle\n",
    "random.shuffle(ages)"
   ]
  },
  {
   "cell_type": "markdown",
   "id": "7f08c1af-03a4-4827-b215-6c2623d528c2",
   "metadata": {},
   "source": [
    "## Les mesures de tendance centrale"
   ]
  },
  {
   "cell_type": "markdown",
   "id": "c9ea9ea3-28ea-4323-bb86-130462c30df4",
   "metadata": {},
   "source": [
    "### La moyenne"
   ]
  },
  {
   "cell_type": "markdown",
   "id": "4f2e6d7a-9a4b-42d4-bf90-8e00a291dee3",
   "metadata": {},
   "source": [
    "Il existe trois types de moyennes que l’on peut juger opportun de calculer pour une série statistique :\n",
    "\n",
    "- La moyenne arithmétique, qui est une simple division de la somme des observations d’une variable par le nombre des observations ;\n",
    "- la moyenne tronquée, qui reprend le principe de la première en soustrayant les valeurs extrêmes ;\n",
    "- la moyenne pondérée, qui affecte un poids différent à une ou plusieurs observations."
   ]
  },
  {
   "cell_type": "markdown",
   "id": "3b362108-e0df-411f-8d11-80d6dd754e84",
   "metadata": {},
   "source": [
    "#### La moyenne arithmétique"
   ]
  },
  {
   "cell_type": "markdown",
   "id": "855534e7-6218-4714-b7c2-9f68e2a2eaff",
   "metadata": {},
   "source": [
    "Il s’agit de faire la somme de toutes les valeurs et de la diviser par le nombre des valeurs, selon la formule :\n",
    "\n",
    "$$\n",
    "\\bar{x} = \\dfrac{x_1 + x_2 + \\ldots + x_n}{n}\n",
    "$$\n",
    "\n",
    "Avec Python :"
   ]
  },
  {
   "cell_type": "code",
   "execution_count": null,
   "id": "6c044840-1845-46b2-b0c5-2f910f96319d",
   "metadata": {},
   "outputs": [],
   "source": [
    "mean = sum(ages) / len(ages)\n",
    "\n",
    "print(f\"L’âge moyen est de {mean:.2f} ans.\")"
   ]
  },
  {
   "cell_type": "markdown",
   "id": "f7074449-f198-4def-b6b5-a48afe09659c",
   "metadata": {},
   "source": [
    "Il est également possible d’utiliser la fonction `mean()` du module `statistics`."
   ]
  },
  {
   "cell_type": "markdown",
   "id": "74a60a2e-b925-4468-b86f-87d577600ca5",
   "metadata": {},
   "source": [
    "#### La moyenne réduite"
   ]
  },
  {
   "cell_type": "markdown",
   "id": "52f4c4ad-0b37-4ec5-83b8-65847a2359b4",
   "metadata": {},
   "source": [
    "Pour obtenir cette mesure, on va simplement retirer certaines valeurs et appliquer ensuite le calcul de la moyenne arithmétique. Parmi les stratégies possibles, la plus courante consiste à trier les données et à retirer le même nombre de valeurs à droite et à gauche afin de réduire l’impact des données extrêmes voire aberrantes :\n",
    "\n",
    "$$\n",
    "\\bar{x} = \\dfrac{x_2 + x_3 + \\ldots + x_{n-1}}{n-2}\n",
    "$$\n",
    "\n",
    "Avec Python :"
   ]
  },
  {
   "cell_type": "code",
   "execution_count": null,
   "id": "0a63f4c9-7995-48a3-ba56-51ca4ad97641",
   "metadata": {},
   "outputs": [],
   "source": [
    "# sort\n",
    "ages_sorted = sorted(ages)\n",
    "# nb of values to remove on one side\n",
    "z = 2\n",
    "\n",
    "mean = sum(ages_sorted[z:-z]) / len(ages_sorted) - z * 2\n",
    "\n",
    "print(f\"L’âge moyen est de {mean:.2f} ans.\")"
   ]
  },
  {
   "cell_type": "markdown",
   "id": "5e742d23-6717-4b32-8d59-59c07e823478",
   "metadata": {},
   "source": [
    "#### La moyenne pondérée"
   ]
  },
  {
   "cell_type": "markdown",
   "id": "f479cdd6-6d49-4703-bdc1-cad9032be92b",
   "metadata": {},
   "source": [
    "La moyenne pondérée attribue un poids à chaque valeur afin de déterminer la force de leur impact dans l’ensemble des données :"
   ]
  },
  {
   "cell_type": "markdown",
   "id": "8252f5e8-e72c-4928-ad56-50478bbd30f3",
   "metadata": {},
   "source": [
    "$$\n",
    "\\bar{x} = \\dfrac{\\alpha_1 x_1 + \\alpha_2 x_2 + \\ldots + \\alpha_n x_n}{\\alpha_1 + \\alpha_1 + \\ldots + \\alpha_n}\n",
    "$$\n",
    "\n",
    "**Cas particulier :** si la somme des poids est égale à 1, la formule se simplifie en :\n",
    "\n",
    "$$\n",
    "\\bar{x} = \\sum_{i=1}^{n} \\alpha_i x_i\n",
    "$$\n",
    "\n",
    "Avec Python :"
   ]
  },
  {
   "cell_type": "code",
   "execution_count": null,
   "id": "f1341433-d3ce-4d03-a8d8-88c4b208f7e5",
   "metadata": {},
   "outputs": [],
   "source": [
    "weights = [ random.random() for _ in range(len(ages)) ]\n",
    "\n",
    "mean = sum([ age * weight for age, weight in zip(ages, weights) ]) / sum(weights)\n",
    "\n",
    "print(f\"L’âge moyen pondéré est de {mean:.2f} ans.\")"
   ]
  },
  {
   "cell_type": "markdown",
   "id": "1de594e1-436d-4599-be0c-07f62312a2e5",
   "metadata": {},
   "source": [
    "Il existe une méthode `.average()` dans la bibliothèque *Numpy* pour réaliser la même opération :"
   ]
  },
  {
   "cell_type": "code",
   "execution_count": null,
   "id": "4c4db045-439a-4bdd-96e5-55ade07e5d7a",
   "metadata": {},
   "outputs": [],
   "source": [
    "mean = np.average(ages, weights=weights)"
   ]
  },
  {
   "cell_type": "markdown",
   "id": "8e20fd86-6671-4290-a1fd-55eddde12437",
   "metadata": {},
   "source": [
    "### La médiane"
   ]
  },
  {
   "cell_type": "markdown",
   "id": "548a7e8f-65b0-4202-84cb-c8fe333e9ba9",
   "metadata": {},
   "source": [
    "Comme le met en lumière le calcul de la moyenne réduite, les valeurs extrêmes peuvent influer fortement sur la moyenne des valeurs d’une variable. Parfois, une simple erreur de saisie, comme l’ajout d'un zéro à la fin de la numération des globules rouges (50 000 000 au lieu de 5 000 000 d’hématies) ou le déplacement de la virgule dans le taux d’endettement d’un pays (18,16 % au lieu de 181,6 %) peuvent renvoyer une image fausse de la réalité.\n",
    "\n",
    "La médiane est une mesure qui va d’abord trier les valeurs en deux groupes égaux et se positionner ensuite entre eux. Contrairement à la moyenne arithmétique, la médiane est une mesure observée avec un sens concret : il y a autant d’individus à droite qu’à gauche de la séparation.\n",
    "\n",
    "$$\n",
    "\\text{Médiane} = \n",
    "\\begin{cases} \n",
    "\\text{élément au rang } \\left(\\frac{n+1}{2}\\right) & \\text{si } n \\text{ est impair} \\\\\n",
    "\\frac{\\text{élément au rang } \\left(\\frac{n}{2}\\right) + \\text{élément au rang } \\left(\\frac{n}{2} + 1\\right)}{2} & \\text{si } n \\text{ est pair}\n",
    "\\end{cases}\n",
    "$$"
   ]
  },
  {
   "cell_type": "code",
   "execution_count": null,
   "id": "b8882347-8ad2-4284-992f-671be9dc86f7",
   "metadata": {},
   "outputs": [],
   "source": [
    "n = len(ages_sorted)\n",
    "\n",
    "median = ages_sorted[n // 2] if n % 2 else (ages_sorted[n // 2 - 1] + ages_sorted[n // 2]) / 2\n",
    "\n",
    "print(f\"L’âge médian est de {median:.2f} ans.\")"
   ]
  },
  {
   "cell_type": "markdown",
   "id": "2d68260a-cacc-4cb4-a062-abb3e3ccdb5e",
   "metadata": {},
   "source": [
    "Et, cette fois-ci, le module `statistics` connaît une fonction `median()` pour réaliser le calcul directement"
   ]
  },
  {
   "cell_type": "markdown",
   "id": "8455a6e3-60ce-4a45-be4a-af2002874551",
   "metadata": {},
   "source": [
    "### Le mode"
   ]
  },
  {
   "cell_type": "markdown",
   "id": "b6e99c0e-78a1-40e6-9f35-6f50542bd61c",
   "metadata": {},
   "source": [
    "Le mode est simplement l’expression de la valeur la plus représentée dans une série statistique. Elle implique une opération de dédoublonnage et de comptage des occurrences de chaque valeur pour ressortir celle qui est la plus fréquente.\n",
    "\n",
    "**Remarque :** Le mode n’est une mesure de la tendance centrale qu’en présence d’une série statistiques unimodale dont la distribution répond à une loi normale. Dès lors que l’on observe une asymétrie ou un phénomène de multimodalité, le mode n’est plus que l’indicateur de popularité d’une valeur.\n",
    "\n",
    "Avec Python :"
   ]
  },
  {
   "cell_type": "code",
   "execution_count": null,
   "id": "f70662a7-cf74-4073-9037-5f3b848a88a1",
   "metadata": {},
   "outputs": [],
   "source": [
    "frequencies = { age: ages.count(age) for age in set(ages) }\n",
    "mode = max(frequencies, key=frequencies.get)\n",
    "\n",
    "print(f\"Une majorité de personnes ont {mode:} ans.\")"
   ]
  },
  {
   "cell_type": "markdown",
   "id": "f0e7371b-5bae-4575-a671-dbfbdc83f480",
   "metadata": {},
   "source": [
    "Là encore, le module `statistics` fournit une fonction `mode()` pour obtenir la mesure sans déployer soi-même une stratégie. Et, dans le cas de distributions multimodales, on fera plutôt appel à la fonction `multimode()`."
   ]
  },
  {
   "cell_type": "markdown",
   "id": "bc3d64d9-5d9d-443f-918f-35f71f068971",
   "metadata": {},
   "source": [
    "### Les quantiles"
   ]
  },
  {
   "cell_type": "markdown",
   "id": "6cb3db66-0581-4fb9-baaa-d6b76fad60da",
   "metadata": {},
   "source": [
    "Les quantiles servent à séparer une série en *n* groupes égaux. La médiane est un exemple de quantile d’ordre $\\frac{1}{2}$. Ceux que l’on rencontre le plus souvent sont les quartiles ($\\frac{1}{4}$), les déciles ($\\frac{1}{10}$) et les percentiles ($\\frac{1}{100}$). En pratique, ils servent à attester qu’une certaine proportion d’individus se situe en dessous d’un certain seuil.\n",
    "\n",
    "Une mesure intéressante est **l’intervalle interquartile** qui désigne l’intervalle entre le 1er et le 3e quartiles, tel qu’il contienne 50 % des valeurs de la série.\n",
    "\n",
    "$$\n",
    "Q_p = \\left( \\frac{(n+1) \\cdot p}{100} \\right)\n",
    "$$\n",
    "\n",
    "Avec Python :"
   ]
  },
  {
   "cell_type": "code",
   "execution_count": null,
   "id": "ec210d0d-ff28-43bb-b337-99b8fa7cff00",
   "metadata": {},
   "outputs": [],
   "source": [
    "q = 0.25 # quantile\n",
    "n = len(ages_sorted)\n",
    "position = (n - 1) * q\n",
    "lower = int(position)\n",
    "upper = lower + 1\n",
    "\n",
    "if upper < n:\n",
    "    alpha = ages_sorted[lower] + (position - lower) * (ages_sorted[upper] - ages_sorted[lower])\n",
    "else:\n",
    "    alpha = ages_sorted[lower]\n",
    "\n",
    "print(f\"{q:.2%} des personnes interrogées se situent en dessous de {int(alpha)} ans.\")"
   ]
  },
  {
   "cell_type": "markdown",
   "id": "73a4c551-986c-4fac-a65d-03ed618c7b1a",
   "metadata": {},
   "source": [
    "Avec *Numpy*, on peut employer la méthode `.percentile()` :"
   ]
  },
  {
   "cell_type": "code",
   "execution_count": null,
   "id": "5ff19a13-8426-48a9-b341-27e3afa99855",
   "metadata": {},
   "outputs": [],
   "source": [
    "np.percentile(a=ages, q=25)"
   ]
  },
  {
   "cell_type": "markdown",
   "id": "be7bd5e1-a4bb-4a0b-8ae7-0d3efcc99b2c",
   "metadata": {},
   "source": [
    "### La proportion cumulative"
   ]
  },
  {
   "cell_type": "markdown",
   "id": "5cf2171a-1da3-4a6f-a6ff-d6605219ac7e",
   "metadata": {},
   "source": [
    "À l’inverse des quantiles, il est possible de déterminer quelle proportion d’individus est sous un certain seuil. Pour cela, il convient de trier les données, de dénombrer les valeurs jusqu’au seuil et de diviser par le nombre total d’observations.\n",
    "\n",
    "Avec Python :"
   ]
  },
  {
   "cell_type": "code",
   "execution_count": null,
   "id": "4d8b0529-69a8-4bfd-9aa3-680abcafdd97",
   "metadata": {},
   "outputs": [],
   "source": [
    "alpha = 40\n",
    "count = sum(map(lambda x: x <= alpha, ages))\n",
    "p = count / len(ages)\n",
    "\n",
    "print(f\"{p:.2%} des individus interrogés ont en dessous de 40 ans.\")"
   ]
  },
  {
   "cell_type": "markdown",
   "id": "56ecfc6b-a628-44db-a605-4a43da315160",
   "metadata": {},
   "source": [
    "## Les mesures de dispersion"
   ]
  },
  {
   "cell_type": "markdown",
   "id": "b2e8a22f-afc0-41cc-b54c-65f81a4c9910",
   "metadata": {},
   "source": [
    "Les mesures de dispersion servent à déterminer à quel point les données sont étalées autour de la moyenne, ce qui permet d’évaluer leur stabilité et leur concentration. Plus la dispersion est faible, plus les données sont resserrées et proches de la moyenne."
   ]
  },
  {
   "cell_type": "markdown",
   "id": "b860f9c9-4f23-49f1-a56f-40a8fefd97c8",
   "metadata": {},
   "source": [
    "### La variance"
   ]
  },
  {
   "cell_type": "markdown",
   "id": "ba578561-aefc-4a37-8cba-c7e4e9ffe497",
   "metadata": {},
   "source": [
    "#### La variance empirique"
   ]
  },
  {
   "cell_type": "markdown",
   "id": "82387fac-0031-4cc6-a5ac-f275d82350c8",
   "metadata": {},
   "source": [
    "Cette mesure quantifie la dispersion des valeurs d’un échantillon autour de leur moyenne. Pour la déterminer, on fait la moyenne du carré des écarts des valeurs à la moyenne, conformémement à la formule :\n",
    "\n",
    "$$\n",
    "s^2 = \\frac{1}{n} \\sum_{i=1}^{n} (x_i - \\bar{x})^2\n",
    "$$\n",
    "\n",
    "Avec Python :"
   ]
  },
  {
   "cell_type": "code",
   "execution_count": null,
   "id": "f195d24d-05af-4e56-9257-b2d1d82379d1",
   "metadata": {},
   "outputs": [],
   "source": [
    "mean = sum(ages) / len(ages)\n",
    "\n",
    "# sum of squared errors\n",
    "SE = sum(map(lambda x: (x - mean) ** 2, ages))\n",
    "\n",
    "# mean of squared errors\n",
    "var = SE / len(ages)\n",
    "\n",
    "print(f\"La variance de l’échantillon est de {var:.2f} ans².\")"
   ]
  },
  {
   "cell_type": "markdown",
   "id": "f930f610-af7b-490e-819e-499b0f257cbe",
   "metadata": {},
   "source": [
    "#### La variance non biaisée"
   ]
  },
  {
   "cell_type": "markdown",
   "id": "a16338a8-8fba-41d5-9aa8-de772564d1df",
   "metadata": {},
   "source": [
    "La variance de la population est définie comme l’espérance (la moyenne) des écarts d’une variable *X* à la moyenne réelle de la population ($\\mu$) :\n",
    "\n",
    "$$\n",
    "\\sigma^2 = \\mathbb{E}[(X - \\mu)^2]\n",
    "$$\n",
    "\n",
    "Or, dans le calcul de la variance empirique, on ne connaît que la moyenne de l’échantillon ($\\bar{x}$) qui sous-estime la véritable moyenne. On dit que l’estimateur est **biaisé**. Pour obtenir un estimateur non biaisé, il faut appliquer un degré de liberté de 1 :\n",
    "\n",
    "$$\n",
    "\\sigma^2 = \\frac{1}{n-1} \\sum_{i=1}^{n} (x_i - \\bar{x})^2\n",
    "$$"
   ]
  },
  {
   "cell_type": "markdown",
   "id": "ed3cb44a-4edc-42a0-a70a-b4b9ecff1ff0",
   "metadata": {},
   "source": [
    "### L’écart-type"
   ]
  },
  {
   "cell_type": "markdown",
   "id": "7f9f1343-7906-4a89-92da-f4a319ddbfc6",
   "metadata": {},
   "source": [
    "La variance empirique s’exprime dans une unité qui ne fait pas beaucoup de sens (les $\\text{ans}^2$ dans notre exemple). Pour remédier à cela, on donne souvent l’écart-type, qui lui s’exprime dans l’unité de la variable étudiée :\n",
    "\n",
    "$$\n",
    "s = \\sqrt{\\text{var}}\n",
    "$$\n",
    "\n",
    "Avec Python :"
   ]
  },
  {
   "cell_type": "code",
   "execution_count": null,
   "id": "a503b023-df4f-4c90-a48d-2ff6543deb55",
   "metadata": {},
   "outputs": [],
   "source": [
    "s = var ** .5\n",
    "\n",
    "print(f\"L’écart-type de l’échantillon est de {s:.2f} ans.\")"
   ]
  },
  {
   "cell_type": "markdown",
   "id": "55c9e60d-9602-4416-b52d-e91cc9c6ed91",
   "metadata": {},
   "source": [
    "**Remarque :** si $\\text{var}$ exprime la variance empirique, alors l’écart-type sera considéré comme biaisé."
   ]
  },
  {
   "cell_type": "markdown",
   "id": "363a5093-92f0-4276-9019-f0fe3f92ac07",
   "metadata": {},
   "source": [
    "### Le coefficient de variation"
   ]
  },
  {
   "cell_type": "markdown",
   "id": "40cc07ca-6be9-48e6-8a41-2098a87f5886",
   "metadata": {},
   "source": [
    "Le coefficient de variation permet souvent de comparer la dispersion de plusieurs échantillons entre eux (par exemple le résultat de deux groupes à un test). Il peut notamment révéler des disparités lorsque leurs écarts-types pourraient être similaires. Il se calcule par la formule suivante :\n",
    "\n",
    "$$\n",
    "\\text{CV} = \\frac{\\sigma}{\\mu} \\times 100\n",
    "$$"
   ]
  },
  {
   "cell_type": "markdown",
   "id": "13a4523c-e33f-4b58-961b-584f96daa157",
   "metadata": {},
   "source": [
    "### Approche du compromis biais-variance"
   ]
  },
  {
   "cell_type": "markdown",
   "id": "041b977f-5ae9-4cd1-b345-af70a034d2f3",
   "metadata": {},
   "source": [
    "Les modèles statistiques doivent trouver un équilibre entre précision et généralisation. Un modèle trop simple, ou sous-entraîné, a un **biais élevé** : il ne capture pas les tendances des données. À l’opposé, un modèle sur-entraîné disposera d’une **variance élevée** : il s’ajuste parfaitement aux données mais échoue à généraliser.\n",
    "\n",
    "C'est ce mécanisme qui est illustré par les écarts-types empirique et théorique. Le premier, calculé à partir des données, se laisse influencer par la variance spécifique à l’échantillonage alors qu’en lui ajoutant un degré de liberté on rend mieux compte de la vraie dispersion des données en population générale."
   ]
  }
 ],
 "metadata": {
  "kernelspec": {
   "display_name": "Python 3 (ipykernel)",
   "language": "python",
   "name": "python3"
  },
  "language_info": {
   "codemirror_mode": {
    "name": "ipython",
    "version": 3
   },
   "file_extension": ".py",
   "mimetype": "text/x-python",
   "name": "python",
   "nbconvert_exporter": "python",
   "pygments_lexer": "ipython3",
   "version": "3.10.6"
  }
 },
 "nbformat": 4,
 "nbformat_minor": 5
}
