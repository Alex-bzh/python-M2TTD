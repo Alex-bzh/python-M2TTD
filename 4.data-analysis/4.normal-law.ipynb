{
 "cells": [
  {
   "cell_type": "markdown",
   "id": "32424d9b-812a-4e36-86e9-b43ce845758d",
   "metadata": {},
   "source": [
    "# La loi normale"
   ]
  },
  {
   "cell_type": "markdown",
   "id": "273ed1a5-0eec-4977-90f1-46594478b725",
   "metadata": {},
   "source": [
    "Imaginons une expérience où les participant·es doivent lire un texte d’une centaine de mots avant de répondre à une question. On mesure à la fois le temps de lecture et l’exactitude de la réponse. Dans ce genre de tâches de lecture, on s’attend à ce que les résultats suivent une loi normale, c’est-à-dire que la plupart des temps de lecture se situent autour d’une moyenne avec une distribution symétrique pour les autres temps de réponse. Le résultat est une courbe en cloche caractéristique :"
   ]
  },
  {
   "cell_type": "code",
   "execution_count": null,
   "id": "a51b87af-4f42-4168-b67c-9d41b6a11643",
   "metadata": {},
   "outputs": [],
   "source": [
    "import numpy as np\n",
    "import matplotlib.pyplot as plt\n",
    "import seaborn as sns\n",
    "\n",
    "# generate a normal distribution\n",
    "data = np.random.normal(loc=30, scale=5, size=1000)\n",
    "\n",
    "# visualization\n",
    "plt.figure(figsize=(10, 6))\n",
    "sns.histplot(data, bins=30, kde=True, color=\"skyblue\")\n",
    "plt.title(\"Reading time distribution (in seconds)\")\n",
    "plt.xlabel(\"Reading time\")\n",
    "plt.ylabel(\"Frequency\")\n",
    "plt.show()"
   ]
  },
  {
   "cell_type": "markdown",
   "id": "3cb97c3c-0a13-4730-b535-16d99b62434e",
   "metadata": {},
   "source": [
    "## Paramètres de la loi normale"
   ]
  },
  {
   "cell_type": "markdown",
   "id": "80cc0620-570c-4e12-b57e-ebe5305a0473",
   "metadata": {},
   "source": [
    "De nombreux phénomènes naturels suivent la loi normale, tant et si bien que l’on va parfois supposer qu’une variable *X* la respecte afin d’effectuer des calculs dessus. La variable sera censée suivre une distribution modèle avec un maximum de valeurs autour de $\\mu$, et il sera visuellement facile de ressortir la proportion cumulée des observations de *X* pour une valeur *z* :"
   ]
  },
  {
   "cell_type": "code",
   "execution_count": null,
   "id": "e193f0ec-8184-405b-a279-54e35d40b27d",
   "metadata": {},
   "outputs": [],
   "source": [
    "mean = 0\n",
    "std_dev = 1\n",
    "x = np.linspace(mean - 4 * std_dev, mean + 4 * std_dev, 500)\n",
    "y = (1 / (std_dev * np.sqrt(2 * np.pi))) * np.exp(-0.5 * ((x - mean) / std_dev) ** 2)\n",
    "z = 1.5\n",
    "\n",
    "plt.figure(figsize=(10, 5))\n",
    "plt.plot(x, y, color=\"blue\", lw=2)\n",
    "plt.axhline(0, color='black', linewidth=0.5)\n",
    "\n",
    "plt.axvline(mean, color='black', linestyle='--', lw=1)\n",
    "plt.text(mean, -0.02, r'$\\mu$', ha='center', va='top', fontsize=12)\n",
    "\n",
    "# for z\n",
    "plt.text(1.5, -0.02, r'$z$', ha='center', va='top', fontsize=12)\n",
    "plt.text(1.8, 0.15, r'$P(X \\leq z)$', ha='center', va='bottom', fontsize=12, color='black')\n",
    "\n",
    "# shading area under the curve up to Z\n",
    "x_fill = np.linspace(-4, z, 500)\n",
    "y_fill = (1 / (std_dev * np.sqrt(2 * np.pi))) * np.exp(-0.5 * ((x_fill - mean) / std_dev) ** 2)\n",
    "plt.fill_between(x_fill, y_fill, color=\"grey\", alpha=0.3)\n",
    "\n",
    "plt.xticks([])\n",
    "plt.yticks([])\n",
    "\n",
    "sns.despine(left=True, bottom=True)\n",
    "\n",
    "plt.show()"
   ]
  },
  {
   "cell_type": "markdown",
   "id": "e97ba409-81df-4923-9dce-42852b5768a8",
   "metadata": {},
   "source": [
    "Pour tracer une loi normale, il suffit de connaître deux paramètres :\n",
    "\n",
    "- $\\mu$ : la moyenne\n",
    "- $\\sigma$ : l’écart-type\n",
    "\n",
    "Pour chaque couple $\\mu$, $\\sigma$, il existe une loi normale de moyenne $\\mu$ et d’ecart-type $\\sigma$ :\n",
    "\n",
    "$$\n",
    "X \\hookrightarrow  \\mathcal{N}(\\mu,\\,\\sigma)\n",
    "$$\n",
    "\n",
    "Qui répond à l’équation :\n",
    "\n",
    "$$\n",
    "f(x) = \\frac{1}{\\sigma \\sqrt{2 \\pi}} e^{ -\\frac{1}{2} \\left( \\frac{x - \\mu}{\\sigma} \\right)^2 }\n",
    "$$\n",
    "\n",
    "**Remarques :**\n",
    "- Un cas particulier est **la loi normale centrée réduite** où la moyenne est égale à 0 et l’écart-type à 1.\n",
    "- On fait parfois référence à la variance ($\\sigma^2$) plutôt qu’à l’écart-type, ce qui ne change rien ni à la distribution ni à sa signification.\n",
    "- Si on suppose qu’une variable est distribuée normalement, on écrira :\n",
    "\n",
    "$$\n",
    "X \\sim  \\mathcal{N}(\\mu,\\,\\sigma)\n",
    "$$"
   ]
  },
  {
   "cell_type": "markdown",
   "id": "036a08dd-73cf-4577-9c2d-3773d9409e9c",
   "metadata": {},
   "source": [
    "### Loi normale avec des moyennes différentes"
   ]
  },
  {
   "cell_type": "code",
   "execution_count": null,
   "id": "79e09fad-0bdc-4aa1-b949-225e578e72d6",
   "metadata": {},
   "outputs": [],
   "source": [
    "# parameters of the first curve\n",
    "mean_1 = 3\n",
    "std_dev_1 = 1\n",
    "x_1 = np.linspace(mean_1 - 4 * std_dev_1, mean_1 + 4 * std_dev_1, 500)\n",
    "y_1 = (1 / (std_dev_1 * np.sqrt(2 * np.pi))) * np.exp(-0.5 * ((x_1 - mean_1) / std_dev_1) ** 2)\n",
    "\n",
    "# parameters of the second curve\n",
    "mean_2 = -1\n",
    "std_dev_2 = 1\n",
    "x_2 = np.linspace(mean_2 - 4 * std_dev_2, mean_2 + 4 * std_dev_2, 500)\n",
    "y_2 = (1 / (std_dev_2 * np.sqrt(2 * np.pi))) * np.exp(-0.5 * ((x_2 - mean_2) / std_dev_2) ** 2)\n",
    "\n",
    "plt.figure(figsize=(10, 5))\n",
    "\n",
    "# first curve\n",
    "plt.plot(x_1, y_1, color=\"blue\", lw=2, label=\"Mean = 3\")\n",
    "plt.axvline(mean_1, color='blue', linestyle='--', lw=1)\n",
    "plt.text(mean_1 + 0.5, max(y_1) - 0.01, r\"$\\mathcal{N}(3, 1)$\", color=\"blue\", fontsize=12)\n",
    "\n",
    "# second curve\n",
    "plt.plot(x_2, y_2, color=\"red\", lw=2, label=\"Mean = -1\")\n",
    "plt.axvline(mean_2, color='red', linestyle='--', lw=1)\n",
    "plt.text(mean_2 + 0.5, max(y_2) - 0.01, r\"$\\mathcal{N}(-1, 1)$\", color=\"red\", fontsize=12)\n",
    "\n",
    "# display\n",
    "plt.axhline(0, color='black', linewidth=0.5)\n",
    "xticks_positions = [-1, 3]\n",
    "plt.xticks(xticks_positions, labels=[str(x) for x in xticks_positions])\n",
    "plt.yticks([])\n",
    "plt.legend()\n",
    "sns.despine(left=True, bottom=True)\n",
    "\n",
    "plt.show()"
   ]
  },
  {
   "cell_type": "markdown",
   "id": "2c2f6fb3-61e7-4c77-aadf-28985acb265a",
   "metadata": {},
   "source": [
    "### Loi normale avec des écarts-types différents"
   ]
  },
  {
   "cell_type": "code",
   "execution_count": null,
   "id": "13d51c8e-18d9-4b18-8234-d1c711b61c2c",
   "metadata": {},
   "outputs": [],
   "source": [
    "# parameters of the first curve\n",
    "mean_1 = 0\n",
    "std_dev_1 = 1\n",
    "x_1 = np.linspace(mean_1 - 4 * std_dev_1, mean_1 + 4 * std_dev_1, 500)\n",
    "y_1 = (1 / (std_dev_1 * np.sqrt(2 * np.pi))) * np.exp(-0.5 * ((x_1 - mean_1) / std_dev_1) ** 2)\n",
    "\n",
    "# parameters of the second curve\n",
    "mean_2 = 0\n",
    "std_dev_2 = 2\n",
    "x_2 = np.linspace(mean_2 - 4 * std_dev_2, mean_2 + 4 * std_dev_2, 500)\n",
    "y_2 = (1 / (std_dev_2 * np.sqrt(2 * np.pi))) * np.exp(-0.5 * ((x_2 - mean_2) / std_dev_2) ** 2)\n",
    "\n",
    "plt.figure(figsize=(10, 5))\n",
    "\n",
    "# first curve\n",
    "plt.plot(x_1, y_1, color=\"blue\", lw=2, label=\"Standard deviation = 3\")\n",
    "plt.text(mean_1 + 0.5, max(y_1) - 0.01, r\"$\\mathcal{N}(0, 1)$\", color=\"blue\", fontsize=12)\n",
    "\n",
    "# second curve\n",
    "plt.plot(x_2, y_2, color=\"red\", lw=2, label=\"Standard deviation = -1\")\n",
    "plt.text(mean_2 + 1.5, max(y_2) - 0.04, r\"$\\mathcal{N}(0, 2)$\", color=\"red\", fontsize=12)\n",
    "\n",
    "# display\n",
    "plt.text(mean_1, -0.02, r'$\\mu$', ha='center', va='top', fontsize=12)\n",
    "plt.axhline(0, color='black', linewidth=0.5)\n",
    "plt.axvline(mean_1, color='grey', linestyle='--', lw=1)\n",
    "plt.xticks([])\n",
    "plt.yticks([])\n",
    "plt.legend()\n",
    "sns.despine(left=True, bottom=True)\n",
    "\n",
    "plt.show()"
   ]
  },
  {
   "cell_type": "markdown",
   "id": "ad7dda5d-ac59-4f06-b06c-ab4dfd519077",
   "metadata": {},
   "source": [
    "## La loi normale centrée réduite en pratique"
   ]
  },
  {
   "cell_type": "markdown",
   "id": "8efd6e05-da32-4325-ad64-774c8ae1742a",
   "metadata": {},
   "source": [
    "### La fonction de distribution cumulative"
   ]
  },
  {
   "cell_type": "markdown",
   "id": "c71f8bd2-c7f0-406b-a8af-3f586174b685",
   "metadata": {},
   "source": [
    "#### Pour un certain écart-type"
   ]
  },
  {
   "cell_type": "markdown",
   "id": "7abee515-0f0d-4d8e-9436-d96acc3f76d6",
   "metadata": {},
   "source": [
    "Dans la loi normale centrée réduite, les valeurs des écarts-types ($1 \\sigma$, $2\\sigma$, …) correspondent à des probabilités cumulées (ou proportions) de la population qui se trouvent à gauche de chaque seuil. Par exemple, à 3 écarts-types sous la moyenne ($−3 \\sigma$), on voit d’après le diagramme que 0,1 % des valeurs se situent sous ce seuil ; pour $- 1\\sigma$ on a 15,8 % de la population. Et comme la loi normale est symétrique, les écarts-types positifs et négatifs ont des significations identiques en termes de probabilités cumulées."
   ]
  },
  {
   "cell_type": "markdown",
   "id": "3d260852-d782-4121-8f28-a7b593f634b4",
   "metadata": {},
   "source": [
    "\n",
    "\n",
    "![La loi normale](./figs/standard_deviations.png)"
   ]
  },
  {
   "cell_type": "markdown",
   "id": "ec3ff6ad-0ba5-402b-8ab2-ec7ec49c12a9",
   "metadata": {},
   "source": [
    "#### Pour $X \\leq z$"
   ]
  },
  {
   "cell_type": "markdown",
   "id": "af281282-96e3-4501-8832-b1b30950bdc3",
   "metadata": {},
   "source": [
    "Supposons que nous recherchons la proportion cumulée d’individus pour lesquels une certaine variable *X* qui suit la loi normale centrée réduite a une valeur inférieure ou égale à 1,31. En termes mathématiques : soit $X \\sim  \\mathcal{N}(0,1)$. Pour quelle proportion d’individus $\\mathbb{P}(X \\leq 1.31)$ ?\n",
    "\n",
    "**Remarque :** On écrit aussi $F(1.31)$, où *F()* représente la fonction de distribution cumulative pour la valeur 1,31."
   ]
  },
  {
   "cell_type": "code",
   "execution_count": null,
   "id": "e48d8721-cc4b-4864-a24b-9ea70b3eee27",
   "metadata": {},
   "outputs": [],
   "source": [
    "mean = 0\n",
    "std_dev = 1\n",
    "x = np.linspace(mean - 4 * std_dev, mean + 4 * std_dev, 500)\n",
    "y = (1 / (std_dev * np.sqrt(2 * np.pi))) * np.exp(-0.5 * ((x - mean) / std_dev) ** 2)\n",
    "z = 1.31\n",
    "\n",
    "plt.figure(figsize=(10, 5))\n",
    "plt.plot(x, y, color=\"blue\", lw=2)\n",
    "plt.axhline(0, color='black', linewidth=0.5)\n",
    "\n",
    "plt.axvline(mean, color='black', linestyle='--', lw=1)\n",
    "plt.text(mean, -0.02, r'0', ha='center', va='top', fontsize=12)\n",
    "\n",
    "# for z\n",
    "plt.text(1.31, -0.02, r'$z$ = 1.31', ha='center', va='top', fontsize=12)\n",
    "plt.text(2, 0.15, r'$P(X \\leq 1.31)$', ha='center', va='bottom', fontsize=12, color='black')\n",
    "\n",
    "# shading area under the curve up to Z\n",
    "x_fill = np.linspace(-4, z, 500)\n",
    "y_fill = (1 / (std_dev * np.sqrt(2 * np.pi))) * np.exp(-0.5 * ((x_fill - mean) / std_dev) ** 2)\n",
    "plt.fill_between(x_fill, y_fill, color=\"grey\", alpha=0.3)\n",
    "\n",
    "plt.xticks([])\n",
    "plt.yticks([])\n",
    "\n",
    "sns.despine(left=True, bottom=True)\n",
    "\n",
    "plt.show()"
   ]
  },
  {
   "cell_type": "markdown",
   "id": "e6b0ab54-1c0a-42b6-bd14-b475335f2189",
   "metadata": {},
   "source": [
    "Une méthode consiste à se référer à la table de la loi normale centrée réduite en repérant la valeur à l’intersection de **1.3** et **0.01**, soit **0.9049** :"
   ]
  },
  {
   "cell_type": "markdown",
   "id": "0091e9bf-6b34-4137-9c69-428c84cff396",
   "metadata": {},
   "source": [
    "![La table de la loi normale](./figs/normal_law.png)"
   ]
  },
  {
   "cell_type": "markdown",
   "id": "f78bad2a-e1c4-498a-85df-814d489306e4",
   "metadata": {},
   "source": [
    "Une autre méthode, plus rapide, utilise la bibliothèque *Scipy* et la fonction de distribution cumulative (`.cdf()`) du module `scipy.stats.norm` :"
   ]
  },
  {
   "cell_type": "code",
   "execution_count": null,
   "id": "cc447ba8-2496-48aa-bb05-5aba38392eae",
   "metadata": {},
   "outputs": [],
   "source": [
    "from scipy.stats import norm\n",
    "\n",
    "z_value = 1.31\n",
    "p = norm.cdf(z_value)\n",
    "\n",
    "print(p)"
   ]
  },
  {
   "cell_type": "markdown",
   "id": "4635652a-3428-41f8-8dee-b2bcefcdff51",
   "metadata": {},
   "source": [
    "On peut interpréter ce résultat comme une probabilité très élevée que la variable aléatoire *X* soit inférieure ou égale à 1,31. En effet, pour $X \\leq 1.31$, on trouve selon la table de la loi normale $\\mathbb{P} = 0.9049$ soit en termes de pourcentages 90,49 % des individus."
   ]
  },
  {
   "cell_type": "markdown",
   "id": "7c4a38e1-3f08-433b-84ee-0beea9b86cb2",
   "metadata": {},
   "source": [
    "#### Pour $X \\geq z$"
   ]
  },
  {
   "cell_type": "markdown",
   "id": "2074f8f9-ae41-490a-a920-e8c242ef52ad",
   "metadata": {},
   "source": [
    "Dans le cas où cette fois-ci on cherche la probabilité $P(X \\geq 1.31)$, on peut reformuler :\n",
    "\n",
    "$$\n",
    "\\begin{align*}\n",
    "\\mathbb{P}(X \\geq 1.31) &= 1 - \\mathbb{P}(X \\geq 1.31) \\\\\n",
    "&= 1 - 0.9049 \\\\\n",
    "&= 0.0951\n",
    "\\end{align*}\n",
    "$$\n",
    "\n",
    "Et avec Python :"
   ]
  },
  {
   "cell_type": "code",
   "execution_count": null,
   "id": "835436e9-5492-4642-b2ea-17b9a4aad797",
   "metadata": {},
   "outputs": [],
   "source": [
    "p = 1 - norm.cdf(z_value)\n",
    "\n",
    "print(p)"
   ]
  },
  {
   "cell_type": "markdown",
   "id": "b4c60077-2ec3-4c77-994b-9debbc7366b7",
   "metadata": {},
   "source": [
    "#### Pour $X \\leq -z$"
   ]
  },
  {
   "cell_type": "markdown",
   "id": "7cec36f2-cfea-40a9-ad1b-ac9c23d795bc",
   "metadata": {},
   "source": [
    "Si l’on cherche maintenant la proportion d’individus pour $X \\leq -1.31$, il faut se rappeler que la distribution normale est symétrique, aussi calculer $F(-1.31)$ revient à calculer $1 - F(1.31)$, aussi :\n",
    "\n",
    "$$\n",
    "\\begin{align*}\n",
    "\\mathbb{P}(X \\leq -1.31) &= 1 - \\mathbb{P}(X \\geq 1.31) \\\\\n",
    "&= 1 - 0.9049 \\\\\n",
    "&= 0.0951\n",
    "\\end{align*}\n",
    "$$"
   ]
  },
  {
   "cell_type": "markdown",
   "id": "93e468b1-164d-4894-a4c1-e55deae3919a",
   "metadata": {},
   "source": [
    "#### Pour $X \\geq -z$"
   ]
  },
  {
   "cell_type": "markdown",
   "id": "58fe6462-ab5b-4cf6-a4e3-7b13b2785e97",
   "metadata": {},
   "source": [
    "Dernier cas de figure, celui où l’on cherche la proportion d’individus pour laquelle $X \\geq -z$. Encore une fois, grâce à la symétrie de la distribution, on arrive à la relation :\n",
    "\n",
    "$$\n",
    "\\begin{align*}\n",
    "\\mathbb{P}(X \\geq −z) &= 1 − \\mathbb{P}(X \\lt −z) \\\\\n",
    "&= 1 − F(−z)\n",
    "\\end{align*}\n",
    "$$\n",
    "\n",
    "Or, nous savons que $F(-z) = 1 - F(z)$, donc :\n",
    "\n",
    "$$\n",
    "\\begin{align*}\n",
    "\\mathbb{P}(X \\geq −z) &= 1 − (1 - F(z)) \\\\\n",
    "&= F(z)\n",
    "\\end{align*}\n",
    "$$\n",
    "\n",
    "**Remarque :** la résolution de l’équation implique que $\\mathbb{P}(X \\geq −z) = - F(z)$, ce qui dans le contexte des probabilités ne fait pas sens, une probabilité étant positive (entre 0 et 1)."
   ]
  },
  {
   "cell_type": "markdown",
   "id": "7bd4f1d3-597b-4d12-8876-a1f0a7d4fb90",
   "metadata": {},
   "source": [
    "#### Pour $X_1 \\leq X \\leq X_2$"
   ]
  },
  {
   "cell_type": "markdown",
   "id": "56d71d3d-d663-4eaa-ad89-f1314bb52394",
   "metadata": {},
   "source": [
    "Dans le cas spécifique où l’on recherche une étendue de probabilités, on applique la règle de probabilités :\n",
    "\n",
    "$$\n",
    "\\mathbb{P}(X_1 \\leq X \\leq X_2) = \\mathbb{P}(X \\leq X_2) − \\mathbb{P}(X \\leq X_1)\n",
    "$$\n",
    "\n",
    "Par exemple, si $X_1$ est situé à un écart-type en dessous de la moyenne et $X_2$ à un écart-type au-dessus de la moyenne, il y a environ 68,26 % de chances que *X* se situe dans une plage entre les deux seuils."
   ]
  },
  {
   "cell_type": "markdown",
   "id": "f26e3ea5-91e2-4bfa-959e-0dbeb6b92166",
   "metadata": {},
   "source": [
    "### La recherche de quantiles"
   ]
  },
  {
   "cell_type": "markdown",
   "id": "a25e9ea1-a665-47ce-9620-433163cb59c3",
   "metadata": {},
   "source": [
    "On peut appréhender le **quantile** comme un repère dans un ensemble de données qui divise la distribution en portions. Ainsi, le quantile à *q* est la valeur *x* telle que $\\mathbb{P}(X \\leq x) = q$. Par exemple, le quantile à 90,15 % est 1,29 parce que $F(1.29) = 0.9015$.\n",
    "\n",
    "Comme dans la table de la loi normale il n’existe pas de quantile pour une probabilité inférieure à 50 %, il faut se rappeler encore une fois de la propriété de symétrie de la loi normale pour établir que trouver le quantile correspondant à une probabilité donnée revient à chercher l’inverse du quantile pour 1 − la probabilité.\n",
    "\n",
    "En somme, pour déterminer le quantile correspondant à 25 %, on pose $\\mathbb{P}(Z \\leq a) = 0.25$ avant de chercher la valeur de $a$ telle que la probabilité cumulée jusqu’à *a* est de 0,25. Puisque la loi normale est symétrique, le quantile qui correspond à une probabilité cumulée de 75 % est environ $a = 0.67$. De là, on déduit que le quantile correspond à 25 % est de $-0.67$.\n",
    "\n",
    "La relation à retenir est :\n",
    "\n",
    "$$\n",
    "z_\\alpha = −z_{(1 − \\alpha)}\n",
    "$$\n",
    "\n",
    "Avec Python, on peut recourir à la méthode `.ppf()` du module `scipy.stats.norm` qui calcule directement l’inverse de la fonction de distribution cumulative :"
   ]
  },
  {
   "cell_type": "code",
   "execution_count": null,
   "id": "db843a40-41b7-41c0-a614-eff15fdb7504",
   "metadata": {},
   "outputs": [],
   "source": [
    "a = norm.ppf(0.25)\n",
    "\n",
    "print(a)"
   ]
  },
  {
   "cell_type": "markdown",
   "id": "5922743a-72fb-4ed3-b185-26b1984aa9cd",
   "metadata": {},
   "source": [
    "## Pour une loi normale quelconque"
   ]
  },
  {
   "cell_type": "markdown",
   "id": "1ff9e1df-2f0a-438f-ab70-55ac1e96d5d9",
   "metadata": {},
   "source": [
    "### La fonction de distribution cumulative"
   ]
  },
  {
   "cell_type": "markdown",
   "id": "755c6a18-8b1c-4bab-84db-d4bc1c602733",
   "metadata": {},
   "source": [
    "Dans la réalité, jamais on ne rencontre de lois normales centrées réduites directement issues des données brutes. Elles sont en revanche très courantes après des transformations statistiques en raison du théorème central limite qui stipule que la somme de nombreuses variables aléatoires indépendantes, quelle que soit leur distribution initiale, tend vers une distribution normale lorsque le nombre d’échantillons est suffisamment grand. Aussi, de très nombreux phénomènes naturels, à partir du moment où ils sont observés une quantité de fois suffisantes, peuvent se traduire par une loi normale.\n",
    "\n",
    "Pour ensuite avoir accès aux propriétés de la loi normale centrée réduite, il faut centrer réduire la variable observée (si bien sûr on admet que $X \\sim \\mathcal{N}(\\mu, \\, \\sigma)$) :\n",
    "\n",
    "$$\n",
    "Z = \\frac{X − \\mu}{\\sigma} \\sim \\mathcal{N}(0, \\, 1)\n",
    "$$\n",
    "\n",
    "Par exemple, admettons une variable *X* dont la moyenne est 11 et l’écart-type 2,5, de telle manière que $X \\sim \\mathcal{N}(11, 2.5)$. On cherche ensuite la proportion d’individus pour lesquels $X \\leq 13$. Selon la formule de la **normalisation**, on obtient la relation mathématique suivante :\n",
    "\n",
    "$$\n",
    "\\begin{align*}\n",
    "\\mathbb{P}(X \\leq 13) &= \\mathbb{P}(\\frac{X - 11}{2.5} \\leq \\frac{13 - 11}{2.5}) \\\\\n",
    "&= \\mathbb{P}(Z \\leq 0.8) \\\\\n",
    "&= 0.7881\n",
    "\\end{align*}\n",
    "$$"
   ]
  },
  {
   "cell_type": "markdown",
   "id": "f97f29bd-e7e7-4c26-9eaf-9697bc87a494",
   "metadata": {},
   "source": [
    "### La recherche de quantiles"
   ]
  },
  {
   "cell_type": "markdown",
   "id": "25fdd6c6-aa8c-4ebe-aaf5-e74035409589",
   "metadata": {},
   "source": [
    "Dans ce cas-là, nous allons d’abord *dénormaliser* les données selon la relation :\n",
    "\n",
    "$$\n",
    "Q_\\alpha = \\mu + \\sigma \\times z_\\alpha\n",
    "$$\n",
    "\n",
    "Aussi, pour le quantile à 90 % d’une loi normale $\\mathcal{N}(11, \\, 2.5)$, on obtient :\n",
    "\n",
    "$$\n",
    "Q_{0.9} = 11 + 2.5 \\times z_{0.9}\n",
    "$$\n",
    "\n",
    "Or, d’après la table de la loi normale $Z_{0.9} \\approx 1.28$, donc :\n",
    "\n",
    "$$\n",
    "\\begin{align*}\n",
    "Q_{0.9} &= 11 + 2.5 \\times 1.28 \\\\\n",
    "&= 11 + 3.2 \\\\\n",
    "&= 14.2\n",
    "\\end{align*}\n",
    "$$"
   ]
  }
 ],
 "metadata": {
  "kernelspec": {
   "display_name": "Python 3 (ipykernel)",
   "language": "python",
   "name": "python3"
  },
  "language_info": {
   "codemirror_mode": {
    "name": "ipython",
    "version": 3
   },
   "file_extension": ".py",
   "mimetype": "text/x-python",
   "name": "python",
   "nbconvert_exporter": "python",
   "pygments_lexer": "ipython3",
   "version": "3.11.10"
  }
 },
 "nbformat": 4,
 "nbformat_minor": 5
}
