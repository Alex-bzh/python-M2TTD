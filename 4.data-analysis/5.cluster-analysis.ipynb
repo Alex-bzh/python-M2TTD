{
 "cells": [
  {
   "cell_type": "markdown",
   "id": "9963a116-f067-4597-b69e-997a00adb26e",
   "metadata": {},
   "source": [
    "# Le partitionnement des données"
   ]
  },
  {
   "cell_type": "markdown",
   "id": "263d64df-3a47-4165-97b2-bd817b7b82b8",
   "metadata": {},
   "source": [
    "Le partitionnement (*clustering*) est une technique courante des statistiques multivariées pour effectuer des tâches de regroupement entre variables afin de révéler une structure sous-jacente. Il s’agit d’une méthode exploratoire qui aide à la classification des données en regroupant les individus dans des ensembles cohérents où la variance intra-groupes est minimisée quand la variance inter-groupes est, elle, maximisée.\n",
    "\n",
    "Importons les modules qui seront nécessaires :"
   ]
  },
  {
   "cell_type": "code",
   "execution_count": null,
   "id": "5ec46f4e-5f5a-4ba9-8d47-c36c90cab5ef",
   "metadata": {},
   "outputs": [],
   "source": [
    "import random\n",
    "import numpy as np\n",
    "import pandas as pd"
   ]
  },
  {
   "cell_type": "markdown",
   "id": "dd71b3cd-e546-4549-a4b5-68565e8042d0",
   "metadata": {},
   "source": [
    "## Une matrice de dissimilarité"
   ]
  },
  {
   "cell_type": "markdown",
   "id": "610c0949-3a61-46b7-b0ca-67adc6d3e081",
   "metadata": {},
   "source": [
    "### Avec des variables catégorielles"
   ]
  },
  {
   "cell_type": "markdown",
   "id": "ad3c9f95-bc15-4c22-b667-6c2119e3efd4",
   "metadata": {},
   "source": [
    "Prenons les réponses de cinq étudiant·es à un test comportant dix questions :"
   ]
  },
  {
   "cell_type": "code",
   "execution_count": null,
   "id": "0333da78-df81-4bba-971d-a624fcb0794f",
   "metadata": {},
   "outputs": [],
   "source": [
    "n_students = 5\n",
    "n_questions = 10\n",
    "\n",
    "data = [\n",
    "    [random.choice(['A', 'B', 'C', 'D']) for _ in range(n_questions)]\n",
    "    for _ in range(n_students)\n",
    "]\n",
    "\n",
    "df = pd.DataFrame(data, index=[f\"Student {i+1}\" for i in range(n_students)], columns=[f'Q{i+1}' for i in range(0, n_questions)])\n",
    "\n",
    "display(df)"
   ]
  },
  {
   "cell_type": "markdown",
   "id": "c5db398a-4716-4632-ac57-7e8ad2291116",
   "metadata": {},
   "source": [
    "Et faisons la comparaison deux à deux pour comptabiliser le nombre de fois où leurs réponses divergent. Enfin, normalisons en divisant le résultat par le nombre de questions afin d’obtenir un score entre 0 et 1 où 0 correspond à des étudiant·es aux réponses similaires et 1 des étudiant·es qui n’auront jamais répondu pareil :"
   ]
  },
  {
   "cell_type": "code",
   "execution_count": null,
   "id": "af1cace7-bedd-44dd-bee6-fdda64c750b6",
   "metadata": {},
   "outputs": [],
   "source": [
    "data_array = df.values\n",
    "\n",
    "# calculate differences between rows\n",
    "row_diffs = (data_array[:, None] != data_array).sum(axis=2)\n",
    "\n",
    "# normalize\n",
    "dissimilarity_matrix = row_diffs / n_questions\n",
    "\n",
    "# matrix to a DataFrame\n",
    "dissimilarity_df = pd.DataFrame(dissimilarity_matrix, index=df.index, columns=df.index)\n",
    "\n",
    "display(dissimilarity_df)"
   ]
  },
  {
   "cell_type": "markdown",
   "id": "4d181c10-5acd-4cdf-9898-f2490510d347",
   "metadata": {},
   "source": [
    "Il est à présent facile d’identifier les paires d’étudiant·es dont les réponses se ressemblent le plus :"
   ]
  },
  {
   "cell_type": "code",
   "execution_count": null,
   "id": "ebb731e8-69fd-4074-8ba9-d701646ea996",
   "metadata": {},
   "outputs": [],
   "source": [
    "# minimum score > 0 to exclude pairs consisting of the same student\n",
    "min_score = dissimilarity_df[dissimilarity_df > 0].min().min()\n",
    "\n",
    "# all the pairs concerned\n",
    "clusters = dissimilarity_df[dissimilarity_df == min_score].stack().index.tolist()\n",
    "\n",
    "display(clusters)"
   ]
  },
  {
   "cell_type": "markdown",
   "id": "cc57b48c-fe8e-426a-8f6b-3f2217a7f9ed",
   "metadata": {},
   "source": [
    "### Avec des variables numériques"
   ]
  },
  {
   "cell_type": "markdown",
   "id": "b80ccb44-9eeb-4a77-b1fd-c91b6e26ebe5",
   "metadata": {},
   "source": [
    "Dans l’exemple précédent, les variables enregistraient des données catégorielles. Si maintenant nous prenons l’exemple d’une dizaine de textes avec des scores sur 20 dans cinq catégories :"
   ]
  },
  {
   "cell_type": "code",
   "execution_count": null,
   "id": "e53a687d-42b0-41ab-992e-279f43365f08",
   "metadata": {},
   "outputs": [],
   "source": [
    "# 10 texts with a score on 5 categories\n",
    "df = pd.DataFrame(\n",
    "    data=np.random.randint(0, 21, size=(10, 5)),\n",
    "    index=[i + 1 for i in range(0, 10)],\n",
    "    columns=[\"Sciences\", \"Politique\", \"Littérature\", \"Journalisme\", \"Philosophie\"]\n",
    ")\n",
    "\n",
    "display(df)"
   ]
  },
  {
   "cell_type": "markdown",
   "id": "b3c3e2d0-3e4e-43d5-af28-5f14d41307b3",
   "metadata": {},
   "source": [
    "Il n’est plus question ici de repérer les catégories où les textes ont obtenu des scores différents, aussi la première étape consiste à calculer une matrice de corrélation :"
   ]
  },
  {
   "cell_type": "code",
   "execution_count": null,
   "id": "39a43442-2eb1-4196-94a4-9e188123cf8b",
   "metadata": {},
   "outputs": [],
   "source": [
    "correlation_matrix = df.corr()\n",
    "\n",
    "display(correlation_matrix)"
   ]
  },
  {
   "cell_type": "markdown",
   "id": "53dd5f10-c543-4379-a05f-992823737c92",
   "metadata": {},
   "source": [
    "Cette matrice ressort des coefficients variant de -1 à 1 pour exprimer la corrélation entre chaque paire de variables. Pour la transformer en une matrice de dissimilarité, il suffit de calculer l’inverse de la corrélation :"
   ]
  },
  {
   "cell_type": "code",
   "execution_count": null,
   "id": "d9655004-9bfe-4f8c-bdba-959dfe6596f5",
   "metadata": {},
   "outputs": [],
   "source": [
    "dissimilarity_matrix = 1 / correlation_matrix\n",
    "\n",
    "display(dissimilarity_matrix)"
   ]
  },
  {
   "cell_type": "markdown",
   "id": "dbff77d7-b270-47fd-8601-8623f1aca0cb",
   "metadata": {},
   "source": [
    "Une formule alternative consiste à calculer plutôt l’opposé de la corrélation :"
   ]
  },
  {
   "cell_type": "code",
   "execution_count": null,
   "id": "39b34555-16fa-4b89-83ef-fffa013cfc27",
   "metadata": {},
   "outputs": [],
   "source": [
    "dissimilarity_matrix = 1 - correlation_matrix\n",
    "\n",
    "display(dissimilarity_matrix)"
   ]
  },
  {
   "cell_type": "markdown",
   "id": "07722506-b655-41b8-8e04-8c60ccc47d42",
   "metadata": {},
   "source": [
    "Puis à normaliser afin d’obtenir des scores dans l’intervalle $[0,1]$ :"
   ]
  },
  {
   "cell_type": "code",
   "execution_count": null,
   "id": "1ac3a0c6-b893-469f-aef0-d309fcd9e723",
   "metadata": {},
   "outputs": [],
   "source": [
    "display(dissimilarity_matrix / 2)"
   ]
  }
 ],
 "metadata": {
  "kernelspec": {
   "display_name": "Python 3 (ipykernel)",
   "language": "python",
   "name": "python3"
  },
  "language_info": {
   "codemirror_mode": {
    "name": "ipython",
    "version": 3
   },
   "file_extension": ".py",
   "mimetype": "text/x-python",
   "name": "python",
   "nbconvert_exporter": "python",
   "pygments_lexer": "ipython3",
   "version": "3.10.6"
  }
 },
 "nbformat": 4,
 "nbformat_minor": 5
}
