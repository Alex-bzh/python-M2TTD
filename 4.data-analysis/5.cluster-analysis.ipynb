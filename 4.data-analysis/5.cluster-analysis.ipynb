{
 "cells": [
  {
   "cell_type": "markdown",
   "id": "9963a116-f067-4597-b69e-997a00adb26e",
   "metadata": {},
   "source": [
    "# Le partitionnement des données"
   ]
  },
  {
   "cell_type": "markdown",
   "id": "263d64df-3a47-4165-97b2-bd817b7b82b8",
   "metadata": {},
   "source": [
    "Le partitionnement (*clustering*) est une technique courante des statistiques multivariées pour effectuer des tâches de regroupement entre variables afin de révéler une structure sous-jacente. Il s’agit d’une méthode exploratoire qui aide à la classification des données en regroupant les individus dans des ensembles cohérents où la variance intra-groupes est minimisée quand la variance inter-groupes est, elle, maximisée.\n",
    "\n",
    "Importons les modules qui seront nécessaires :"
   ]
  },
  {
   "cell_type": "code",
   "execution_count": null,
   "id": "5ec46f4e-5f5a-4ba9-8d47-c36c90cab5ef",
   "metadata": {},
   "outputs": [],
   "source": [
    "import random\n",
    "import matplotlib.pyplot as plt\n",
    "import numpy as np\n",
    "import pandas as pd\n",
    "from scipy.cluster import hierarchy\n",
    "from scipy.spatial.distance import pdist, squareform"
   ]
  },
  {
   "cell_type": "markdown",
   "id": "dd71b3cd-e546-4549-a4b5-68565e8042d0",
   "metadata": {},
   "source": [
    "## Une matrice de dissimilarité"
   ]
  },
  {
   "cell_type": "markdown",
   "id": "610c0949-3a61-46b7-b0ca-67adc6d3e081",
   "metadata": {},
   "source": [
    "### Avec des variables catégorielles"
   ]
  },
  {
   "cell_type": "markdown",
   "id": "ad3c9f95-bc15-4c22-b667-6c2119e3efd4",
   "metadata": {},
   "source": [
    "Prenons les réponses de cinq étudiant·es à un test comportant dix questions :"
   ]
  },
  {
   "cell_type": "code",
   "execution_count": null,
   "id": "0333da78-df81-4bba-971d-a624fcb0794f",
   "metadata": {},
   "outputs": [],
   "source": [
    "n_students = 5\n",
    "n_questions = 10\n",
    "\n",
    "data = [\n",
    "    [random.choice(['A', 'B', 'C', 'D']) for _ in range(n_questions)]\n",
    "    for _ in range(n_students)\n",
    "]\n",
    "\n",
    "df = pd.DataFrame(data, index=[f\"Student {i+1}\" for i in range(n_students)], columns=[f'Q{i+1}' for i in range(0, n_questions)])\n",
    "\n",
    "display(df)"
   ]
  },
  {
   "cell_type": "markdown",
   "id": "c5db398a-4716-4632-ac57-7e8ad2291116",
   "metadata": {},
   "source": [
    "Et faisons la comparaison deux à deux pour comptabiliser le nombre de fois où leurs réponses divergent. Enfin, normalisons en divisant le résultat par le nombre de questions afin d’obtenir un score entre 0 et 1 où 0 correspond à des étudiant·es aux réponses similaires et 1 des étudiant·es qui n’auront jamais répondu pareil :"
   ]
  },
  {
   "cell_type": "code",
   "execution_count": null,
   "id": "af1cace7-bedd-44dd-bee6-fdda64c750b6",
   "metadata": {},
   "outputs": [],
   "source": [
    "data_array = df.values\n",
    "\n",
    "# calculate differences between rows\n",
    "row_diffs = (data_array[:, None] != data_array).sum(axis=2)\n",
    "\n",
    "# normalize\n",
    "dissimilarity_matrix = row_diffs / n_questions\n",
    "\n",
    "# matrix to a DataFrame\n",
    "dissimilarity_df = pd.DataFrame(dissimilarity_matrix, index=df.index, columns=df.index)\n",
    "\n",
    "display(dissimilarity_df)"
   ]
  },
  {
   "cell_type": "markdown",
   "id": "4d181c10-5acd-4cdf-9898-f2490510d347",
   "metadata": {},
   "source": [
    "Il est à présent facile d’identifier les paires d’étudiant·es dont les réponses se ressemblent le plus :"
   ]
  },
  {
   "cell_type": "code",
   "execution_count": null,
   "id": "ebb731e8-69fd-4074-8ba9-d701646ea996",
   "metadata": {},
   "outputs": [],
   "source": [
    "# minimum score > 0 to exclude pairs consisting of the same student\n",
    "min_score = dissimilarity_df[dissimilarity_df > 0].min().min()\n",
    "\n",
    "# all the pairs concerned\n",
    "clusters = dissimilarity_df[dissimilarity_df == min_score].stack().index.tolist()\n",
    "\n",
    "display(clusters)"
   ]
  },
  {
   "cell_type": "markdown",
   "id": "cc57b48c-fe8e-426a-8f6b-3f2217a7f9ed",
   "metadata": {},
   "source": [
    "### Avec des variables numériques"
   ]
  },
  {
   "cell_type": "markdown",
   "id": "b80ccb44-9eeb-4a77-b1fd-c91b6e26ebe5",
   "metadata": {},
   "source": [
    "Dans l’exemple précédent, les variables enregistraient des données catégorielles. Si maintenant nous prenons l’exemple d’une dizaine de textes avec des scores sur 20 dans cinq catégories :"
   ]
  },
  {
   "cell_type": "code",
   "execution_count": null,
   "id": "e53a687d-42b0-41ab-992e-279f43365f08",
   "metadata": {},
   "outputs": [],
   "source": [
    "# 10 texts with a score on 5 categories\n",
    "n_texts = 10\n",
    "categories = [\"Sciences\", \"Politique\", \"Littérature\", \"Journalisme\", \"Philosophie\"]\n",
    "\n",
    "df = pd.DataFrame(\n",
    "    data=np.random.randint(0, 21, size=(n_texts, len(categories))),\n",
    "    index=[f\"Text {i + 1}\" for i in range(0, n_texts)],\n",
    "    columns=categories\n",
    ")\n",
    "\n",
    "display(df)"
   ]
  },
  {
   "cell_type": "markdown",
   "id": "b3c3e2d0-3e4e-43d5-af28-5f14d41307b3",
   "metadata": {},
   "source": [
    "Il n’est plus question ici de repérer les catégories où les textes ont obtenu des scores différents, aussi la première étape consiste à calculer une matrice de corrélation :"
   ]
  },
  {
   "cell_type": "code",
   "execution_count": null,
   "id": "39a43442-2eb1-4196-94a4-9e188123cf8b",
   "metadata": {},
   "outputs": [],
   "source": [
    "correlation_matrix = df.corr()\n",
    "\n",
    "display(correlation_matrix)"
   ]
  },
  {
   "cell_type": "markdown",
   "id": "53dd5f10-c543-4379-a05f-992823737c92",
   "metadata": {},
   "source": [
    "Cette matrice ressort des coefficients variant de -1 à 1 pour exprimer la corrélation entre chaque paire de variables. Pour la transformer en une matrice de dissimilarité, il suffit de calculer l’inverse de la corrélation :"
   ]
  },
  {
   "cell_type": "code",
   "execution_count": null,
   "id": "d9655004-9bfe-4f8c-bdba-959dfe6596f5",
   "metadata": {},
   "outputs": [],
   "source": [
    "dissimilarity_matrix = 1 / correlation_matrix\n",
    "\n",
    "display(dissimilarity_matrix)"
   ]
  },
  {
   "cell_type": "markdown",
   "id": "dbff77d7-b270-47fd-8601-8623f1aca0cb",
   "metadata": {},
   "source": [
    "Une formule alternative consiste à calculer plutôt l’opposé de la corrélation :"
   ]
  },
  {
   "cell_type": "code",
   "execution_count": null,
   "id": "39b34555-16fa-4b89-83ef-fffa013cfc27",
   "metadata": {},
   "outputs": [],
   "source": [
    "dissimilarity_matrix = 1 - correlation_matrix\n",
    "\n",
    "display(dissimilarity_matrix)"
   ]
  },
  {
   "cell_type": "markdown",
   "id": "07722506-b655-41b8-8e04-8c60ccc47d42",
   "metadata": {},
   "source": [
    "Puis à normaliser afin d’obtenir des scores dans l’intervalle $[0,1]$ :"
   ]
  },
  {
   "cell_type": "code",
   "execution_count": null,
   "id": "1ac3a0c6-b893-469f-aef0-d309fcd9e723",
   "metadata": {},
   "outputs": [],
   "source": [
    "display(dissimilarity_matrix / 2)"
   ]
  },
  {
   "cell_type": "markdown",
   "id": "3c1d409b-8815-43c2-af0f-56542e4e08d4",
   "metadata": {},
   "source": [
    "De là, nous pouvons effectuer des prédictions sur les *clusters* formés entre les catégories. Peut-être la littérature et la philosophie sont-elles liées par leur coefficient de dissimilarité et, comme la philosophie et la politique sont elles-mêmes reliées, pourrions-nous en conclure que les trois disciplines forment un groupe.\n",
    "\n",
    "**Remarque :** les données sont générées aléatoirement aussi les groupes seront-ils toujours différents."
   ]
  },
  {
   "cell_type": "markdown",
   "id": "244d4f99-3233-4ca0-81d3-29504803770e",
   "metadata": {},
   "source": [
    "## Une matrice de distances"
   ]
  },
  {
   "cell_type": "markdown",
   "id": "3ec0db63-49fd-4466-a5e0-e3a09d7d38cf",
   "metadata": {},
   "source": [
    "Bien souvent, lorsque l’on calcule la dissimilarité entre des vecteurs, on calcule la distance euclidienne :\n",
    "\n",
    "$$\n",
    "d(\\mathbf{x}, \\mathbf{y}) = \\sqrt{\\sum_{i=1}^{n} (x_i - y_i)^2}\n",
    "$$"
   ]
  },
  {
   "cell_type": "markdown",
   "id": "5477ee91-61b2-4df5-8588-78ee1442dbf4",
   "metadata": {},
   "source": [
    "### Calcul de la distance euclidienne"
   ]
  },
  {
   "cell_type": "markdown",
   "id": "1dab24a1-7e13-4c13-b646-5a9f934e60f3",
   "metadata": {},
   "source": [
    "La fonction peut s’interpréter en Python :"
   ]
  },
  {
   "cell_type": "code",
   "execution_count": null,
   "id": "ddc8e720-6fd0-4ac9-927c-1ad2fd165722",
   "metadata": {},
   "outputs": [],
   "source": [
    "def euclidean_distance(*, a:list, b:list) -> float:\n",
    "    \"\"\"Euclidean distance between two vectors.\n",
    "    \n",
    "    Keyword arguments:\n",
    "    a -- first vector\n",
    "    b -- second vector\n",
    "    \"\"\"\n",
    "    # difference between indices\n",
    "    coords = [\n",
    "        (x - y) ** 2\n",
    "        for x, y in zip(a, b)\n",
    "    ]\n",
    "    # distance = square root of the sum of coords\n",
    "    return sum(coords) ** .5"
   ]
  },
  {
   "cell_type": "markdown",
   "id": "8e9767a9-ed24-4f33-b6cc-0eb87e4b617a",
   "metadata": {},
   "source": [
    "Pour l’appliquer à notre jeu de données, on va d’abord générer une matrice de distances nulle avant de la remplir en se servant de la symétrie :"
   ]
  },
  {
   "cell_type": "code",
   "execution_count": null,
   "id": "7785b2e3-da44-4e0b-aef1-b8f21134a4eb",
   "metadata": {},
   "outputs": [],
   "source": [
    "# a null matrix\n",
    "pairwise_distances = np.zeros((n_texts, n_texts))\n",
    "\n",
    "for i in range(n_texts):\n",
    "    for j in range(i, n_texts):  # start at 'i' to avoid calculating b-a pair if a-b already stored\n",
    "        dist = euclidean_distance(a=df.iloc[i].values.tolist(), b=df.iloc[j].values.tolist())\n",
    "        pairwise_distances[i, j] = dist\n",
    "        pairwise_distances[j, i] = dist  # matrix is symetric\n",
    "\n",
    "display(pairwise_distances)"
   ]
  },
  {
   "cell_type": "markdown",
   "id": "7791b6c8-4cb5-4683-9f73-833cad08b442",
   "metadata": {},
   "source": [
    "### Calcul avec *Numpy*"
   ]
  },
  {
   "cell_type": "markdown",
   "id": "d7de5d1b-5b53-44fd-babe-f3cbd69ddfbc",
   "metadata": {},
   "source": [
    "Calculer la distance euclidienne entre deux vecteurs *a* et *b* revient à calculer la norme du vecteur différence $a - b$.\n",
    "\n",
    "$$\n",
    "\\|\\mathbf{v}\\| = \\sqrt{\\sum_{i=1}^{n} v_i^2}\n",
    "$$\n",
    "\n",
    "Or, la fonction `.linalg.norm()` de *Numpy* permet d’obtenir directement la norme d’un vecteur ; aussi pouvons-nous nous passer de la fonction `euclidean_distance()` définie plus haut :"
   ]
  },
  {
   "cell_type": "code",
   "execution_count": null,
   "id": "258e5447-1ebf-47f3-8cae-d61705872f30",
   "metadata": {},
   "outputs": [],
   "source": [
    "# a null matrix\n",
    "pairwise_distances = np.zeros((n_texts, n_texts))\n",
    "\n",
    "for i in range(n_texts):\n",
    "    # find vector a\n",
    "    vector_a = df.iloc[i].values\n",
    "    for j in range(i, n_texts):\n",
    "        # find vector b\n",
    "        vector_b = df.iloc[j].values\n",
    "        dist = np.linalg.norm(vector_a - vector_b)\n",
    "        pairwise_distances[i, j] = dist\n",
    "        pairwise_distances[j, i] = dist\n",
    "\n",
    "display(pairwise_distances)"
   ]
  },
  {
   "cell_type": "markdown",
   "id": "a221450a-ee13-4496-878b-d4515e1c69f7",
   "metadata": {},
   "source": [
    "### Une bibliothèque scientifique spécialisée"
   ]
  },
  {
   "cell_type": "markdown",
   "id": "335a173b-6cb4-4e06-ad14-e494b983a56b",
   "metadata": {},
   "source": [
    "La bilbiothèque *Scipy* fournit des méthodes spécialisées pour le calcul scientifique. Utilisons les fonctions `pdist` et `squareform` du module `spatial.distance` :"
   ]
  },
  {
   "cell_type": "code",
   "execution_count": null,
   "id": "1d469d09-4d66-4448-b6c0-efb90895d21c",
   "metadata": {},
   "outputs": [],
   "source": [
    "# euclidean matrix\n",
    "distances = pdist(df.values, metric='euclidean')\n",
    "\n",
    "# to a square matrix\n",
    "distance_matrix = squareform(distances)\n",
    "\n",
    "# to a dataframe\n",
    "distance_df = pd.DataFrame(distance_matrix, index=df.index, columns=df.index)\n",
    "\n",
    "display(distance_df)"
   ]
  },
  {
   "cell_type": "markdown",
   "id": "4c0410a6-1809-40c3-9b78-971e2420fa03",
   "metadata": {},
   "source": [
    "## Le regroupement hiérarchique"
   ]
  },
  {
   "cell_type": "markdown",
   "id": "0faabf20-b2fd-4195-8b0d-deb040eaee15",
   "metadata": {},
   "source": [
    "Jusqu’ici, les techniques de partitionnement proposées étaient plutôt simples et élémentaires : elles permettaient de dégager des appariements, tout au plus des regroupements de trois éléments. L’objectif à présent est de présenter une méthode plus systématique qui va, à chaque étape, effectuer des regroupements deux à deux jusqu’à ce qu’il ne reste plus qu’un seul groupe constitué de l’ensemble des autres.\n",
    "\n",
    "On peut matérialiser cette méthode grâce à un dendogramme :"
   ]
  },
  {
   "cell_type": "code",
   "execution_count": null,
   "id": "9c3af5df-925b-4e32-974b-f86476a64517",
   "metadata": {},
   "outputs": [],
   "source": [
    "# by default, euclidean distance\n",
    "Z = hierarchy.linkage(df, method='single')\n",
    "\n",
    "# plot dendrogram\n",
    "plt.figure(figsize=(15, 7))\n",
    "plt.title('Dendrogram')\n",
    "plt.xlabel('Samples')\n",
    "plt.ylabel('Distance')\n",
    "_ = hierarchy.dendrogram(\n",
    "    Z, \n",
    "    labels=df.index, \n",
    "    leaf_rotation=90,\n",
    "    leaf_font_size=10,\n",
    "    color_threshold=0.7 * max(Z[:, 2])\n",
    ")\n",
    "plt.axhline(y=0.7 * max(Z[:, 2]), color='r', linestyle='--')\n",
    "plt.show()"
   ]
  },
  {
   "cell_type": "markdown",
   "id": "588c0187-9bc2-4325-8cb2-2ef40d4026cb",
   "metadata": {},
   "source": [
    "### Le clustering par liaison simple"
   ]
  },
  {
   "cell_type": "markdown",
   "id": "46b44ff7-cb60-4194-b2e4-580e26c493e7",
   "metadata": {},
   "source": []
  }
 ],
 "metadata": {
  "kernelspec": {
   "display_name": "Python 3 (ipykernel)",
   "language": "python",
   "name": "python3"
  },
  "language_info": {
   "codemirror_mode": {
    "name": "ipython",
    "version": 3
   },
   "file_extension": ".py",
   "mimetype": "text/x-python",
   "name": "python",
   "nbconvert_exporter": "python",
   "pygments_lexer": "ipython3",
   "version": "3.10.6"
  }
 },
 "nbformat": 4,
 "nbformat_minor": 5
}
