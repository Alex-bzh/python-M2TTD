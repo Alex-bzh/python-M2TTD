{
 "cells": [
  {
   "cell_type": "markdown",
   "id": "33b89e63-7fd9-4656-8dcc-cec509eff517",
   "metadata": {},
   "source": [
    "# Statistiques descriptives"
   ]
  },
  {
   "cell_type": "markdown",
   "id": "08209d2f-dcbf-4728-93cc-c1bb33a7d34b",
   "metadata": {},
   "source": [
    "Les statistiques descriptives s’attachent à décrire un jeu de données en fournissant quelques indicateurs qui résument les tendances mesurées."
   ]
  },
  {
   "cell_type": "markdown",
   "id": "64d6d1db-3390-4df9-86b7-638e56822bc6",
   "metadata": {},
   "source": [
    "## Description du jeu de données"
   ]
  },
  {
   "cell_type": "markdown",
   "id": "be29a0b2-2c74-4f06-851a-c1d79041fad3",
   "metadata": {},
   "source": [
    "Le fichier [*arrests.csv*](../data/arrests.csv) est issu du package R carData (*Companion to Applied Regression Data Sets*). Il recense les personnes arrêtées à Toronto en possession d’une petite quantité de marijuana. L’enquête est constituée de sept variables aléatoires :\n",
    "\n",
    "|Variable|Description|Type|\n",
    "|:-:|:-|:-:|\n",
    "|*released*|Facteur à deux niveaux pour distinguer les personnes relâchées avec une convocation (*Yes*) ou arrêtées sur place (*No*).|qualitative binaire|\n",
    "|*year*|Vecteur numérique pour l’année de l’arrestation. De 1997 à 2002.|qualitative ordonnée|\n",
    "|*age*|Vecteur numérique pour l’âge, en nombre d’années.|quantitative continue|\n",
    "|*sex*|Facteurs à deux niveaux pour le sexe de l’individu : *Male* ou *Female*.|qualitative binaire|\n",
    "|*employed*|Facteur à deux niveaux : l’individu a-t-il une activité professionnelle (*Yes*) ou non (*No*).|qualitative binaire|\n",
    "|*citizen*|Facteur à deux niveaux pour qualifier les résidents de Toronto (*Yes*) et les autres (*No*).|qualitative binaire|\n",
    "|*checks*|Vecteur numérique (0 à 6) qui recense le nombre d’apparitions de l’individu sur les bases de données de la police (arrestations, condamnations antérieures, libération conditionnelle…).|quantitative continue|"
   ]
  },
  {
   "cell_type": "markdown",
   "id": "a2458983-542a-4979-846c-72292b382307",
   "metadata": {},
   "source": [
    "## Quelques mesures de position"
   ]
  },
  {
   "cell_type": "markdown",
   "id": "1b9a1bc9-04a9-4259-b312-143e420df511",
   "metadata": {},
   "source": [
    "En vous servant de la bibliothèque *Pandas*, répondez aux questions suivantes :\n",
    "\n",
    "1. Quel est l’âge de la plus jeune interpellée ?\n",
    "2. Quel est l’âge moyen des femmes interpellées ?\n",
    "3. Chez les plus de 30 ans, les hommes interpellés sont-ils plus souvent cités que les femmes dans les bases de données de la police ?\n",
    "4. D’après le mode, les personnes sans emploi sont-elles les plus représentées parmi les personnes interpellées ?\n",
    "5. Donnez les valeurs des trois quartiles de l’âge des interpellé·es.\n",
    "6. Déterminez les deux premiers et les deux derniers déciles de l’âge des interpellé·es.\n",
    "7. Parmi les femmes interpellées, combien repartent avec une convocation ? Quid des hommes ?\n",
    "8. Quelle est la proportion de Torontois par rapport aux non-Torontois ?\n",
    "9. Et qu’en est-il de la proportion de Torontois et de non-Torontois emmenés au poste par rapport à ceux qui repartent avec seulement une convocation ?\n",
    "10. À présent, comparez le traitement des mineurs Torontois et des non-Torontois. Ces derniers sont-ils plus souvent relâchés que les premiers ?"
   ]
  },
  {
   "cell_type": "code",
   "execution_count": null,
   "id": "2dcb9be1-2c62-4933-a251-0f075969157c",
   "metadata": {},
   "outputs": [],
   "source": [
    "# your code here\n",
    "\n",
    "import pandas as pd\n",
    "\n",
    "df = pd.read_csv('../data/arrests.csv', index_col=[0])\n",
    "\n",
    "# 1\n",
    "mask = df.sex == 'Female'\n",
    "df[mask].age.min()\n",
    "\n",
    "# 2\n",
    "mask = df.sex == 'Female'\n",
    "df[mask].age.mean()\n",
    "\n",
    "# 3\n",
    "mask = df.age > 30\n",
    "df[mask].groupby('sex').checks.mean()\n",
    "\n",
    "# 4\n",
    "df.employed.mode()\n",
    "\n",
    "# 5\n",
    "Q1 = df.age.quantile(0.25)\n",
    "Q2 = df.age.median()\n",
    "Q3 = df.age.quantile(0.75)\n",
    "\n",
    "# 6\n",
    "D1 = df.age.quantile(0.10)\n",
    "D2 = df.age.quantile(0.20)\n",
    "D9 = df.age.quantile(0.90)\n",
    "D10 = df.age.quantile(0.100)\n",
    "\n",
    "# 7\n",
    "mask = df.released == \"Yes\"\n",
    "df[mask].groupby('sex').size()\n",
    "\n",
    "# 8\n",
    "df.citizen.value_counts(normalize=True) * 100\n",
    "\n",
    "# 9\n",
    "counts = df.groupby(['citizen', 'released']).size()\n",
    "counts.groupby(level=0).apply(lambda x: 100 * x / x.sum())\n",
    "\n",
    "# 10\n",
    "mask = df['age'] < 18\n",
    "df[mask].groupby(['citizen', 'released']).size().groupby(level=0).apply(lambda x: 100 * x / x.sum())"
   ]
  },
  {
   "cell_type": "markdown",
   "id": "2bd2eff6-2a9b-43b3-8d86-7a60df53d5e4",
   "metadata": {},
   "source": [
    "## Quelques mesures de dispersion"
   ]
  },
  {
   "cell_type": "markdown",
   "id": "e5ab7f87-97e8-4142-bbfc-73a2ca69e521",
   "metadata": {},
   "source": [
    "1. Quels sont la variance et l’écart-type de l’âge des personnes interpellées ?\n",
    "2. Quelle est l’étendue (valeurs minimale et maximale) du nombre de fois où les personnes apparaissent dans les bases de données de la police ?\n",
    "3. Quel est l’écart interquartile (IQR) de l’âge des personnes interpellées ?\n",
    "4. Quelle est la distribution (écart-type et coefficient de variation) du nombre de fois où les individus sans emploi sont arrêtés par rapport à ceux qui ont un emploi ?"
   ]
  },
  {
   "cell_type": "code",
   "execution_count": null,
   "id": "11aa96c8-af8e-4561-8694-6e48988e1c14",
   "metadata": {},
   "outputs": [],
   "source": [
    "# your code here\n",
    "\n",
    "# 1\n",
    "df.age.var()\n",
    "df.age.std()\n",
    "\n",
    "# 2\n",
    "f\"[{df.checks.min()}-{df.checks.max()}]\"\n",
    "\n",
    "# 3\n",
    "df.age.quantile(0.75) - df.age.quantile(0.25)\n",
    "\n",
    "# 4\n",
    "checks_employed = df.groupby('employed')['checks'].agg(['std', 'mean'])\n",
    "checks_employed['cv'] = checks_employed['std'] / checks_employed['mean'] * 100\n",
    "print(checks_employed)"
   ]
  },
  {
   "cell_type": "markdown",
   "id": "4f459def-5dc8-40d9-bf67-de8a95541a7c",
   "metadata": {},
   "source": [
    "## Analyse des tendances"
   ]
  },
  {
   "cell_type": "markdown",
   "id": "105bad81-b795-4fbf-8a72-0f54a23121d7",
   "metadata": {},
   "source": [
    "L’objectif est maintenant d’analyser les tendances des arrestations sur les années en fonction des groupes démographiques. Montrez comment la fréquence des arrestations varie selon le sexe et le statut de citoyen. Visualisez les tendances temporelles et identifiez si des groupes démographiques spécifiques ont davantage tendance à être arrêtées."
   ]
  },
  {
   "cell_type": "code",
   "execution_count": null,
   "id": "87254052-0236-4218-9d8b-d7bea45cf3fb",
   "metadata": {},
   "outputs": [],
   "source": [
    "# your code here\n",
    "\n"
   ]
  }
 ],
 "metadata": {
  "kernelspec": {
   "display_name": "Python 3 (ipykernel)",
   "language": "python",
   "name": "python3"
  },
  "language_info": {
   "codemirror_mode": {
    "name": "ipython",
    "version": 3
   },
   "file_extension": ".py",
   "mimetype": "text/x-python",
   "name": "python",
   "nbconvert_exporter": "python",
   "pygments_lexer": "ipython3",
   "version": "3.11.10"
  }
 },
 "nbformat": 4,
 "nbformat_minor": 5
}
