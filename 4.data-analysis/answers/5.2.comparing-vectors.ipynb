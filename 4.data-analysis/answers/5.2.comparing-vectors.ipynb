{
 "cells": [
  {
   "cell_type": "markdown",
   "id": "bcf8d796-7a32-4b97-a311-1c95d3aae727",
   "metadata": {},
   "source": [
    "# Comparer des vecteurs"
   ]
  },
  {
   "cell_type": "markdown",
   "id": "a99b8e32-c821-4853-8e08-45e06ae2f039",
   "metadata": {},
   "source": [
    "Rappelons-nous que les vecteurs sont décrits par trois caractéristiques :\n",
    "- **Le sens.** Il s’agit de l’orientation du vecteur dans l’espace (vers le haut, vers le bas…).\n",
    "- **La direction.** Elle décrit la manière dont le vecteur s’oriente relativement à un axe de référence.\n",
    "- **La norme.** Elle représente la longueur du vecteur et se calcule par la formule $\\| \\vec{v} \\| = \\sqrt{\\vec{v} \\cdot \\vec{v}}$\n",
    "\n",
    "Prenons un ensemble de discours prononcés par deux organisations non gouvernementales aux 25e et 26e conférences des parties (COP 25 et 26) organisées par l'Organisation des Nations unies pour le Climat pour lesquels nous avons vectorisé des mots-clés (*action* et *biodiversity*) afin de représenter la manière dont ils ont été utilisés :"
   ]
  },
  {
   "cell_type": "code",
   "execution_count": null,
   "id": "8bdd21b1-5fed-4b49-a658-48dc9ca72882",
   "metadata": {},
   "outputs": [],
   "source": [
    "import numpy as np\n",
    "import pandas as pd\n",
    "\n",
    "data = {\n",
    "    'action': [np.array([-0.019834073, 0.033105727, -0.038958885]), np.array([-0.12261222, 0.018286489, 0.4407857])],\n",
    "    'biodiversity': [np.array([0.005329255, 0.03490175, 0.008037926]), np.array([-0.025283445, 0.03169255, 0.19881622])]\n",
    "}\n",
    "index = ['EDF', 'EJF']\n",
    "\n",
    "df = pd.DataFrame(data, index=index)\n",
    "\n",
    "display(df)"
   ]
  },
  {
   "cell_type": "markdown",
   "id": "840a2a1e-423e-4b05-b9ec-a84d2197c9be",
   "metadata": {},
   "source": [
    "De là, trois approches sont possibles :\n",
    "\n",
    "- obtenir une mesure de tendance centrale des vecteurs afin de comparer les discours ;\n",
    "- évaluer l’intensité des mots-clés en comparant la norme de leurs vecteurs ;\n",
    "- trouver une mesure angulaire pour avoir une idée de l’orientation des vecteurs."
   ]
  },
  {
   "cell_type": "markdown",
   "id": "1a8115ba-baf4-4525-81fe-1ea5b200ded2",
   "metadata": {},
   "source": [
    "## Comparaison de documents"
   ]
  },
  {
   "cell_type": "markdown",
   "id": "7dcdbca4-a6e7-4a19-8c33-1dfd4b2a3182",
   "metadata": {},
   "source": [
    "Le plus souvent lorsque l’objectif est d’évaluer rapidement la similarité entre deux documents, on va retenir une mesure comme la distance euclidienne. Dans notre exemple, une première opération serait de simplifier la représentation des vecteurs en retenant une mesure de tendance centrale.\n",
    "\n",
    "**1e étape :** calculez la moyenne de chaque vecteur mot-clé :"
   ]
  },
  {
   "cell_type": "code",
   "execution_count": null,
   "id": "9ab7602f-5645-4d98-be2c-703a0e185c7a",
   "metadata": {},
   "outputs": [],
   "source": [
    "# your code here\n",
    "\n",
    "# working copy\n",
    "df_mean = df.copy()\n",
    "\n",
    "# vectors are represented by their mean\n",
    "df_mean.action = df_mean.action.apply(np.mean)\n",
    "df_mean.biodiversity = df_mean.biodiversity.apply(np.mean)\n",
    "\n",
    "display(df_mean)"
   ]
  },
  {
   "cell_type": "markdown",
   "id": "8d744e73-69c4-4a62-a59c-495d1c90d299",
   "metadata": {},
   "source": [
    "**2e étape :** calculer la distance entre les documents :"
   ]
  },
  {
   "cell_type": "code",
   "execution_count": null,
   "id": "35e2b5c0-47b7-45da-9e73-8e7377003672",
   "metadata": {},
   "outputs": [],
   "source": [
    "# your code here\n",
    "\n",
    "print(np.linalg.norm(df_mean.loc['EDF'] - df_mean.loc['EJF']))"
   ]
  },
  {
   "cell_type": "markdown",
   "id": "7cbd6a68-e49e-42a9-a912-12db100dadee",
   "metadata": {},
   "source": [
    "**3e étape :** calculer la distance entre les mots-clés :"
   ]
  },
  {
   "cell_type": "code",
   "execution_count": null,
   "id": "49c891bd-1a04-4c26-ad92-ad49dd3cc4af",
   "metadata": {},
   "outputs": [],
   "source": [
    "# your code here\n",
    "\n",
    "print(np.linalg.norm(df_mean.action - df_mean.biodiversity))"
   ]
  },
  {
   "cell_type": "markdown",
   "id": "64602267-2a1b-461f-bd0c-f35e2de55559",
   "metadata": {},
   "source": [
    "## Analyse de thèmes"
   ]
  },
  {
   "cell_type": "markdown",
   "id": "9153eda1-a205-4a18-87ad-df28011d12d3",
   "metadata": {},
   "source": [
    "Si la question est plutôt d’évaluer la force d’un mot-clé dans les discours d’une ONG, on souhaitera plutôt comparer des magnitudes.\n",
    "\n",
    "**1e étape :** calculer la norme des vecteurs :"
   ]
  },
  {
   "cell_type": "code",
   "execution_count": null,
   "id": "4ab0d890-46fa-47dc-b789-96422aab386c",
   "metadata": {},
   "outputs": [],
   "source": [
    "# your code here\n",
    "\n",
    "# working copy\n",
    "df_norm = df.copy()\n",
    "\n",
    "# vectors are represented by their mean\n",
    "df_norm.action = df_norm.action.apply(np.linalg.norm)\n",
    "df_norm.biodiversity = df_norm.biodiversity.apply(np.linalg.norm)\n",
    "\n",
    "display(df_norm)"
   ]
  },
  {
   "cell_type": "markdown",
   "id": "f22355bc-29f6-4bea-b4c0-a970581e505d",
   "metadata": {},
   "source": [
    "**2e étape :** calculer la distance entre les documents :"
   ]
  },
  {
   "cell_type": "code",
   "execution_count": null,
   "id": "04825b57-879f-4014-aa8f-a1cf6c29fe47",
   "metadata": {},
   "outputs": [],
   "source": [
    "# your code here\n",
    "\n",
    "print(np.linalg.norm(df_norm.loc['EDF'] - df_norm.loc['EJF']))"
   ]
  },
  {
   "cell_type": "markdown",
   "id": "7c4eadaa-ba88-47d5-a308-587ec3c5ef49",
   "metadata": {},
   "source": [
    "**3e étape :** calculer la distance entre les mots-clés :"
   ]
  },
  {
   "cell_type": "code",
   "execution_count": null,
   "id": "97352346-485f-496a-ba5e-9d172602f43f",
   "metadata": {},
   "outputs": [],
   "source": [
    "# your code here\n",
    "\n",
    "print(np.linalg.norm(df_norm.action - df_norm.biodiversity))"
   ]
  },
  {
   "cell_type": "markdown",
   "id": "a8412e8d-43cc-437e-9edf-c194b41c0d21",
   "metadata": {},
   "source": [
    "## Évaluer la similarité directionnelle"
   ]
  },
  {
   "cell_type": "markdown",
   "id": "7935700e-b4d9-4bef-b410-9c85e7640d78",
   "metadata": {},
   "source": [
    "Deux vecteurs ayant une orientation dans l’espace, une autre mesure proposée va s’attacher à l’angle qu’ils forment entre eux afin de distinguer à quel point ils se ressemblent : la similarité cosinus.\n",
    "\n",
    "**1e étape :** combiner les vecteurs de mots-clés :"
   ]
  },
  {
   "cell_type": "code",
   "execution_count": null,
   "id": "11761dbf-cd41-4f87-b898-6624cb3e50f1",
   "metadata": {},
   "outputs": [],
   "source": [
    "# your code here\n",
    "\n",
    "df['combined'] = df.apply(lambda row: np.concatenate([row.action, row.biodiversity]), axis=1)"
   ]
  },
  {
   "cell_type": "markdown",
   "id": "9f1c6954-1bf6-4e1a-a02b-d34e99714296",
   "metadata": {},
   "source": [
    "**Remarque :** l’avantage de combiner les vecteurs de mots-clés dans un objet à plus haute dimensionnalité plutôt que de calculer une tendance centrale permet de préserver toute l’information originale (direction et orientation des vecteurs). En linguistique, l’intérêt est certain quand l’objectif est de conserver le sens sémantique des unités analysées."
   ]
  },
  {
   "cell_type": "markdown",
   "id": "014379c6-5355-4797-986a-dc790e0ce968",
   "metadata": {},
   "source": [
    "**2e étape :** créer une fonction `cosine()` pour calculer la similarité cosinus entre deux vecteurs :"
   ]
  },
  {
   "cell_type": "code",
   "execution_count": null,
   "id": "ec8d613b-714f-4510-9817-2d22d72fde1a",
   "metadata": {},
   "outputs": [],
   "source": [
    "# your code here\n",
    "\n",
    "def cosine(vectors):\n",
    "    \"\"\"Compute the cosine similarity between two vectors:\n",
    "    scalar product between v1 and v2 divised by the product of their norms\n",
    "    \"\"\"\n",
    "    v1, v2 = vectors\n",
    "    norm_v1 = np.linalg.norm(v1)\n",
    "    norm_v2 = np.linalg.norm(v2)\n",
    "    score = np.dot(v1, v2) / (norm_v1 * norm_v2)\n",
    "    return score"
   ]
  },
  {
   "cell_type": "markdown",
   "id": "db0b39ea-398d-44c2-9710-7b62ec0c25c6",
   "metadata": {},
   "source": [
    "**3e étape :** calculer la similarité cosinus des discours des deux ONG :"
   ]
  },
  {
   "cell_type": "code",
   "execution_count": null,
   "id": "085aea17-325e-44a1-8f84-59a62829e32b",
   "metadata": {},
   "outputs": [],
   "source": [
    "# your code here\n",
    "\n",
    "similarity = cosine(df.combined.tolist())\n",
    "\n",
    "print(similarity)"
   ]
  },
  {
   "cell_type": "markdown",
   "id": "5e4dda28-8898-48ab-8382-07ff48d89338",
   "metadata": {},
   "source": [
    "Vous devriez trouver un score de -0,3514, qui s’interprète difficilement. Dans ce contexte, les discours des deux ONG sont modérément opposés mais avec un certain degré de relation. On ne peut juger ni de leur discordance totale ni de leur identité : il existe une certaine interaction entre eux, peut-être due au contexte thématique des conférences."
   ]
  }
 ],
 "metadata": {
  "kernelspec": {
   "display_name": "Python 3 (ipykernel)",
   "language": "python",
   "name": "python3"
  },
  "language_info": {
   "codemirror_mode": {
    "name": "ipython",
    "version": 3
   },
   "file_extension": ".py",
   "mimetype": "text/x-python",
   "name": "python",
   "nbconvert_exporter": "python",
   "pygments_lexer": "ipython3",
   "version": "3.11.10"
  }
 },
 "nbformat": 4,
 "nbformat_minor": 5
}
