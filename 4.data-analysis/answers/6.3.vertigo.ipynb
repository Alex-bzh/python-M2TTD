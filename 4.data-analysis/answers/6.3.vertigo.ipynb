{
 "cells": [
  {
   "cell_type": "markdown",
   "id": "5469ab6e-afa7-45dc-9532-ef4d114233cc",
   "metadata": {},
   "source": [
    "# Vertigo"
   ]
  },
  {
   "cell_type": "markdown",
   "id": "ab6f24cd-5ffb-4622-af30-689d3dc3899b",
   "metadata": {},
   "source": [
    "Au cours de cet exercice, vous mènerez une enquête de la meilleure technique de clustering à utiliser pour retrouver les partitions d’un jeu de données spécifique :"
   ]
  },
  {
   "cell_type": "code",
   "execution_count": null,
   "id": "5962f9d8-d570-4182-965d-7d90a4dc1d25",
   "metadata": {},
   "outputs": [],
   "source": [
    "import pandas as pd\n",
    "import seaborn as sns\n",
    "from matplotlib import pyplot as plt\n",
    "\n",
    "df = pd.read_csv(\"../data/spiral.csv\")\n",
    "\n",
    "display(df.head())"
   ]
  },
  {
   "cell_type": "markdown",
   "id": "003499ff-8375-4847-b7b9-c38f1f37491e",
   "metadata": {},
   "source": [
    "Si nous révélons les partitions :"
   ]
  },
  {
   "cell_type": "code",
   "execution_count": null,
   "id": "6bc025e5-fa62-4849-9501-ac910c4637c7",
   "metadata": {},
   "outputs": [],
   "source": [
    "_ = sns.scatterplot(x='x', y='y', hue='color', data=df)"
   ]
  },
  {
   "cell_type": "markdown",
   "id": "83959b56-777b-49cb-bc41-06b6a1f4731d",
   "metadata": {},
   "source": [
    "## Clustering"
   ]
  },
  {
   "cell_type": "markdown",
   "id": "bbddb4ac-9b77-413f-87c2-22f70da2c2e8",
   "metadata": {},
   "source": [
    "En travaillant sur des copies du jeu de données d’origine, comparez a minima trois techniques que vous connaissez pour tenter d’arriver à reproduire la séparation. Vous appliquerez les techniques de telle façon à rajouter une colonne *cluster* à votre *dataframe*."
   ]
  },
  {
   "cell_type": "code",
   "execution_count": null,
   "id": "e1b72805-ca39-4d0e-b86e-f12ec29c8b03",
   "metadata": {},
   "outputs": [],
   "source": [
    "# a working copy\n",
    "df_spiral = df.copy().drop(columns='color')\n",
    "\n",
    "# your code here"
   ]
  },
  {
   "cell_type": "markdown",
   "id": "e987db93-e363-4e92-868a-63dcd1f877d5",
   "metadata": {},
   "source": [
    "Exécutez-le code ci-dessous pour comparer votre proposition avec la situation idéale. **Rappel :** vous devez disposer dans votre *dataframe* d’une variable *cluster*."
   ]
  },
  {
   "cell_type": "code",
   "execution_count": null,
   "id": "67a9f529-6d99-412f-a54a-9bb777c77fef",
   "metadata": {},
   "outputs": [],
   "source": [
    "fig, axes = plt.subplots(1, 2, figsize=(12, 6))\n",
    "\n",
    "# your proposal\n",
    "sns.scatterplot(ax=axes[0], x='x', y='y', hue='cluster', data=df_spiral)\n",
    "axes[0].set_title(\"Votre proposition\")\n",
    "\n",
    "# ideal clustering\n",
    "sns.scatterplot(ax=axes[1], x='x', y='y', hue='color', data=df)\n",
    "axes[1].set_title(\"Partitionnement optimal\")\n",
    "\n",
    "plt.tight_layout()\n",
    "plt.show()"
   ]
  }
 ],
 "metadata": {
  "kernelspec": {
   "display_name": "Python 3 (ipykernel)",
   "language": "python",
   "name": "python3"
  },
  "language_info": {
   "codemirror_mode": {
    "name": "ipython",
    "version": 3
   },
   "file_extension": ".py",
   "mimetype": "text/x-python",
   "name": "python",
   "nbconvert_exporter": "python",
   "pygments_lexer": "ipython3",
   "version": "3.11.10"
  }
 },
 "nbformat": 4,
 "nbformat_minor": 5
}
