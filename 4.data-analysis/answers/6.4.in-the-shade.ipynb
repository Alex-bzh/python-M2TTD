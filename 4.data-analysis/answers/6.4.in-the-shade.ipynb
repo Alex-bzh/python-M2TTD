{
 "cells": [
  {
   "cell_type": "markdown",
   "id": "993abf50-4f33-44b3-9d89-d4b8062f96d8",
   "metadata": {},
   "source": [
    "# Dans l’ombre ?"
   ]
  },
  {
   "cell_type": "markdown",
   "id": "8e10b34a-804e-4b0a-9f43-6e83554c964f",
   "metadata": {},
   "source": [
    "Soient 7 points dans un espace en deux dimensions qui ont été répartis dans trois clusters :\n",
    "\n",
    "| Point | x  | y  | Cluster |\n",
    "|-------|----|----|---------|\n",
    "| A     | 1  | 2  | 1       |\n",
    "| B     | 2  | 1  | 1       |\n",
    "| C     | 8  | 9  | 2       |\n",
    "| D     | 9  | 8  | 2       |\n",
    "| E     | 15 | 16 | 3       |\n",
    "| F     | 16 | 15 | 3       |\n",
    "| G     | 7  | 8  | 1       |\n",
    "\n",
    "Prouvez que le point *G* aurait dû appartenir au cluster n°2."
   ]
  }
 ],
 "metadata": {
  "kernelspec": {
   "display_name": "Python 3 (ipykernel)",
   "language": "python",
   "name": "python3"
  },
  "language_info": {
   "codemirror_mode": {
    "name": "ipython",
    "version": 3
   },
   "file_extension": ".py",
   "mimetype": "text/x-python",
   "name": "python",
   "nbconvert_exporter": "python",
   "pygments_lexer": "ipython3",
   "version": "3.11.10"
  }
 },
 "nbformat": 4,
 "nbformat_minor": 5
}
