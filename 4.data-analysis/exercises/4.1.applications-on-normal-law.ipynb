{
 "cells": [
  {
   "cell_type": "markdown",
   "id": "5b487dc4-ea1f-446c-a727-a23fd2e6e7a0",
   "metadata": {},
   "source": [
    "# Exercices d’application sur la loi normale"
   ]
  },
  {
   "cell_type": "markdown",
   "id": "3b89e406-e558-4cc1-af49-107290d1960f",
   "metadata": {},
   "source": [
    "## Fréquence des mots"
   ]
  },
  {
   "cell_type": "markdown",
   "id": "f9695d7f-7cd0-44ab-8745-65a0189432c0",
   "metadata": {},
   "source": [
    "Dans une grande base de corpus textuels, on observe que la fréquence des mots suit une distribution normale avec une moyenne de 15 occurrences par mot et un écart-type de 5. Quelle proportion de mots apparaissent entre 10 et 20 fois dans ce corpus ?"
   ]
  },
  {
   "cell_type": "markdown",
   "id": "5b7ff392-3949-4730-880f-959aab548887",
   "metadata": {},
   "source": [
    "## Longueur des phrases"
   ]
  },
  {
   "cell_type": "markdown",
   "id": "ac6bbc0e-2112-4fce-bfe5-b3ab6aece228",
   "metadata": {},
   "source": [
    "Dans un corpus littéraire, la longueur des phrases suit une distribution normale avec une moyenne de 18 mots et un écart-type de 4 mots. Quelle est la probabilité qu’une phrase choisie au hasard ait plus de 25 mots ? Moins de 12 mots ?"
   ]
  },
  {
   "cell_type": "markdown",
   "id": "e28d98da-bd00-4f5e-9628-bd9054a631fb",
   "metadata": {},
   "source": [
    "## Analyse de la complexité syntaxique"
   ]
  },
  {
   "cell_type": "markdown",
   "id": "1691fc0e-1e72-4502-b396-18c24434c037",
   "metadata": {},
   "source": [
    "Dans un corpus d’articles scientifiques, la profondeur moyenne des arbres syntaxiques est de 3 niveaux avec un écart-type de 0,5. Quelle proportion de phrases a une profondeur comprise entre 2,5 et 3,5 ?"
   ]
  },
  {
   "cell_type": "markdown",
   "id": "a0df9830-54e2-437e-85ae-cf87715f65db",
   "metadata": {},
   "source": [
    "## Temps de lecture"
   ]
  },
  {
   "cell_type": "markdown",
   "id": "35da76c1-cfe9-483c-a9d8-241c50dadbe8",
   "metadata": {},
   "source": [
    "Supposons qu’un lecteur moyen prend 200 ms en moyenne pour lire un mot dans un texte, avec un écart-type de 30 ms. Si un texte contient 500 mots, quelle est la probabilité qu’il soit lu en moins de 90 secondes ?"
   ]
  },
  {
   "cell_type": "markdown",
   "id": "584738e8-fca2-4d76-ac5e-c030fd746419",
   "metadata": {},
   "source": [
    "## Distribution des noms propres"
   ]
  },
  {
   "cell_type": "markdown",
   "id": "b45c4e1a-9e91-4b0d-a9b9-89885805226a",
   "metadata": {},
   "source": [
    "On remarque que, dans un texte journalistique, la fréquence d’apparition des noms propres suit une distribution normale, avec une moyenne de 5 par page et un écart-type de 1,5. Quelle est la probabilité qu’une page contienne plus de 7 noms propres ?"
   ]
  }
 ],
 "metadata": {
  "kernelspec": {
   "display_name": "Python 3 (ipykernel)",
   "language": "python",
   "name": "python3"
  },
  "language_info": {
   "codemirror_mode": {
    "name": "ipython",
    "version": 3
   },
   "file_extension": ".py",
   "mimetype": "text/x-python",
   "name": "python",
   "nbconvert_exporter": "python",
   "pygments_lexer": "ipython3",
   "version": "3.10.6"
  }
 },
 "nbformat": 4,
 "nbformat_minor": 5
}
