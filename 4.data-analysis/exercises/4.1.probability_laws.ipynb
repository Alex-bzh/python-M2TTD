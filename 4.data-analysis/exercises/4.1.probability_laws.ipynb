{
 "cells": [
  {
   "cell_type": "markdown",
   "id": "d45e44dd-5e20-4127-906c-4777e3f3aa24",
   "metadata": {},
   "source": [
    "# Une approche des lois de probabilités"
   ]
  },
  {
   "cell_type": "markdown",
   "id": "6b76fea4-f549-49e5-bcae-3afaad61308f",
   "metadata": {},
   "source": [
    "Le programme ci-dessous permet de simuler le jet de *n* dés à six faces (`nb_dices`) un certain nombre de fois (`nb_rolls`). Toutes les sommes sont enregistrées dans une liste `results` :"
   ]
  },
  {
   "cell_type": "code",
   "execution_count": null,
   "id": "076ed3aa-d9c8-469e-a8b7-a0f147799293",
   "metadata": {},
   "outputs": [],
   "source": [
    "import numpy as np\n",
    "\n",
    "nb_dices = 10\n",
    "nb_rolls = 10000\n",
    "\n",
    "results = [\n",
    "    np.sum(\n",
    "        np.random.randint(1, 7, nb_dices)\n",
    "    )\n",
    "    for _ in range(nb_dices)\n",
    "]"
   ]
  },
  {
   "cell_type": "markdown",
   "id": "5d935c14-549b-44fe-b016-d01dec4c5122",
   "metadata": {},
   "source": [
    "Pour visualiser le rendu dans un histogramme :"
   ]
  },
  {
   "cell_type": "code",
   "execution_count": null,
   "id": "f993f5de-baf9-4b42-8c8d-efb3a20c4caa",
   "metadata": {},
   "outputs": [],
   "source": [
    "import matplotlib.pyplot as plt\n",
    "\n",
    "plt.hist(results, bins=30, density=True, color='skyblue', edgecolor='black')\n",
    "plt.xlabel(\"Somme des lancers\")\n",
    "plt.ylabel(\"Fréquence\")\n",
    "plt.title(f\"Distribution de la somme des lancers de {nb_dices} dés\")\n",
    "plt.show()"
   ]
  },
  {
   "cell_type": "markdown",
   "id": "eeded6da-b3df-4d9e-adc3-cba277223d25",
   "metadata": {},
   "source": [
    "**Remarque :** si vous modifiez les paramètres, vous devriez observer que la distribution des sommes tend à suivre une loi normale.\n",
    "\n",
    "Votre objectif est de transformer ce court programme en un script exécutable directement depuis une ILC (interface en ligne de commande) avec en prime le passages d’options pour définir le nombre de lancers ainsi que le nombre de dés dans un lancer.\n",
    "\n",
    "Par exemple :\n",
    "\n",
    "```bash\n",
    "./rolls.py -d 100 -r 1000\n",
    "```"
   ]
  }
 ],
 "metadata": {
  "kernelspec": {
   "display_name": "Python 3 (ipykernel)",
   "language": "python",
   "name": "python3"
  },
  "language_info": {
   "codemirror_mode": {
    "name": "ipython",
    "version": 3
   },
   "file_extension": ".py",
   "mimetype": "text/x-python",
   "name": "python",
   "nbconvert_exporter": "python",
   "pygments_lexer": "ipython3",
   "version": "3.10.6"
  }
 },
 "nbformat": 4,
 "nbformat_minor": 5
}
