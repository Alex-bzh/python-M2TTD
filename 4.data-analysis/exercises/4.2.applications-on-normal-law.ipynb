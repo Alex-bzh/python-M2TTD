{
 "cells": [
  {
   "cell_type": "markdown",
   "id": "5b487dc4-ea1f-446c-a727-a23fd2e6e7a0",
   "metadata": {},
   "source": [
    "# Exercices d’application sur la loi normale"
   ]
  },
  {
   "cell_type": "markdown",
   "id": "3b89e406-e558-4cc1-af49-107290d1960f",
   "metadata": {},
   "source": [
    "## Fréquence des mots"
   ]
  },
  {
   "cell_type": "markdown",
   "id": "f9695d7f-7cd0-44ab-8745-65a0189432c0",
   "metadata": {},
   "source": [
    "Dans une grande base de corpus textuels, on observe que la fréquence des mots suit une distribution normale avec une moyenne de 15 occurrences par mot et un écart-type de 5. Quelle proportion de mots apparaissent entre 10 et 20 fois dans ce corpus ?"
   ]
  },
  {
   "cell_type": "markdown",
   "id": "5b7ff392-3949-4730-880f-959aab548887",
   "metadata": {},
   "source": [
    "## Longueur des phrases"
   ]
  },
  {
   "cell_type": "markdown",
   "id": "ac6bbc0e-2112-4fce-bfe5-b3ab6aece228",
   "metadata": {},
   "source": [
    "Dans un corpus littéraire, la longueur des phrases suit une distribution normale avec une moyenne de 18 mots et un écart-type de 4 mots. Quelle est la probabilité qu’une phrase choisie au hasard ait plus de 25 mots ? Moins de 12 mots ?"
   ]
  },
  {
   "cell_type": "code",
   "execution_count": 3,
   "id": "35b49399-2d74-49ba-bb13-800dda289043",
   "metadata": {},
   "outputs": [
    {
     "data": {
      "text/plain": [
       "-1.5"
      ]
     },
     "execution_count": 3,
     "metadata": {},
     "output_type": "execute_result"
    }
   ],
   "source": [
    "(12-18) / 4"
   ]
  },
  {
   "cell_type": "markdown",
   "id": "e28d98da-bd00-4f5e-9628-bd9054a631fb",
   "metadata": {},
   "source": [
    "## Analyse de la complexité syntaxique"
   ]
  },
  {
   "cell_type": "markdown",
   "id": "1691fc0e-1e72-4502-b396-18c24434c037",
   "metadata": {},
   "source": [
    "Dans un corpus d’articles scientifiques, la profondeur moyenne des arbres syntaxiques est de 3 niveaux avec un écart-type de 0,5. Quelle proportion de phrases a une profondeur comprise entre 2,5 et 3,5 ?"
   ]
  },
  {
   "cell_type": "markdown",
   "id": "a0df9830-54e2-437e-85ae-cf87715f65db",
   "metadata": {},
   "source": [
    "## Temps de lecture"
   ]
  },
  {
   "cell_type": "markdown",
   "id": "35da76c1-cfe9-483c-a9d8-241c50dadbe8",
   "metadata": {},
   "source": [
    "Supposons qu’un lecteur moyen prend 200 ms en moyenne pour lire un mot dans un texte, avec un écart-type de 30 ms. Si un texte contient 500 mots, quelle est la probabilité qu’il soit lu en moins de 90 secondes ?"
   ]
  },
  {
   "cell_type": "code",
   "execution_count": 11,
   "id": "642821a2-df29-4539-93e4-9aef59136309",
   "metadata": {},
   "outputs": [],
   "source": [
    "temps_sec = 200 * 500 / 1000\n",
    "ecart_type = (30 * 500 ** .5) / 1000"
   ]
  },
  {
   "cell_type": "code",
   "execution_count": 13,
   "id": "75fd8a71-2dbd-436f-9bb0-98a669cfec14",
   "metadata": {},
   "outputs": [
    {
     "data": {
      "text/plain": [
       "-14.907119849998598"
      ]
     },
     "execution_count": 13,
     "metadata": {},
     "output_type": "execute_result"
    }
   ],
   "source": [
    "(90- temps_sec) / ecart_type"
   ]
  },
  {
   "cell_type": "markdown",
   "id": "584738e8-fca2-4d76-ac5e-c030fd746419",
   "metadata": {},
   "source": [
    "## Distribution des noms propres"
   ]
  },
  {
   "cell_type": "markdown",
   "id": "b45c4e1a-9e91-4b0d-a9b9-89885805226a",
   "metadata": {},
   "source": [
    "On remarque que, dans un texte journalistique, la fréquence d’apparition des noms propres suit une distribution normale, avec une moyenne de 5 par page et un écart-type de 1,5. Quelle est la probabilité qu’une page contienne plus de 7 noms propres ?"
   ]
  },
  {
   "cell_type": "code",
   "execution_count": 15,
   "id": "93476c80-afd6-4c56-a2ec-d711f27625a0",
   "metadata": {},
   "outputs": [
    {
     "data": {
      "text/plain": [
       "0.09179999999999999"
      ]
     },
     "execution_count": 15,
     "metadata": {},
     "output_type": "execute_result"
    }
   ],
   "source": [
    "#(7 - 5) / 1.5\n",
    "1 - 0.9082"
   ]
  },
  {
   "cell_type": "code",
   "execution_count": null,
   "id": "5df261f4-4d7b-4d03-85de-abea391d81eb",
   "metadata": {},
   "outputs": [],
   "source": []
  }
 ],
 "metadata": {
  "kernelspec": {
   "display_name": "Python 3 (ipykernel)",
   "language": "python",
   "name": "python3"
  },
  "language_info": {
   "codemirror_mode": {
    "name": "ipython",
    "version": 3
   },
   "file_extension": ".py",
   "mimetype": "text/x-python",
   "name": "python",
   "nbconvert_exporter": "python",
   "pygments_lexer": "ipython3",
   "version": "3.10.6"
  }
 },
 "nbformat": 4,
 "nbformat_minor": 5
}
