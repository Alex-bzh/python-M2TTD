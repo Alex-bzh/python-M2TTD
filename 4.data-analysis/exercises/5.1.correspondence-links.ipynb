{
 "cells": [
  {
   "cell_type": "markdown",
   "id": "686e2a83-adfa-4627-b49d-f989be418190",
   "metadata": {},
   "source": [
    "# Les liens de la correspondance"
   ]
  },
  {
   "cell_type": "markdown",
   "id": "2bc875ae-91a6-4ae1-96cc-372fcd3b389f",
   "metadata": {},
   "source": [
    "Vous disposez d’un jeu de données répertoriant une évaluation sur dix textes :"
   ]
  },
  {
   "cell_type": "code",
   "execution_count": null,
   "id": "efcbd3a8-9772-4762-9fb5-87ffa4c5d81d",
   "metadata": {},
   "outputs": [],
   "source": [
    "import pandas as pd\n",
    "import random\n",
    "\n",
    "genres = ['Poetry', 'Theatre', 'Novel']\n",
    "dialogues = ['Yes', 'No']\n",
    "periods = ['Classical', 'Modern', 'Contemporary']\n",
    "\n",
    "data = {\n",
    "    'Literary Genre': [random.choice(genres) for _ in range(10)],\n",
    "    'Period': [random.choice(periods) for _ in range(10)],\n",
    "    'Contains Dialogues': [random.choice(dialogues) for _ in range(10)]\n",
    "}\n",
    "\n",
    "df = pd.DataFrame(data, index=[f'Text {i}' for i in range(1, 11)])\n",
    "\n",
    "display(df)"
   ]
  },
  {
   "cell_type": "markdown",
   "id": "087301f8-14f9-4e00-99ce-8ee195544a09",
   "metadata": {},
   "source": [
    "Calculez la matrice de dissimilarités entre les textes en utilisant une mesure adaptée aux variables catégorielles puis identifiez quelles sont les paires les plus similaires et les plus différentes."
   ]
  },
  {
   "cell_type": "code",
   "execution_count": null,
   "id": "729a6e00-a729-4a5f-b9b3-ce2350c95365",
   "metadata": {},
   "outputs": [],
   "source": [
    "# your code here"
   ]
  }
 ],
 "metadata": {
  "kernelspec": {
   "display_name": "Python 3 (ipykernel)",
   "language": "python",
   "name": "python3"
  },
  "language_info": {
   "codemirror_mode": {
    "name": "ipython",
    "version": 3
   },
   "file_extension": ".py",
   "mimetype": "text/x-python",
   "name": "python",
   "nbconvert_exporter": "python",
   "pygments_lexer": "ipython3",
   "version": "3.11.10"
  }
 },
 "nbformat": 4,
 "nbformat_minor": 5
}
