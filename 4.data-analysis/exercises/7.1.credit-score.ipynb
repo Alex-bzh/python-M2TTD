{
 "cells": [
  {
   "cell_type": "markdown",
   "id": "637cb64c-2e8f-422b-beac-3a29b567409a",
   "metadata": {},
   "source": [
    "# À découvert"
   ]
  },
  {
   "cell_type": "markdown",
   "id": "747b50da-2454-4395-9594-c2e6aa5775ac",
   "metadata": {},
   "source": [
    "Analyste dans le monde financier, vous avez pour charge de monter un petit système intelligent pour classer automatiquement les client·es d’une agence bancaire en fonction de leur *score de crédit*, une classification à trois niveaux qui détermine la solvabilité d’une personne.\n",
    "\n",
    "Vous disposez pour cela d’un [jeu de données](../data/credit-score.csv) dans lequel la compagnie a rapatrié quelques informations sur les client·es :\n",
    "\n",
    "|Variable|Description|\n",
    "|:-:|:-|\n",
    "|*Age*|Âge de la personne|\n",
    "|*Gender*|Genre déclaré|\n",
    "|*Income*|Revenu en dollars|\n",
    "|*Education*|Plus haut diplôme obtenu|\n",
    "|*Marital Status*|Facteur à deux niveaux : *Single*, *Married*|\n",
    "|*Number of Children*|Nombre d’enfants|\n",
    "|*Home Ownership*|Facteur à deux niveaux : *Rented* ou *Ownership*|\n",
    "|*Credit Score*|Facteur à trois niveaux : *High*, *Average* ou *Low*|\n",
    "\n",
    "Commencez par charger le jeu de données :"
   ]
  },
  {
   "cell_type": "code",
   "execution_count": null,
   "id": "afd4d7bd-c87a-4608-a7db-f3d162dd595b",
   "metadata": {},
   "outputs": [],
   "source": [
    "import pandas as pd\n",
    "\n",
    "df = pd.read_csv('../data/credit-score.csv')\n",
    "\n",
    "display(df.head())"
   ]
  },
  {
   "cell_type": "markdown",
   "id": "2c8d3123-2a91-455d-b91b-6c9f5c021b70",
   "metadata": {},
   "source": [
    "En utilisant les techniques de **l’analyse discriminante linéaire**, proposez un modèle prédictif capable de déterminer le score de crédit pour tout nouveau et toute nouvelle client·e de l’agence. Produisez les métriques d’évaluation de vore modèle."
   ]
  },
  {
   "cell_type": "code",
   "execution_count": null,
   "id": "991a9834-986c-406a-823b-9817c7f718c3",
   "metadata": {},
   "outputs": [],
   "source": [
    "# your code here"
   ]
  }
 ],
 "metadata": {
  "kernelspec": {
   "display_name": "Python 3 (ipykernel)",
   "language": "python",
   "name": "python3"
  },
  "language_info": {
   "codemirror_mode": {
    "name": "ipython",
    "version": 3
   },
   "file_extension": ".py",
   "mimetype": "text/x-python",
   "name": "python",
   "nbconvert_exporter": "python",
   "pygments_lexer": "ipython3",
   "version": "3.11.10"
  }
 },
 "nbformat": 4,
 "nbformat_minor": 5
}
