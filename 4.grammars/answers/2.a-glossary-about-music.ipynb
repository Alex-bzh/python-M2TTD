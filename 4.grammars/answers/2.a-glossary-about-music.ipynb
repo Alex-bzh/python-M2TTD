{
 "cells": [
  {
   "cell_type": "markdown",
   "metadata": {},
   "source": [
    "# Tout pour la musique\n",
    "\n",
    "Vous disposez d’un glossaire bilingue sur la musique au format TSV (*Tabulated-separated values*) que vous souhaitez convertir au format TBX.\n",
    "\n",
    "Chargez tout d’abord le fichier dans une variable `rows` :"
   ]
  },
  {
   "cell_type": "code",
   "execution_count": null,
   "metadata": {},
   "outputs": [],
   "source": [
    "import csv\n",
    "\n",
    "with open('../files/music-glossary.tsv') as csvfile:\n",
    "    fieldnames = ['term', 'preferred', 'alternates']\n",
    "    reader = csv.DictReader(csvfile, delimiter='\\t', fieldnames=fieldnames)\n",
    "    \n",
    "    rows = [ row for row in reader ]"
   ]
  },
  {
   "cell_type": "markdown",
   "metadata": {},
   "source": [
    "Vous remarquez que chaque enregistrement contient trois cellules : `term`, `preferred` et `alternates`. La cellule `en` sert à indiquer la traduction à privilégier tandis que la cellule `alternates` propose des variantes.\n",
    "\n",
    "Une fois que vous aurez sélectionné [la feuille de validation appropriée](https://github.com/LTAC-Global) pour votre fichier TBX, écrivez le programme qui convertit le fichier :"
   ]
  },
  {
   "cell_type": "code",
   "execution_count": null,
   "metadata": {},
   "outputs": [],
   "source": [
    "# your code here\n",
    "\n",
    "# a more suitable structure to analyse\n",
    "\n",
    "glossary = list()\n",
    "\n",
    "for row in rows:\n",
    "    glossary.append({\n",
    "        'fr': {\n",
    "            'preferred': row['term']\n",
    "        },\n",
    "        'en': {\n",
    "            'preferred': row['preferred'],\n",
    "            'admitted': row['alternates']\n",
    "        }\n",
    "    })"
   ]
  },
  {
   "cell_type": "code",
   "execution_count": null,
   "metadata": {},
   "outputs": [],
   "source": [
    "# XML module\n",
    "import xml.etree.ElementTree as ET\n",
    "\n",
    "# open new file\n",
    "with open('../files/glossary.tbx', 'wb') as xmlfile:\n",
    "    \n",
    "    # prologue\n",
    "    xmlfile.write(b'<?xml version=\"1.0\" encoding=\"utf-8\"?>\\n')\n",
    "    \n",
    "    # DTD\n",
    "    xmlfile.write(b'<?xml-model href=\"./TBXcoreStructV03_TBX-Min_integrated.rng\" type=\"application/xml\" schematypens=\"http://relaxng.org/ns/structure/1.0\"?>\\n')\n",
    "\n",
    "    # root element to tree structure\n",
    "    root = ET.Element('tbx', {\n",
    "        'type': 'TBX-Min',\n",
    "        'style': 'dca',\n",
    "        'xml:lang': 'en',\n",
    "        'xmlns': 'urn:iso:std:iso:30042:ed-2'\n",
    "    })\n",
    "    tree = ET.ElementTree(root)\n",
    "    \n",
    "    # header\n",
    "    tbxHeader = ET.SubElement(root, 'tbxHeader')\n",
    "    fileDesc = ET.SubElement(tbxHeader, 'fileDesc')\n",
    "    sourceDesc = ET.SubElement(fileDesc, 'sourceDesc')\n",
    "    p = ET.SubElement(sourceDesc, 'p')\n",
    "    p.text = 'A very faulty glossary about music'\n",
    "    \n",
    "    # text\n",
    "    text = ET.SubElement(root, 'text')\n",
    "    \n",
    "    # body\n",
    "    body = ET.SubElement(text, 'body')\n",
    "\n",
    "    # one concept by entry in the glossary\n",
    "    for idx, concept in enumerate(glossary):\n",
    "\n",
    "        # conceptEntry with a custom id\n",
    "        conceptEntry = ET.SubElement(body, 'conceptEntry', { 'id': f\"c{idx}\"})\n",
    "\n",
    "        # two languages\n",
    "        for lang, variants in concept.items():\n",
    "\n",
    "            # langSec\n",
    "            langSec = ET.SubElement(conceptEntry, 'langSec', { 'xml:lang': lang })\n",
    "\n",
    "            # sometimes, more than just one term\n",
    "            for status, variant in variants.items():\n",
    "\n",
    "                # if variant differs from None\n",
    "                if variant:\n",
    "\n",
    "                    # termSec\n",
    "                    termSec = ET.SubElement(langSec, 'termSec')\n",
    "\n",
    "                    # term\n",
    "                    term = ET.SubElement(termSec, 'term')\n",
    "                    term.text = variant\n",
    "\n",
    "                    # termNote\n",
    "                    termNote = ET.SubElement(termSec, 'termNote', { 'type': 'administrativeStatus'})\n",
    "                    termNote.text = f\"{status}Term-admn-sts\"\n",
    "    \n",
    "    # serialize tree in file\n",
    "    tree.write(xmlfile)"
   ]
  }
 ],
 "metadata": {
  "kernelspec": {
   "display_name": "Python 3",
   "language": "python",
   "name": "python3"
  },
  "language_info": {
   "codemirror_mode": {
    "name": "ipython",
    "version": 3
   },
   "file_extension": ".py",
   "mimetype": "text/x-python",
   "name": "python",
   "nbconvert_exporter": "python",
   "pygments_lexer": "ipython3",
   "version": "3.7.4"
  }
 },
 "nbformat": 4,
 "nbformat_minor": 4
}
