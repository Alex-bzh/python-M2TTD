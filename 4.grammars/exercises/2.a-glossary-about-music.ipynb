{
 "cells": [
  {
   "cell_type": "markdown",
   "metadata": {},
   "source": [
    "# Tout pour la musique\n",
    "\n",
    "Vous disposez d’un glossaire bilingue sur la musique au format TSV (*Tabulated-separated values*) que vous souhaitez convertir au format TBX.\n",
    "\n",
    "Chargez tout d’abord le fichier dans une variable `rows` :"
   ]
  },
  {
   "cell_type": "code",
   "execution_count": null,
   "metadata": {},
   "outputs": [],
   "source": [
    "import csv\n",
    "\n",
    "with open('../files/music-glossary.tsv') as csvfile:\n",
    "    fieldnames = ['term', 'preferred', 'alternates']\n",
    "    reader = csv.DictReader(csvfile, delimiter='\\t', fieldnames=fieldnames)\n",
    "    \n",
    "    rows = [ row for row in reader ]"
   ]
  },
  {
   "cell_type": "markdown",
   "metadata": {},
   "source": [
    "Vous remarquez que chaque enregistrement contient trois cellules : `term`, `preferred` et `alternates`. La cellule `preferred` sert à indiquer la traduction à privilégier tandis que la cellule `alternates` propose des variantes.\n",
    "\n",
    "Une fois que vous aurez sélectionné [la feuille de validation appropriée](https://github.com/LTAC-Global) pour votre fichier TBX, écrivez le programme qui convertit le fichier :"
   ]
  },
  {
   "cell_type": "code",
   "execution_count": null,
   "metadata": {},
   "outputs": [],
   "source": [
    "# your code here\n"
   ]
  }
 ],
 "metadata": {
  "kernelspec": {
   "display_name": "Python 3",
   "language": "python",
   "name": "python3"
  },
  "language_info": {
   "codemirror_mode": {
    "name": "ipython",
    "version": 3
   },
   "file_extension": ".py",
   "mimetype": "text/x-python",
   "name": "python",
   "nbconvert_exporter": "python",
   "pygments_lexer": "ipython3",
   "version": "3.7.4"
  }
 },
 "nbformat": 4,
 "nbformat_minor": 4
}
