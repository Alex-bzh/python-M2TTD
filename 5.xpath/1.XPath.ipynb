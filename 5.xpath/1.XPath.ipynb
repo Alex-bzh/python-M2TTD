{
 "cells": [
  {
   "cell_type": "markdown",
   "metadata": {},
   "source": [
    "# Se frayer un chemin avec XPath"
   ]
  },
  {
   "cell_type": "markdown",
   "metadata": {},
   "source": [
    "## Présentation"
   ]
  },
  {
   "cell_type": "markdown",
   "metadata": {},
   "source": [
    "Le langage XPath est à la croisée des chemins de plusieurs technologies. On retrouve par exemple des expressions XPath dans XSLT et XQuery. En plus d’une syntaxe déclarative qui permet de tracer un chemin dans l’arborescence d’un document, XPath continue d’implémenter au long de ses versions successives des fonctions de plus en plus variées qui finissent par lui donner des airs de langage de programmation.\n",
    "\n",
    "![À la croisée des chemins](./pics/1-fig1.png)\n",
    "\n",
    "XPath n’opère que sur des documents déjà modélisés par un analyseur syntaxique (*parser*) sous forme arborescente. Et pour lui, tout est nœud : un élément, un attribut, du texte, un commentaire, un espace de nommage… Il établit ensuite une relation de dépendance hiérarchique entre eux, grâce à la syntaxe, et peut ainsi se déplacer dans la structure afin de répondre à des requêtes précises."
   ]
  },
  {
   "cell_type": "markdown",
   "metadata": {},
   "source": [
    "## Les relations de parenté"
   ]
  },
  {
   "cell_type": "markdown",
   "metadata": {},
   "source": [
    "### Les nœuds parents"
   ]
  },
  {
   "cell_type": "markdown",
   "metadata": {},
   "source": [
    "Les nœuds n’ont toujours qu’un seul parent.\n",
    "\n",
    "```xml\n",
    "<!-- <characters> parent de Leonard, Penny et Sheldon -->\n",
    "<characters>\n",
    "    <character name=\"Leonard\"/>\n",
    "    <character name=\"Penny\"/>\n",
    "    <character name=\"Sheldon\"/>\n",
    "</characters>\n",
    "```"
   ]
  },
  {
   "cell_type": "markdown",
   "metadata": {},
   "source": [
    "### Les nœuds enfants"
   ]
  },
  {
   "cell_type": "markdown",
   "metadata": {},
   "source": [
    "Un nœud peut avoir un ou plusieurs enfants, voire aucun.\n",
    "\n",
    "```xml\n",
    "<!-- Leonard, Penny et Sheldon, enfants de <characters> -->\n",
    "<characters>\n",
    "    <character name=\"Leonard\"/>\n",
    "    <character name=\"Penny\"/>\n",
    "    <character name=\"Sheldon\"/>\n",
    "</characters>\n",
    "```"
   ]
  },
  {
   "cell_type": "markdown",
   "metadata": {},
   "source": [
    "### Les fratries"
   ]
  },
  {
   "cell_type": "markdown",
   "metadata": {},
   "source": [
    "La fratrie caractérise les nœuds qui partagent le même parent.\n",
    "\n",
    "```xml\n",
    "<!-- Leonard, Penny et Sheldon forment une fratrie -->\n",
    "<characters>\n",
    "    <character name=\"Leonard\"/>\n",
    "    <character name=\"Penny\"/>\n",
    "    <character name=\"Sheldon\"/>\n",
    "</characters>\n",
    "```"
   ]
  },
  {
   "cell_type": "markdown",
   "metadata": {},
   "source": [
    "### Les ancêtres et les descendants"
   ]
  },
  {
   "cell_type": "markdown",
   "metadata": {},
   "source": [
    "Les ancêtres désignent le parent d’un nœud, son parent à lui, et ainsi de suite jusqu’à remonter à la racine du document. À l’inverse, la relation de descendants désigne les enfants d’un nœud, ses enfants à lui, etc.\n",
    "\n",
    "```xml\n",
    "<!-- <show> et <characters> sont ancêtres de Leonard, Penny et Sheldon -->\n",
    "<!-- Tous les nœuds descendent de <show> -->\n",
    "<show title=\"The Big Bang Theory\">\n",
    "    <characters>\n",
    "        <character name=\"Leonard\"/>\n",
    "        <character name=\"Penny\"/>\n",
    "        <character name=\"Sheldon\"/>\n",
    "    </characters>\n",
    "</show>\n",
    "```"
   ]
  },
  {
   "cell_type": "markdown",
   "metadata": {},
   "source": [
    "## La syntaxe des requêtes"
   ]
  },
  {
   "cell_type": "markdown",
   "metadata": {},
   "source": [
    "Les exemples qui suivent se basent sur le document XML ci-dessous :\n",
    "\n",
    "```xml\n",
    "<?xml version=\"1.0\" encoding=\"UTF-8\"?>\n",
    "<show title=\"The Big Bang Theory\">\n",
    "     <characters>\n",
    "         <character pID=\"leonard\">\n",
    "             <firstname>Leonard</firstname>\n",
    "            <lastname>Hofstadter</lastname>\n",
    "         </character>\n",
    "         <character pID=\"penny\">\n",
    "             <firstname>Penny</firstname>\n",
    "         </character>\n",
    "    </characters>\n",
    "    <actors>\n",
    "        <actor pIDREF=\"leonard\">\n",
    "            <firstname>Johnny</firstname>\n",
    "            <lastname>Galecki</lastname>\n",
    "            <birth>1975-04-30</birth>\n",
    "        </actor>\n",
    "        <actor pIDREF=\"penny\">\n",
    "            <firstname>Kaley</firstname>\n",
    "            <lastname>Cuoco-Sweeting</lastname>\n",
    "            <birth>1985-11-30</birth>\n",
    "        </actor>\n",
    "    </actors>\n",
    "</show>\n",
    "```"
   ]
  },
  {
   "cell_type": "markdown",
   "metadata": {},
   "source": [
    "### Les expressions XPath"
   ]
  },
  {
   "cell_type": "markdown",
   "metadata": {},
   "source": [
    "Les requêtes XPath répondent à une syntaxe précise qui permet d’effectuer des requêtes sur un document structuré.\n",
    "\n",
    "|Expression|Description|\n",
    "|:-:|:-|\n",
    "|`nœud`|Sélection des nœuds `nœud`|\n",
    "|`/`|Sélection à partir de la racine.|\n",
    "|`//nœud`|Sélection de tous les nœuds nœud peu importe leur localisation dans le document.|\n",
    "|`.`|Sélectionne le nœud courant.|\n",
    "|`..`|Sélectionne le nœud parent du nœud courant.|\n",
    "|`@`|Sélection d’attributs.|\n",
    "|`*`|Joker d’éléments.|\n",
    "|`@*`|Joker d’attributs.|\n",
    "|`node()`|Joker de nœuds.|"
   ]
  },
  {
   "cell_type": "markdown",
   "metadata": {},
   "source": [
    "#### Exemples de requêtes basées sur les expressions"
   ]
  },
  {
   "cell_type": "markdown",
   "metadata": {},
   "source": [
    "- sélectionner tous les personnages :\n",
    "```\n",
    "/show/characters\n",
    "//characters\n",
    "```\n",
    "- sélectionner chaque personnage :\n",
    "```\n",
    "/show/characters/character\n",
    "//character\n",
    "```\n",
    "- sélectionner les identifiants de personnages :\n",
    "```\n",
    "//@pID\n",
    "```\n",
    "- sélectionner tous les attributs :\n",
    "```\n",
    "//@*\n",
    "```"
   ]
  },
  {
   "cell_type": "markdown",
   "metadata": {},
   "source": [
    "### Les prédicats"
   ]
  },
  {
   "cell_type": "markdown",
   "metadata": {},
   "source": [
    "Pour sélectionner un nœud spécifique, la syntaxe met à disposition la notation crochets `[]` avec, à l’intérieur, la condition à réaliser pour la sélection.\n",
    "\n",
    "Par exemple, pour sélectionner le nœud qui identifie le personnage de Penny, plusieurs possibilités (non exhaustives) :\n",
    "\n",
    "```\n",
    "//character[2]\n",
    "//character[@pID = \"penny\"]\n",
    "//character[last() - 1]\n",
    "//character[position() = 2]\n",
    "```"
   ]
  },
  {
   "cell_type": "markdown",
   "metadata": {},
   "source": [
    "### Les opérateurs"
   ]
  },
  {
   "cell_type": "markdown",
   "metadata": {},
   "source": [
    "Sans surprise, le langage met à disposition les opérateurs classiques de tout langage :\n",
    "\n",
    "- **arithmétiques :** `+` `-` `*` `div` `mod`\n",
    "- **comparaison :** `=` `!=` `>` `<` `>=` `<=`\n",
    "- **logiques :** `or` `and`\n",
    "- **concaténation :** `|`\n",
    "\n",
    "```\n",
    "/* Tous les acteurs nés avant 1980 */\n",
    "//actor[birth < \"1980-01-01\"]/nom\n",
    "\n",
    "/* Acteurs nés dans années 70 */\n",
    "//actor[birth < \"1980-01-01\" and birth > \"1969-12-31\"]/name\n",
    "\n",
    "/* Leonard et son interprète */\n",
    "//character[@pID=\"leonard\"] | //actor[@pIDREF=\"leonard\"]\n",
    "```"
   ]
  },
  {
   "cell_type": "markdown",
   "metadata": {},
   "source": [
    "### Les lignages"
   ]
  },
  {
   "cell_type": "markdown",
   "metadata": {},
   "source": [
    "Les lignages désignent une catégorie de mots-clés pour sélectionner un ensemble de nœuds relativement au nœud courant.\n",
    "\n",
    "|Lignage|Description|\n",
    "|:-:|:-|\n",
    "|`ancestor`|Tous les ancêtres du nœud courant|\n",
    "|`ancestor-or-self`|Tous les ancêtres du nœud courant ainsi que lui-même|\n",
    "|`attribute`|Tous les attributs du nœud courant|\n",
    "|`child`|Tous les enfants du nœud courant|\n",
    "|`descendant`|Tous les descendants du nœud courant|\n",
    "|`descendant-or-self`|Tous les descendants du nœud courant et lui-même|\n",
    "|`following`|Tout le document après la balise de fermeture du nœud courant|\n",
    "|`following-sibling`|Les fratries qui suivent le nœud courant|\n",
    "|`namespace`|Tous les espaces de noms du nœud courant|\n",
    "|`parent`|Le parent du nœud courant|\n",
    "|`preceding`|Tous les nœuds qui précèdent le nœud courant, à l’exception des ancêtres, des attributs et des espaces de noms|\n",
    "|`preceding-sibling`|Les fratries qui précèdent le nœud courant|\n",
    "|`self`|Le nœud courant|\n",
    "\n",
    "La syntaxe d’expression des lignages répond au schéma suivant :\n",
    "\n",
    "```\n",
    "lignage::nœud-test[predicat]\n",
    "```\n",
    "\n",
    "Par exemple, pour sélectionner tous les attributs du nœud courant :\n",
    "\n",
    "```\n",
    "attribute::*\n",
    "```\n",
    "\n",
    "Pour sélectionner le premier prénom parmi les descendants du nœud courant :\n",
    "```\n",
    "descendant::firstname[1]\n",
    "```\n",
    "\n",
    "À noter que certains opérateurs sont des expressions raccourcies :\n",
    "\n",
    "|Opérateur|Lignage correspondant|\n",
    "|:-:|:-|\n",
    "|`.`|`self::node()`|\n",
    "|`..`|`parent::node()`|\n",
    "|`//`|`descendant-or-self::node()`|"
   ]
  },
  {
   "cell_type": "markdown",
   "metadata": {},
   "source": [
    "### Les fonctions natives"
   ]
  },
  {
   "cell_type": "markdown",
   "metadata": {},
   "source": [
    "XPath partage une [librairie de fonctions](https://www.w3.org/TR/xpath-functions-3/) commune avec XQuery et XSLT."
   ]
  },
  {
   "cell_type": "markdown",
   "metadata": {},
   "source": [
    "#### Fonctions utiles sur les valeurs numériques\n",
    "\n",
    "|Fonction|Action|\n",
    "|:-:|:-|\n",
    "|`abs(a)`|Renvoie la valeur absolue de `a`.|\n",
    "|`ceiling(a)`|Renvoie l’arrondi supérieur de `a`.|\n",
    "|`floor(a)`|Renvoie l’arrondi inférieur de `a`.|\n",
    "|`number(a)`|Convertit si possible a en nombre.|\n",
    "|`round(a)`|Renvoie le plus proche arrondi `a`.|"
   ]
  },
  {
   "cell_type": "markdown",
   "metadata": {},
   "source": [
    "#### Fonctions utiles sur les chaînes de caractères\n",
    "\n",
    "|Fonction|Action|\n",
    "|:-:|:-|\n",
    "|`concat(a,b,)`|Retourne une chaîne des arguments concaténés.|\n",
    "|`contains(a,b)`|Teste si `b` est présent dans `a`.|\n",
    "|`ends-with(a,b)`|Renvoie `true` si `a` finit par `b`.|\n",
    "|`matches(a,b)`|Renvoie true si `b` est présent dans `a`.|\n",
    "|`replace(a,b,c)`|Remplace `b` par `c` dans `a`.|\n",
    "|`starts-with(a,b)`|Renvoie `true` si `a` commence par `b`.|\n",
    "|`string(a)`|Convertit `a` en chaîne de caractères.|\n",
    "|`string-length(a)`|Calcule la taille de la chaîne de caractères.|\n",
    "|`substring(a,b[,c])`|Renvoie un extrait de `a`, de longueur `c` à partir de `b`.|\n",
    "|`tokenize(a, b)`|Renvoie une liste de tokens de `a` en fonction de l’expression `b`.|"
   ]
  },
  {
   "cell_type": "markdown",
   "metadata": {},
   "source": [
    "#### Fonctions utiles sur les nœuds\n",
    "\n",
    "|Fonction|Action|\n",
    "|:-:|:-|\n",
    "|`lang(a)`|Teste la langue du nœud courant avec la langue déclarée pour le document.|\n",
    "|`local-name()`|Renvoie le nom du nœud courant, sans l’espace de nommage.|\n",
    "|`name()`|Renvoie le nom du nœud courant.|"
   ]
  },
  {
   "cell_type": "markdown",
   "metadata": {},
   "source": [
    "#### Fonctions utiles sur les booléens\n",
    "\n",
    "|Fonction|Action|\n",
    "|:-:|:-|\n",
    "|`boolean(a)`|Convertit `a` en booléen.|\n",
    "|`false()`|Renvoie la valeur booléenne `false`.|\n",
    "|`not(a)`|Si `a` vaut `true`, retourne `false`.|\n",
    "|`true()`|Renvoie la valeur booléenne `true`.|"
   ]
  },
  {
   "cell_type": "markdown",
   "metadata": {},
   "source": [
    "#### Autres fonctions utiles\n",
    "\n",
    "|Fonction|Action|\n",
    "|:-:|:-|\n",
    "|`avg(a,b[,…])`|Retourne la moyenne des arguments.|\n",
    "|`count(a)`|Calcule le nombre de nœuds dans `a`.|\n",
    "|`last()`|Renvoie la valeur de la taille de l’ensemble de nœuds contextuels.|\n",
    "|`min(a,b[,…])`|Renvoie l’argument inférieur à tous les autres.|\n",
    "|`max(a,b[,…])`|Renvoie l’argument supérieur à tous les autres.|\n",
    "|`position()`|Renvoie la position du nœud courant.|\n",
    "|`sum(a,b[,…])`|Calcule la somme des arguments.|"
   ]
  },
  {
   "cell_type": "markdown",
   "metadata": {},
   "source": [
    "## Tester une expression en ligne de commande"
   ]
  },
  {
   "cell_type": "markdown",
   "metadata": {},
   "source": [
    "L’utilitaire `xmllint` permet d’exécuter des expressions XPath sur un document XML grâce à l’option `-xpath` :"
   ]
  },
  {
   "cell_type": "code",
   "execution_count": null,
   "metadata": {},
   "outputs": [],
   "source": [
    "!xmllint -xpath '//name[@fr]/text()' ./files/constellations.xml"
   ]
  },
  {
   "cell_type": "markdown",
   "metadata": {},
   "source": [
    "**Remarque :** `xmllint` ne connaît que la version 1.0 du langage. Des expressions issues d’une version supérieure ne peuvent ainsi pas être évaluées :"
   ]
  },
  {
   "cell_type": "code",
   "execution_count": null,
   "metadata": {},
   "outputs": [],
   "source": [
    "!xmllint --xpath 'tokenize(//author[@id_author = \"BOR\"]/birth, \"-\")' ./files/library.xml"
   ]
  },
  {
   "cell_type": "markdown",
   "metadata": {},
   "source": [
    "Comment faire alors ? Aucune fonction de la librairie standard Unix n’est prévue pour répondre à ces exigences, pour la simple et bonne raison que la version 2.0 de XPath n’apporte rien de nouveau à part des fonctions pour faciliter certaines tâches.\n",
    "\n",
    "L’idée est alors de regarder ailleurs, dans des librairies tierces, comme `xidel` ou [`saxon-lint`](https://gitlab.com/GillesQuenot/saxon-lint) de Gilles Quenot."
   ]
  },
  {
   "cell_type": "code",
   "execution_count": null,
   "metadata": {},
   "outputs": [],
   "source": [
    "!saxon-lint --xpath 'tokenize(//author[@id_author = \"BOR\"]/birth, \"-\")' ./files/library.xml"
   ]
  }
 ],
 "metadata": {
  "kernelspec": {
   "display_name": "Python 3 (ipykernel)",
   "language": "python",
   "name": "python3"
  },
  "language_info": {
   "codemirror_mode": {
    "name": "ipython",
    "version": 3
   },
   "file_extension": ".py",
   "mimetype": "text/x-python",
   "name": "python",
   "nbconvert_exporter": "python",
   "pygments_lexer": "ipython3",
   "version": "3.9.13"
  }
 },
 "nbformat": 4,
 "nbformat_minor": 4
}
