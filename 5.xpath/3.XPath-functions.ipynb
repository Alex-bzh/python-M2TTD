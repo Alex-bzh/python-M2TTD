{
 "cells": [
  {
   "cell_type": "markdown",
   "metadata": {},
   "source": [
    "# Les fonctions XPath"
   ]
  },
  {
   "cell_type": "markdown",
   "metadata": {},
   "source": [
    "Soit le document XML suivant :\n",
    "\n",
    "```xml\n",
    "<constellations>\n",
    "    <constellation origine=\"Lacaille\">\n",
    "        <nom fr=\"La Carène\">Carina</nom>\n",
    "        <etendues>\n",
    "            <etendue unite=\"deg2\">494.184</etendue>\n",
    "            <etendue unite=\"%\">1.20</etendue>\n",
    "        </etendues>\n",
    "    </constellation>\n",
    "    <constellation origine=\"Ptolémée\">\n",
    "        <nom fr=\"Le Corbeau\">Corvus</nom>\n",
    "        <etendues>\n",
    "            <etendue unite=\"deg2\">183.801</etendue>\n",
    "            <etendue unite=\"%\">0.45</etendue>\n",
    "        </etendues>\n",
    "    </constellation>\n",
    "</constellations>\n",
    "```"
   ]
  },
  {
   "cell_type": "markdown",
   "metadata": {},
   "source": [
    "## Fonctions sur des valeurs numériques"
   ]
  },
  {
   "cell_type": "markdown",
   "metadata": {},
   "source": [
    "###  `ceiling(a)`\n",
    "\n",
    "Produit une image de `a` sous la forme du plus proche entier qui lui est supérieur.\n",
    "\n",
    "```xml\n",
    "<!-- 495 -->\n",
    "ceiling(//constellation[nom = 'Carina']//etendue[@unite = 'deg2'])\n",
    "```"
   ]
  },
  {
   "cell_type": "markdown",
   "metadata": {},
   "source": [
    "### `floor(a)`\n",
    "\n",
    "Produit une image de `a` sous la forme d’un entier par suppression de la partie décimale.\n",
    "\n",
    "```xml\n",
    "<!-- 494 -->\n",
    "floor(//constellation[nom = 'Carina']//etendue[@unite = 'deg2'])\n",
    "```"
   ]
  },
  {
   "cell_type": "markdown",
   "metadata": {},
   "source": [
    "###  `round(a)`\n",
    "\n",
    "Produit une image de `a` sous la forme du plus proche entier.\n",
    "\n",
    "```xml\n",
    "<!-- 184 -->\n",
    "round(//constellation[nom = 'Corvus']//etendue[@unite = 'deg2'])\n",
    "```"
   ]
  },
  {
   "cell_type": "markdown",
   "metadata": {},
   "source": [
    "## Fonctions sur des chaînes de caractères"
   ]
  },
  {
   "cell_type": "markdown",
   "metadata": {},
   "source": [
    "### `concat(a, b[,…])`\n",
    "\n",
    "Effectue une concaténation des arguments en entrée.\n",
    "\n",
    "```xml\n",
    "<!-- Carina (La Carène) -->\n",
    "<!-- Corvus (Le Corbeau) -->\n",
    "//constellation/concat(nom, ' (', nom/@fr, ')')\n",
    "```"
   ]
  },
  {
   "cell_type": "markdown",
   "metadata": {},
   "source": [
    "### `string-join((a, b[,…]), c)`\n",
    "\n",
    "Effectue une concaténation des arguments `a`, `b` et autres grâce à `c`.\n",
    "\n",
    "```xml\n",
    "<!-- Carina, Corvus -->\n",
    "string-join(//constellation/nom, ', ')\n",
    "```"
   ]
  },
  {
   "cell_type": "markdown",
   "metadata": {},
   "source": [
    "### `string-length(a)`\n",
    "\n",
    "Calcule le nombre de caractères de `a`.\n",
    "\n",
    "```xml\n",
    "<!-- 10 -->\n",
    "//constellation[nom = 'Corvus']/nom/string-length(@fr)\n",
    "```"
   ]
  },
  {
   "cell_type": "markdown",
   "metadata": {},
   "source": [
    "### `substring(a,start[,n])`\n",
    "\n",
    "Extrait `n` caractères de `a` depuis `start`. En l’absence de `n`, le reste de la chaîne est capturé.\n",
    "\n",
    "```xml\n",
    "<!-- Corbeau -->\n",
    "//constellation[nom/@fr = 'Le Corbeau']/nom/substring(@fr, 3)\n",
    "```"
   ]
  },
  {
   "cell_type": "markdown",
   "metadata": {},
   "source": [
    "### `lower-case(a)`\n",
    "\n",
    "Convertit `a` en bas de casse.\n",
    "\n",
    "```xml\n",
    "<!-- carina -->\n",
    "//constellation[nom = 'Carina']/lower-case(nom)\n",
    "```"
   ]
  },
  {
   "cell_type": "markdown",
   "metadata": {},
   "source": [
    "### `upper-case(a)`\n",
    "\n",
    "Convertit `a` en lettres capitales.\n",
    "\n",
    "```xml\n",
    "<!-- CARINA -->\n",
    "//constellation[nom = 'Carina']/upper-case(nom)\n",
    "```"
   ]
  },
  {
   "cell_type": "markdown",
   "metadata": {},
   "source": [
    "### `starts-with(a,b)`\n",
    "\n",
    "Renvoie le booléen `true` si le motif `b` débute la chaîne `a`.\n",
    "\n",
    "```xml\n",
    "<!-- true -->\n",
    "<!-- false -->\n",
    "//constellation/starts-with(nom, 'Ca')\n",
    "<!-- Carina -->\n",
    "//nom[starts-with(../@origine, 'La')]\n",
    "```"
   ]
  },
  {
   "cell_type": "markdown",
   "metadata": {},
   "source": [
    "### `ends-with(a,b)`\n",
    "\n",
    "Renvoie le booléen `true` si le motif `b` termine la chaîne `a`.\n",
    "\n",
    "```xml\n",
    "<!-- false -->\n",
    "<!-- true -->\n",
    "//constellation/ends-with(nom, 's')\n",
    "<!-- 183.801 -->\n",
    "//etendue[@unite = 'deg2' and ends-with(ancestor::constellation/attribute::origine, 'ée')]\n",
    "```"
   ]
  },
  {
   "cell_type": "markdown",
   "metadata": {},
   "source": [
    "### `contains(a,b)`\n",
    "\n",
    "Renvoie le booléen `true` si la chaîne `b` est présente dans la chaîne `a`.\n",
    "\n",
    "```xml\n",
    "<!-- false -->\n",
    "//constellation[2]/contains(@origine, 'La')\n",
    "```"
   ]
  },
  {
   "cell_type": "markdown",
   "metadata": {},
   "source": [
    "### `matches(a,b)`\n",
    "Renvoie le booléen `true` si le motif `b` est repéré dans la chaîne `a`.\n",
    "\n",
    "```xml\n",
    "<!-- true -->\n",
    "<!-- false -->\n",
    "//constellation/matches(@origine, 'Lacaille')\n",
    "<!-- true -->\n",
    "<!-- true -->\n",
    "//constellation/matches(@origine, '\\w+')\n",
    "```"
   ]
  },
  {
   "cell_type": "markdown",
   "metadata": {},
   "source": [
    "### `replace(a,b,c)`\n",
    "\n",
    "Recherche dans la chaîne `a` le motif `b` afin de le remplacer par la chaîne `c`.\n",
    "\n",
    "```xml\n",
    "<!-- 494,184 -->\n",
    "<!-- 1,20 -->\n",
    "<!-- 183 -->\n",
    "<!-- 0,45 -->\n",
    "//etendue/replace(., '\\.', ',')\n",
    "```"
   ]
  },
  {
   "cell_type": "markdown",
   "metadata": {},
   "source": [
    "### `tokenize(a,b)`\n",
    "\n",
    "Renvoie une liste de tokens de `a` en fonction de l’expression `b`.\n",
    "\n",
    "```xml\n",
    "<!-- 494 184 1 20 183 0 45 -->\n",
    "//etendue/tokenize(., '\\.')\n",
    "```"
   ]
  },
  {
   "cell_type": "markdown",
   "metadata": {},
   "source": [
    "## Fonctions sur des valeurs booléennes"
   ]
  },
  {
   "cell_type": "markdown",
   "metadata": {},
   "source": [
    "### `not(a)`\n",
    "\n",
    "Teste le booléen `a` et renvoie sa valeur inverse.\n",
    "\n",
    "```xml\n",
    "<!-- false -->\n",
    "<!-- true -->\n",
    "//constellation/not(@origine = 'Lacaille')\n",
    "```"
   ]
  },
  {
   "cell_type": "markdown",
   "metadata": {},
   "source": [
    "### `true()`\n",
    "\n",
    "Renvoie le booléen `true`.\n",
    "\n",
    "```xml\n",
    "<!-- true -->\n",
    "true()\n",
    "```"
   ]
  },
  {
   "cell_type": "markdown",
   "metadata": {},
   "source": [
    "### `false()`\n",
    "\n",
    "Renvoie le booléen `false`.\n",
    "\n",
    "```xml\n",
    "<!-- false -->\n",
    "false()\n",
    "```"
   ]
  },
  {
   "cell_type": "markdown",
   "metadata": {},
   "source": [
    "## Fonctions sur des nœuds"
   ]
  },
  {
   "cell_type": "markdown",
   "metadata": {},
   "source": [
    "name()\n",
    "Renvoie le nom du nœud courant, autrement dit celui sur lequel est placé le pointeur.\n",
    "\n",
    "local-name()\n",
    "Renvoie le nom du nœud courant, sans l’espace de nommage.\n",
    "\n",
    "lang(a)\n",
    "Vérifie si la langue a est bien celle déclarée pour l’élément courant.\n",
    "\n",
    "<!-- false -->\n",
    "/constellations/lang('fr')"
   ]
  },
  {
   "cell_type": "markdown",
   "metadata": {},
   "source": [
    "## Fonctions sur des séquences"
   ]
  },
  {
   "cell_type": "markdown",
   "metadata": {},
   "source": [
    "### `exists(a)`\n",
    "\n",
    "Teste l’existence de l’expression `a`.\n",
    "\n",
    "```xml\n",
    "<!-- true -->\n",
    "exists(//@fr)\n",
    "```"
   ]
  },
  {
   "cell_type": "markdown",
   "metadata": {},
   "source": [
    "### `distinct-values(a)`\n",
    "\n",
    "Retourne une image de `a` ne comportant que des valeurs uniques.\n",
    "\n",
    "```xml\n",
    "<!-- Lacaille -->\n",
    "<!-- Ptolémée -->\n",
    "distinct-values(//@origine)\n",
    "```"
   ]
  },
  {
   "cell_type": "markdown",
   "metadata": {},
   "source": [
    "### `count(a)`\n",
    "\n",
    "Compte le nombre d’occurrences de `a`.\n",
    "\n",
    "```xml\n",
    "<!-- 2 -->\n",
    "count(//constellation)\n",
    "```"
   ]
  },
  {
   "cell_type": "markdown",
   "metadata": {},
   "source": [
    "### `min(a)`\n",
    "\n",
    "Retourne le plus petit élément d’une séquence `a`.\n",
    "\n",
    "```xml\n",
    "<!-- 0.45 -->\n",
    "min(//etendue[@unite = '%'])\n",
    "<!-- Ptolémée -->\n",
    "//constellation[etendues/etendue[@unite = 'deg2'] = min(//etendue[@unite = 'deg2'])]/@origine\n",
    "```"
   ]
  },
  {
   "cell_type": "markdown",
   "metadata": {},
   "source": [
    "### `max(a)`\n",
    "\n",
    "Retourne le plus grand élément d’une séquence `a`.\n",
    "\n",
    "```xml\n",
    "<!-- 494.184 -->\n",
    "max(//etendue[@unite = 'deg2'])\n",
    "<!-- Carina -->\n",
    "//constellation[etendues/etendue[@unite = 'deg2'] = max(//etendue[@unite = 'deg2'])]/nom\n",
    "```"
   ]
  },
  {
   "cell_type": "markdown",
   "metadata": {},
   "source": [
    "### `avg(a)`\n",
    "\n",
    "Calcule la moyenne des valeurs de la séquence `a`.\n",
    "\n",
    "```xml\n",
    "<!-- 338.9925 -->\n",
    "avg(//etendue[@unite = 'deg2'])\n",
    "```"
   ]
  },
  {
   "cell_type": "markdown",
   "metadata": {},
   "source": [
    "### `sum(a)`\n",
    "\n",
    "Effectue la somme des valeurs de la séquence `a`.\n",
    "\n",
    "```xml\n",
    "<!-- 1.65 -->\n",
    "sum(//etendue[@unite = '%'])\n",
    "```"
   ]
  },
  {
   "cell_type": "markdown",
   "metadata": {},
   "source": [
    "### `last()`\n",
    "\n",
    "Retourne le dernier nœud de la liste.\n",
    "\n",
    "```xml\n",
    "<!-- Le Corbeau -->\n",
    "//constellation[last()]/nom/@fr\n",
    "```"
   ]
  },
  {
   "cell_type": "markdown",
   "metadata": {},
   "source": [
    "### `position()`\n",
    "\n",
    "Retourne le nœud situé à une certaine position dans la liste.\n",
    "\n",
    "```xml\n",
    "<!-- Carina -->\n",
    "//constellation[last() > position()]/nom\n",
    "```"
   ]
  }
 ],
 "metadata": {
  "kernelspec": {
   "display_name": "Python 3",
   "language": "python",
   "name": "python3"
  },
  "language_info": {
   "codemirror_mode": {
    "name": "ipython",
    "version": 3
   },
   "file_extension": ".py",
   "mimetype": "text/x-python",
   "name": "python",
   "nbconvert_exporter": "python",
   "pygments_lexer": "ipython3",
   "version": "3.7.7"
  }
 },
 "nbformat": 4,
 "nbformat_minor": 4
}
