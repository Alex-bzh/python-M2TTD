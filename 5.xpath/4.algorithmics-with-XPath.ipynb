{
 "cells": [
  {
   "cell_type": "markdown",
   "metadata": {},
   "source": [
    "# Un brin d’algorithmique avec XPath"
   ]
  },
  {
   "cell_type": "markdown",
   "metadata": {},
   "source": [
    "## Avant-propos\n",
    "\n",
    "Documentation : https://www.w3.org/TR/xpath20/\n",
    "\n",
    "Le langage XPath dans sa version 2.0 offre la possibilité de recourir à des structures pour construire un algorithme :\n",
    "- opérations arithmétiques\n",
    "- comparaisons\n",
    "- expressions logiques\n",
    "- structures conditionnelles\n",
    "- structures itératives\n",
    "\n",
    "**Remarque :** d’autres structures et expressions existent."
   ]
  },
  {
   "cell_type": "markdown",
   "metadata": {},
   "source": [
    "## Fragment XML\n",
    "\n",
    "```xml\n",
    "<constellations>\n",
    "    <constellation origine=\"Lacaille\">\n",
    "    <nom fr=\"La Carène\">Carina</nom>\n",
    "        <etendues>\n",
    "            <etendue unite=\"deg2\">494.184</etendue>\n",
    "            <etendue unite=\"%\">1.20</etendue>\n",
    "        </etendues>\n",
    "    </constellation>\n",
    "    <constellation origine=\"Ptolémée\">\n",
    "    <nom fr=\"Le Corbeau\">Corvus</nom>\n",
    "        <etendues>\n",
    "            <etendue unite=\"deg2\">183.801</etendue>\n",
    "            <etendue unite=\"%\">0.45</etendue>\n",
    "        </etendues>\n",
    "    </constellation>\n",
    "</constellations>\n",
    "```"
   ]
  },
  {
   "cell_type": "markdown",
   "metadata": {},
   "source": [
    "## Opérations arithmétiques"
   ]
  },
  {
   "cell_type": "markdown",
   "metadata": {},
   "source": [
    "### Addition\n",
    "\n",
    "Quelle surface du ciel visible représentent les deux premières constellations ?\n",
    "\n",
    "```xml\n",
    "//constellation[1]//etendue[@unite = '%'] + //constellation[2]//etendue[@unite = '%']\n",
    "```"
   ]
  },
  {
   "cell_type": "markdown",
   "metadata": {},
   "source": [
    "### Soustraction\n",
    "\n",
    "Après soustraction de l’étendue du nœud courant, que représentent les étendues des autres constellations ?\n",
    "\n",
    "```xml\n",
    "sum(//etendue[@unite = 'deg2']) - etendue[@unite = 'deg2']\n",
    "```"
   ]
  },
  {
   "cell_type": "markdown",
   "metadata": {},
   "source": [
    "### Multiplication\n",
    "\n",
    "Quelle serait la surface d’une constellation deux fois plus grande que Carina ?\n",
    "\n",
    "```xml\n",
    "//constellation[nom = 'Carina']//etendue[@unite = 'deg2'] * 2\n",
    "```"
   ]
  },
  {
   "cell_type": "markdown",
   "metadata": {},
   "source": [
    "### Division\n",
    "\n",
    "L’étendue du nœud courant représente quel pourcentage des étendues totales ?\n",
    "\n",
    "```xml\n",
    "etendue[@unite = '%'] div sum(//etendue[@unite = '%'])\n",
    "```"
   ]
  },
  {
   "cell_type": "markdown",
   "metadata": {},
   "source": [
    "### Modulo\n",
    "\n",
    "Grâce à la division euclidienne, serait-il possible de répartir équitablement entre les constellations la surface du ciel visible qu’elles occupent ?\n",
    "\n",
    "```xml\n",
    "sum(//etendue[@unite = '%']) mod count(//constellation)\n",
    "```"
   ]
  },
  {
   "cell_type": "markdown",
   "metadata": {},
   "source": [
    "## Comparaisons"
   ]
  },
  {
   "cell_type": "markdown",
   "metadata": {},
   "source": [
    "### Inférieur à\n",
    "\n",
    "Pour juger si une valeur est inférieure à une autre. Opérateurs : `<` `lt` `<=` `le`\n",
    "\n",
    "```xml\n",
    "<!-- true -->\n",
    "//constellation[nom = 'Carina'] lt //constellation[nom = 'Corvus']\n",
    "```"
   ]
  },
  {
   "cell_type": "markdown",
   "metadata": {},
   "source": [
    "### Supérieur à\n",
    "\n",
    "Pour juger si une valeur est supérieure à une autre. Opérateurs : `>` `gt` `>=` `ge`\n",
    "\n",
    "```xml\n",
    "etendue[@unite = '%'] gt 1\n",
    "```"
   ]
  },
  {
   "cell_type": "markdown",
   "metadata": {},
   "source": [
    "### Égalité\n",
    "\n",
    "Détermine si deux valeurs sont identiques ou différentes. Opérateurs : `=` `eq` `!=` `ne`\n",
    "\n",
    "```xml\n",
    "nom eq 'Carina'\n",
    "```"
   ]
  },
  {
   "cell_type": "markdown",
   "metadata": {},
   "source": [
    "### Référence\n",
    "\n",
    "Détermine si deux valeurs font référence au même nœud.\n",
    "\n",
    "```xml\n",
    "<!-- true -->\n",
    "/constellations/constellation[nom = 'Corvus'] is /constellations/constellation[nom/@fr = 'Le Corbeau']\n",
    "```"
   ]
  },
  {
   "cell_type": "markdown",
   "metadata": {},
   "source": [
    "## Expressions logiques"
   ]
  },
  {
   "cell_type": "markdown",
   "metadata": {},
   "source": [
    "### Conjonction\n",
    "\n",
    "Permet de combiner des expressions entre elles pour ajouter des contraintes dans un prédicat ou pour effectuer un test logique.\n",
    "\n",
    "```xml\n",
    "<!-- Carina -->\n",
    "//constellation[@origine = 'Lacaille' and //etendue[@unite = 'deg2'] > '400']/nom\n",
    "\n",
    "<!-- false -->\n",
    "//constellation[@origine = 'Lacaille'] and //constellation[@origine = 'Tycho Brahe']\n",
    "```"
   ]
  },
  {
   "cell_type": "markdown",
   "metadata": {},
   "source": [
    "### Disjonction\n",
    "\n",
    "Permet de combiner des expressions entre elles pour augmenter la sélection de nœuds ou pour effectuer un test logique.\n",
    "\n",
    "```xml\n",
    "<!-- Carina, Corvus -->\n",
    "//constellation[@origine = 'Lacaille' or //etendue[@unite = 'deg2'] > '400']/nom\n",
    "\n",
    "<!-- true -->\n",
    "//constellation[@origine = 'Lacaille'] or //constellation[@origine = 'Tycho Brahe']\n",
    "```"
   ]
  },
  {
   "cell_type": "markdown",
   "metadata": {},
   "source": [
    "## Structures conditionnelles\n",
    "\n",
    "Mots-clés `if` `then` `else`\n",
    "\n",
    "Les structures conditionnelles permettent de tester une expression et de lui associer un comportement en cas de succès ou d’échec.\n",
    "\n",
    "```xml\n",
    "<!-- Lacaille -->\n",
    "if (\n",
    "    //constellation[nom = 'Carina']//etendue[@unite = '%'] gt\n",
    "    //constellation[nom = 'Corvus']//etendue[@unite = '%']\n",
    ")\n",
    "then 'Lacaille'\n",
    "else 'Ptolémée'\n",
    "```"
   ]
  },
  {
   "cell_type": "markdown",
   "metadata": {},
   "source": [
    "## Structures itératives\n",
    "\n",
    "Mots-clés `for` `return`\n",
    "\n",
    "Les structures itératives permettent de parcourir une liste de nœuds.\n",
    "\n",
    "```xml\n",
    "<!-- Carina, Corvus -->\n",
    "for $a in //constellation\n",
    "return $a/nom\n",
    "```\n",
    "\n",
    "```xml\n",
    "<!-- 494.184, 183.801 -->\n",
    "for $a in //etendue\n",
    "return $a[@unite = 'deg2']\n",
    "```\n",
    "\n",
    "```xml\n",
    "<!-- Lacaille : Carina ; Ptolémée : Corvus -->\n",
    "for $a in distinct-values(constellation/@origine)\n",
    "return (\n",
    "    distinct-values(constellation/@origine[. = $a]),\n",
    "    constellation[@origine = $a]/nom\n",
    ")\n",
    "```\n",
    "\n",
    "Elle peuvent aussi se combiner avec d’autres structures, comme les conditionnelles :\n",
    "\n",
    "```xml\n",
    "<!-- Carina -->\n",
    "for $a in //constellation[@origine = 'Lacaille']\n",
    "return\n",
    "    if ($a//etendue[@unite = 'deg2'] gt '450')\n",
    "    then $a/nom\n",
    "    else $a//etendue[@unite = 'deg2']\n",
    "```"
   ]
  }
 ],
 "metadata": {
  "kernelspec": {
   "display_name": "Python 3",
   "language": "python",
   "name": "python3"
  },
  "language_info": {
   "codemirror_mode": {
    "name": "ipython",
    "version": 3
   },
   "file_extension": ".py",
   "mimetype": "text/x-python",
   "name": "python",
   "nbconvert_exporter": "python",
   "pygments_lexer": "ipython3",
   "version": "3.7.7"
  }
 },
 "nbformat": 4,
 "nbformat_minor": 4
}
