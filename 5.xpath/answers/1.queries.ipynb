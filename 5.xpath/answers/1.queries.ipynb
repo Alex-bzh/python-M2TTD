{
 "cells": [
  {
   "cell_type": "markdown",
   "metadata": {},
   "source": [
    "# Des requêtes simples sur un fichier\n",
    "\n",
    "Pour les différents exercises qui suivent, vous vous baserez sur un fichier qui décrit [une bibliothèque](../files/library.xml). Prenez le temps de bien en comprendre la structure pour formuler correctement vos requêtes.\n",
    "\n",
    "Dans un premier temps, chargez le fichier et analysez-le avec le module *elementTree* :"
   ]
  },
  {
   "cell_type": "code",
   "execution_count": null,
   "metadata": {},
   "outputs": [],
   "source": [
    "# your code here\n",
    "\n",
    "import xml.etree.ElementTree as ET\n",
    "\n",
    "tree = ET.parse('../files/library.xml')\n",
    "root = tree.getroot()"
   ]
  },
  {
   "cell_type": "markdown",
   "metadata": {},
   "source": [
    "## Questions\n",
    "\n",
    "Pour toutes les questions, vous répondrez en apportant la preuve de vos réponses à l’aide de code Python."
   ]
  },
  {
   "cell_type": "markdown",
   "metadata": {},
   "source": [
    "1. Est-ce que l’expression XPath `.//mark` permet de récupérer la note du livre Salammbô, et seulement celle-ci ? Apportez la preuve de votre réponse avec un code Python."
   ]
  },
  {
   "cell_type": "code",
   "execution_count": null,
   "metadata": {},
   "outputs": [],
   "source": [
    "# your code here\n",
    "\n",
    "for el in root.findall('.//mark'):\n",
    "    print(el.text)"
   ]
  },
  {
   "cell_type": "markdown",
   "metadata": {},
   "source": [
    "2. L’expression `.//author[3]/birth` permet-elle de récupérer le lieu de naissance de William Shakespeare ?"
   ]
  },
  {
   "cell_type": "code",
   "execution_count": null,
   "metadata": {},
   "outputs": [],
   "source": [
    "# your code here\n",
    "\n",
    "for el in root.findall('.//author[3]/birth'):\n",
    "    print(el.text)"
   ]
  },
  {
   "cell_type": "markdown",
   "metadata": {},
   "source": [
    "3. Quels sont les titres des livres ?"
   ]
  },
  {
   "cell_type": "code",
   "execution_count": null,
   "metadata": {},
   "outputs": [],
   "source": [
    "# your code here\n",
    "\n",
    "for el in root.findall('.//title'):\n",
    "    print(el.text)"
   ]
  },
  {
   "cell_type": "markdown",
   "metadata": {},
   "source": [
    "4. Quels sont les noms des auteurs des livres de la bibliothèque ?"
   ]
  },
  {
   "cell_type": "code",
   "execution_count": null,
   "metadata": {},
   "outputs": [],
   "source": [
    "# your code here\n",
    "\n",
    "for el in root.findall('.//lastName'):\n",
    "    print(el.text)"
   ]
  },
  {
   "cell_type": "markdown",
   "metadata": {},
   "source": [
    "5. Comment afficher le nom et le prénom des auteurs ? Ex. : Flaubert, Gustave"
   ]
  },
  {
   "cell_type": "code",
   "execution_count": null,
   "metadata": {},
   "outputs": [],
   "source": [
    "# your code here\n",
    "\n",
    "for el in root.findall('.//author'):\n",
    "    firstname = el.find('firstName')\n",
    "    lastname = el.find('lastName')\n",
    "    print(f\"{lastname.text}, {firstname.text}\")"
   ]
  },
  {
   "cell_type": "markdown",
   "metadata": {},
   "source": [
    "6. Comment dénombrer les livres de la bibliothèque ?"
   ]
  },
  {
   "cell_type": "code",
   "execution_count": null,
   "metadata": {},
   "outputs": [],
   "source": [
    "# your code here\n",
    "\n",
    "nb = 0\n",
    "\n",
    "for el in root.findall('.//book'):\n",
    "    nb += 1\n",
    "print(nb)"
   ]
  },
  {
   "cell_type": "markdown",
   "metadata": {},
   "source": [
    "7. Quelle est la note du livre *Macbeth* ?"
   ]
  },
  {
   "cell_type": "code",
   "execution_count": null,
   "metadata": {},
   "outputs": [],
   "source": [
    "# your code here\n",
    "\n",
    "for el in root.findall('.//book[title = \"Macbeth\"]/mark'):\n",
    "    print(el.text)"
   ]
  },
  {
   "cell_type": "markdown",
   "metadata": {},
   "source": [
    "8. Quel est la note moyenne des livres de Flaubert ?"
   ]
  },
  {
   "cell_type": "code",
   "execution_count": null,
   "metadata": {},
   "outputs": [],
   "source": [
    "# your code here\n",
    "\n",
    "summation = 0\n",
    "query = './/book[@ref_author = \"FLA\"]/mark'\n",
    "nb = len(root.findall(query))\n",
    "\n",
    "for el in root.findall(query):\n",
    "    summation += int(el.text)\n",
    "\n",
    "print(summation / nb)"
   ]
  },
  {
   "cell_type": "markdown",
   "metadata": {},
   "source": [
    "9. Quelles sont les œuvres de Shakespeare ?"
   ]
  },
  {
   "cell_type": "code",
   "execution_count": null,
   "metadata": {},
   "outputs": [],
   "source": [
    "# your code here\n",
    "\n",
    "for el in root.findall('.//book[@ref_author = \"SHA\"]/title'):\n",
    "    print(el.text)"
   ]
  },
  {
   "cell_type": "markdown",
   "metadata": {},
   "source": [
    "10. Comment sortir le titre VO des œuvres de Shakespeare ?"
   ]
  },
  {
   "cell_type": "code",
   "execution_count": null,
   "metadata": {},
   "outputs": [],
   "source": [
    "# your code here\n",
    "\n",
    "for el in root.findall('.//book[@ref_author = \"SHA\"]/title[@original_title]'):\n",
    "    print(el.attrib['original_title'])"
   ]
  },
  {
   "cell_type": "markdown",
   "metadata": {},
   "source": [
    "11. Quel est le titre des livres disponibles en espagnol ?"
   ]
  },
  {
   "cell_type": "code",
   "execution_count": null,
   "metadata": {},
   "outputs": [],
   "source": [
    "# your code here\n",
    "\n",
    "namespaces = {'xml': 'http://www.w3.org/XML/1998/namespace'}\n",
    "\n",
    "for el in root.findall('.//book[@xml:lang = \"es\"]/title', namespaces):\n",
    "    print(el.text)"
   ]
  },
  {
   "cell_type": "markdown",
   "metadata": {},
   "source": [
    "12. Quels sont les ouvrages appartenant au XIXe siècle ?"
   ]
  },
  {
   "cell_type": "code",
   "execution_count": null,
   "metadata": {},
   "outputs": [],
   "source": [
    "# your code here\n",
    "\n",
    "for el in root.findall('.//book'):\n",
    "    title = el.find('title')\n",
    "    publication = el.find('publication')\n",
    "    if publication.text < \"1901\" and publication.text > \"1800\":\n",
    "        print(title.text)"
   ]
  }
 ],
 "metadata": {
  "kernelspec": {
   "display_name": "Python 3",
   "language": "python",
   "name": "python3"
  },
  "language_info": {
   "codemirror_mode": {
    "name": "ipython",
    "version": 3
   },
   "file_extension": ".py",
   "mimetype": "text/x-python",
   "name": "python",
   "nbconvert_exporter": "python",
   "pygments_lexer": "ipython3",
   "version": "3.7.7"
  }
 },
 "nbformat": 4,
 "nbformat_minor": 4
}
