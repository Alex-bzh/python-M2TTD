{
 "cells": [
  {
   "cell_type": "markdown",
   "metadata": {},
   "source": [
    "# Pratique de XSL : de XML vers CSV"
   ]
  },
  {
   "cell_type": "markdown",
   "metadata": {},
   "source": [
    "## Présentation\n",
    "\n",
    "**CSV :** *Comma-Separated Values*\n",
    "\n",
    "Il s’agit d’un type de fichier à plat (*flat file*) autrement nommé base de données orientée texte, très facile à manipuler, notamment via un terminal.\n",
    "\n",
    "```csv\n",
    "4,PUC,Paris,22,13,09,38\n",
    "8,TVB,Tours,22,15,07,45\n",
    "7,NVB,Nice,22,10,12,31\n",
    "```\n",
    "\n",
    "Les fichiers CSV sont constitués de lignes et de colonnes où chaque ligne représente un enregistrement et où les colonnes sont matérialisées par un caractère séparateur (la virugle par défaut).\n",
    "\n",
    "```txt\n",
    "<!-- Représentation tabulaire -->\n",
    "|---|-----|-------|----|----|----|----|\n",
    "| 4 | PUC | Paris | 22 | 13 | 09 | 38 |\n",
    "|---|-----|-------|----|----|----|----|\n",
    "| 8 | TVB | Tours | 22 | 15 | 07 | 45 |\n",
    "|---|-----|-------|----|----|----|----|\n",
    "| 7 | NVB | Nice  | 22 | 10 | 12 | 31 |\n",
    "|---|-----|-------|----|----|----|----|\n",
    "```\n",
    "\n",
    "Les sytèmes de gestion de bases de données relationnelles exportent et importent souvent leurs données grâce aux fichiers à plats."
   ]
  },
  {
   "cell_type": "markdown",
   "metadata": {},
   "source": [
    "## Outils en ligne de commande\n",
    "\n",
    "Il existe une multitude d’outils en ligne de commande pour interroger directement les fichiers à plat :\n",
    "\n",
    "```shell\n",
    "# number the lines\n",
    "$ cat -n fichier.csv\n",
    "```\n",
    "\n",
    "```shell\n",
    "# randomly swap lines\n",
    "$ cat -n fichier.csv | sort --random-sort\n",
    "```\n",
    "\n",
    "```shell\n",
    "# extract the first three columns\n",
    "$ cut -f 1,2,3 -d, fichier.csv\n",
    "```"
   ]
  },
  {
   "cell_type": "markdown",
   "metadata": {},
   "source": [
    "## La structure d’une feuille de transformation en CSV\n",
    "\n",
    "```xml\n",
    "<?xml version=\"1.0\" encoding=\"UTF-8\"?>\n",
    "<!-- root -->\n",
    "<xsl:stylesheet version=\"3.0\" xmlns:xsl=\"http://www.w3.org/1999/XSL/Transform\">\n",
    "\n",
    "    <!-- csv is a text document -->\n",
    "    <xsl:output method=\"text\" encoding=\"utf-8\"/>\n",
    "  \n",
    "    <!-- main template -->\n",
    "    <xsl:template match=\"/\">\n",
    "        <!-- call -->\n",
    "        <xsl:apply-templates select=\"{XPath}\"/>\n",
    "    </xsl:template>\n",
    "\n",
    "</xsl:stylesheet>\n",
    "```"
   ]
  },
  {
   "cell_type": "markdown",
   "metadata": {},
   "source": [
    "## Exemple"
   ]
  },
  {
   "cell_type": "markdown",
   "metadata": {},
   "source": [
    "### Fichier XML\n",
    "\n",
    "```xml\n",
    "<?xml version=\"1.0\" encoding=\"UTF-8\"?>\n",
    "<equipes>\n",
    "    <equipe num=\"4\" nom=\"PUC\" ville=\"Paris\">\n",
    "        <matchs>22</matchs>\n",
    "        <victoires>13</victoires>\n",
    "        <defaites>9</defaites>\n",
    "        <points>38</points>\n",
    "    </equipe>\n",
    "    <equipe num=\"8\" nom=\"TVB\" ville=\"Tours\">\n",
    "        <matchs>22</matchs>\n",
    "        <victoires>15</victoires>\n",
    "        <defaites>7</defaites>\n",
    "        <points>45</points>\n",
    "    </equipe>\n",
    "    <equipe num=\"7\" nom=\"NVB\" ville=\"Nice\">\n",
    "        <matchs>22</matchs>\n",
    "        <victoires>10</victoires>\n",
    "        <defaites>12</defaites>\n",
    "        <points>31</points>\n",
    "    </equipe>\n",
    "</equipes>\n",
    "```"
   ]
  },
  {
   "cell_type": "markdown",
   "metadata": {},
   "source": [
    "### Résultat attendu\n",
    "\n",
    "```csv\n",
    "4,PUC,Paris,22,13,09,38\n",
    "8,TVB,Tours,22,15,07,45\n",
    "7,NVB,Nice,22,10,12,31\n",
    "```"
   ]
  },
  {
   "cell_type": "markdown",
   "metadata": {},
   "source": [
    "### Transformations\n",
    "\n",
    "**Objectifs :**\n",
    "- chaque élement `equipe` doit figurer sur une sur ligne (il s’agit de l’unité de base, l’enregistrement) ;\n",
    "- les attributs et les éléments fils sont considérés comme les colonnes.\n",
    "\n",
    "#### 1e étape : paramétrer les éléments textuels\n",
    "\n",
    "```xml\n",
    "<xsl:param name=\"sep\" select=\"','\"/>\n",
    "<xsl:param name=\"break\" select=\"'&amp;#10;'\"/>\n",
    "```\n",
    "\n",
    "#### 2e étape : appel à candidature\n",
    "\n",
    "```xml\n",
    "<xsl:template match=\"/\">\n",
    "\n",
    "    <!-- all attributes AND elements which are children of \"Equipe\" -->\n",
    "    <xsl:apply-templates select=\"//equipe/@* | //equipe/*\"/>\n",
    "\n",
    "</xsl:template>\n",
    "```\n",
    "\n",
    "#### 3e étape : template candidat\n",
    "\n",
    "```xml\n",
    "<!-- candidate for attributes and elements -->\n",
    "<xsl:template match=\"@* | *\">\n",
    "\n",
    "    <!-- copy of textual content -->\n",
    "    <xsl:value-of select=\".\"/>\n",
    "\n",
    "    <xsl:choose>\n",
    "\n",
    "        <!-- while node name differs from \"points\" -->\n",
    "        <xsl:when test=\"name() != 'points'\">\n",
    "            <!-- delimiter -->\n",
    "            <xsl:value-of select=\"$sep\"/>\n",
    "        </xsl:when>\n",
    "\n",
    "        <xsl:otherwise>\n",
    "            <!-- otherwise: break line -->\n",
    "            <xsl:value-of select=\"$break\"/>\n",
    "        </xsl:otherwise>\n",
    "\n",
    "    </xsl:choose>\n",
    "\n",
    "</xsl:template>\n",
    "```"
   ]
  }
 ],
 "metadata": {
  "kernelspec": {
   "display_name": "Python 3",
   "language": "python",
   "name": "python3"
  },
  "language_info": {
   "codemirror_mode": {
    "name": "ipython",
    "version": 3
   },
   "file_extension": ".py",
   "mimetype": "text/x-python",
   "name": "python",
   "nbconvert_exporter": "python",
   "pygments_lexer": "ipython3",
   "version": "3.7.4"
  }
 },
 "nbformat": 4,
 "nbformat_minor": 4
}
