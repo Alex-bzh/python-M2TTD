{
 "cells": [
  {
   "cell_type": "markdown",
   "metadata": {},
   "source": [
    "# Une transformation réussie\n",
    "\n",
    "À partir du fichier [*bbt.xml*](./files/xml/bbt.xml), produisez une page HTML comme ci-dessous :\n",
    "\n",
    "```html\n",
    "<!DOCTYPE html>\n",
    "<html lang=\"fr\" xmlns=\"http://www.w3.org/1999/xhtml\">\n",
    "    <head>\n",
    "        <meta charset=\"utf-8\" />\n",
    "        <title>The Big Bang Theory</title>\n",
    "    </head>\n",
    "    <body>\n",
    "        <h1>The Big Bang Theory</h1>\n",
    "        <p>La série se focalise sur cinq personnages qui vivent à Pasadena, en Californie : Leonard Hofstadter et Sheldon Cooper, colocataires et tous deux physiciens à Caltech ; Penny, une serveuse qui vit de l’autre côté du palier et qui aspire à devenir actrice ; et les amis et collègues de Leonard et Sheldon, tout autant geeks et inadaptés à la vie en société, Howard Wolowitz, ingénieur dans l’aérospatiale, et l’astrophysicien Raj Koothrappali. Avec le temps, des personnages qui leur donnaient la réplique ont été promus aux rôles principaux, comme la neurologue Amy Farrh Fowler, la microbiologiste Bernadette Rostenkowski, la physicienne Leslie Winkle et le propriétaire d’une boutique de BD, Stuart Bloom.</p>\n",
    "        <h2>Les personnages</h2>\n",
    "        <ul>\n",
    "            <li>Penny</li>\n",
    "            <li>Leonard Hofstadter</li>\n",
    "            <li>…</li>\n",
    "        </ul>\n",
    "    </body>\n",
    "</html>\n",
    "```\n",
    "\n",
    "Dans un second temps, essayez de mettre entre parenthèses le nom des acteurs à côté des personnages qu’ils incarnent :\n",
    "\n",
    "```html\n",
    "<ul>\n",
    "    <li>Penny (Kaley Cuoco-Sweeting)</li>\n",
    "    <li>Leonard Hofstadter (Johnny Galecki)</li>\n",
    "    <li>…</li>\n",
    "</ul>\n",
    "```"
   ]
  },
  {
   "cell_type": "code",
   "execution_count": null,
   "metadata": {},
   "outputs": [],
   "source": [
    "# your code here\n",
    "from lxml import etree\n",
    "\n",
    "tree = etree.parse('../files/xml/bbt.xml')\n",
    "xslt = etree.parse('../files/xslt/bbt-to-html-full.xsl')\n",
    "processor = etree.XSLT(xslt)\n",
    "html = processor(tree)\n",
    "html.write('../files/xml/big-bang-theory.html')"
   ]
  }
 ],
 "metadata": {
  "kernelspec": {
   "display_name": "Python 3",
   "language": "python",
   "name": "python3"
  },
  "language_info": {
   "codemirror_mode": {
    "name": "ipython",
    "version": 3
   },
   "file_extension": ".py",
   "mimetype": "text/x-python",
   "name": "python",
   "nbconvert_exporter": "python",
   "pygments_lexer": "ipython3",
   "version": "3.7.7"
  }
 },
 "nbformat": 4,
 "nbformat_minor": 4
}
