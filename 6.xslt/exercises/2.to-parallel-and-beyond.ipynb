{
 "cells": [
  {
   "cell_type": "markdown",
   "metadata": {},
   "source": [
    "# Vers un corpus parallèle (et au-delà)\n",
    "\n",
    "À partir du fichier au format TMX [*Highwayman.xml*](../files/xml/highwayman.xml) qui contient les paroles en anglais et en français de la chanson *Highwayman* de Loreena Mckennit, produisez un fichier CSV parallélisé avec, pour chaque ligne, la version anglaise séparée de sa traduction en français par une tabulation."
   ]
  },
  {
   "cell_type": "code",
   "execution_count": null,
   "metadata": {},
   "outputs": [],
   "source": [
    "# your code here"
   ]
  }
 ],
 "metadata": {
  "kernelspec": {
   "display_name": "Python 3",
   "language": "python",
   "name": "python3"
  },
  "language_info": {
   "codemirror_mode": {
    "name": "ipython",
    "version": 3
   },
   "file_extension": ".py",
   "mimetype": "text/x-python",
   "name": "python",
   "nbconvert_exporter": "python",
   "pygments_lexer": "ipython3",
   "version": "3.7.7"
  }
 },
 "nbformat": 4,
 "nbformat_minor": 4
}
