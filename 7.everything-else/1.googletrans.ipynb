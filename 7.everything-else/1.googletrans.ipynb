{
 "cells": [
  {
   "cell_type": "markdown",
   "metadata": {},
   "source": [
    "# Une API de traduction automatique"
   ]
  },
  {
   "cell_type": "markdown",
   "metadata": {},
   "source": [
    "L’API *Googletrans* est une librairie python, qui met en œuvre l’API [Google Translate](https://translate.google.fr/), sans restriction de durée ou de quantité (une limite de 15 Ko de texte est toutefois imposée en une seule passe). Comme l’API transite par le Web, ses capacités reposent sur les réponses de l’Elle est destinée à rester gratuite."
   ]
  },
  {
   "cell_type": "markdown",
   "metadata": {},
   "source": [
    "## Installation\n",
    "\n",
    "Pour installer la version 4 de l’API depuis le *shell* :\n",
    "\n",
    "```shell\n",
    "# Install v4 release candidate 1\n",
    "pip install googletrans==4.0.0rc1\n",
    "```"
   ]
  },
  {
   "cell_type": "markdown",
   "metadata": {},
   "source": [
    "## Démarrage rapide"
   ]
  },
  {
   "cell_type": "code",
   "execution_count": null,
   "metadata": {},
   "outputs": [],
   "source": [
    "# import module\n",
    "from googletrans import Translator\n",
    "\n",
    "# config Translator\n",
    "translator = Translator()\n",
    "\n",
    "# get a 'translated' object\n",
    "translated = translator.translate('안녕하세요.')\n",
    "\n",
    "# translation\n",
    "translated.text\n",
    "\n",
    "# guess the source language\n",
    "translated.src\n",
    "\n",
    "# language to translate into?\n",
    "translated.dest\n",
    "\n",
    "# pronunciation?\n",
    "translated.pronunciation"
   ]
  },
  {
   "cell_type": "markdown",
   "metadata": {},
   "source": [
    "## Détection de la langue\n",
    "\n",
    "Il est possible d’obtenir un indice scoré sur la détection de la langue d’un segment avec la méthode `detect()` :"
   ]
  },
  {
   "cell_type": "code",
   "execution_count": null,
   "metadata": {},
   "outputs": [],
   "source": [
    "# detect\n",
    "detected = translator.detect('이 문장은 한글로 쓰여졌습니다.')\n",
    "\n",
    "# language\n",
    "detected.lang\n",
    "\n",
    "# score\n",
    "detected.confidence"
   ]
  },
  {
   "cell_type": "markdown",
   "metadata": {},
   "source": [
    "### Exemple avancé"
   ]
  },
  {
   "cell_type": "code",
   "execution_count": null,
   "metadata": {},
   "outputs": [],
   "source": [
    "from googletrans import Translator\n",
    "\n",
    "translator = Translator(service_urls=[\n",
    "      'translate.google.com',\n",
    "      'translate.google.co.kr',\n",
    "    ])\n",
    "\n",
    "translation = translator.translate('Le petit chat boit du lait.', dest='ko', src='fr')\n",
    "\n",
    "print(translation.text)"
   ]
  }
 ],
 "metadata": {
  "kernelspec": {
   "display_name": "Python 3",
   "language": "python",
   "name": "python3"
  },
  "language_info": {
   "codemirror_mode": {
    "name": "ipython",
    "version": 3
   },
   "file_extension": ".py",
   "mimetype": "text/x-python",
   "name": "python",
   "nbconvert_exporter": "python",
   "pygments_lexer": "ipython3",
   "version": "3.7.7"
  }
 },
 "nbformat": 4,
 "nbformat_minor": 4
}
