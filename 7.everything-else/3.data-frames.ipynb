{
 "cells": [
  {
   "cell_type": "markdown",
   "metadata": {},
   "source": [
    "# Découverte des *data frames*"
   ]
  },
  {
   "cell_type": "markdown",
   "metadata": {},
   "source": [
    "Un *data frame* est une structure de données qui peut se concevoir comme une matrice où les colonnes peuvent être de types différents, comme dans ce tableau à deux dimensions :\n",
    "\n",
    "|gender|height|\n",
    "|:-:|:-:|\n",
    "|F|173|\n",
    "|F|159|\n",
    "|M|181|\n",
    "\n",
    "Chaque ligne est une *observation* quand les colonnes, autrement appelées *séries* sont les variables qui les décrivent."
   ]
  },
  {
   "cell_type": "markdown",
   "metadata": {},
   "source": [
    "## La librairie *Pandas*\n",
    "\n",
    "En python, la librairie *Pandas* est dévolue à gérer ces structures essentielles pour l’analyse de données. Elle s’importe comme n’importe quel module, à l’exception que l’on a pour habitude de lui associer un alias *pd* :"
   ]
  },
  {
   "cell_type": "code",
   "execution_count": 2,
   "metadata": {},
   "outputs": [],
   "source": [
    "import pandas as pd"
   ]
  },
  {
   "cell_type": "markdown",
   "metadata": {},
   "source": [
    "L’exemple de l’introduction pourrait se matérialiser en passant un objet au constructeur de la classe `DataFrame()` :"
   ]
  },
  {
   "cell_type": "code",
   "execution_count": 3,
   "metadata": {},
   "outputs": [
    {
     "name": "stdout",
     "output_type": "stream",
     "text": [
      "  gender  height\n",
      "0      F     173\n",
      "1      F     159\n",
      "2      M     181\n"
     ]
    }
   ],
   "source": [
    "genders = ['F', 'F', 'M']\n",
    "heights = [173, 159, 181]\n",
    "\n",
    "series = {\n",
    "    'gender': genders,\n",
    "    'height': heights\n",
    "}\n",
    "\n",
    "df = pd.DataFrame(series)\n",
    "\n",
    "print(df)"
   ]
  },
  {
   "cell_type": "markdown",
   "metadata": {},
   "source": [
    "Chaque série peut être interrogée individuellement :"
   ]
  },
  {
   "cell_type": "code",
   "execution_count": 4,
   "metadata": {},
   "outputs": [
    {
     "name": "stdout",
     "output_type": "stream",
     "text": [
      "0    F\n",
      "1    F\n",
      "2    M\n",
      "Name: gender, dtype: object\n"
     ]
    }
   ],
   "source": [
    "print(df['gender'])"
   ]
  },
  {
   "cell_type": "markdown",
   "metadata": {},
   "source": [
    "Tout comme il est possible d’accéder à des observations particulières grâce au *slicing* :"
   ]
  },
  {
   "cell_type": "code",
   "execution_count": 5,
   "metadata": {},
   "outputs": [
    {
     "name": "stdout",
     "output_type": "stream",
     "text": [
      "  gender  height\n",
      "2      M     181\n"
     ]
    }
   ],
   "source": [
    "print(df[2:])"
   ]
  },
  {
   "cell_type": "code",
   "execution_count": null,
   "metadata": {},
   "outputs": [],
   "source": []
  }
 ],
 "metadata": {
  "kernelspec": {
   "display_name": "Python 3",
   "language": "python",
   "name": "python3"
  },
  "language_info": {
   "codemirror_mode": {
    "name": "ipython",
    "version": 3
   },
   "file_extension": ".py",
   "mimetype": "text/x-python",
   "name": "python",
   "nbconvert_exporter": "python",
   "pygments_lexer": "ipython3",
   "version": "3.8.0"
  }
 },
 "nbformat": 4,
 "nbformat_minor": 4
}
