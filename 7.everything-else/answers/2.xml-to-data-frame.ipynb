{
 "cells": [
  {
   "cell_type": "markdown",
   "metadata": {},
   "source": [
    "# Convertir un fichier XML en *data frame*\n",
    "\n",
    "Votre objectif est de convertir le [fichier XML des constellations](../files/constellations.xml) en *data frame* avec la librairie *Pandas*."
   ]
  },
  {
   "cell_type": "code",
   "execution_count": null,
   "metadata": {},
   "outputs": [],
   "source": [
    "# your code here\n",
    "\n",
    "import pandas as pd\n",
    "import xml.etree.ElementTree as ET\n",
    "\n",
    "tree = ET.parse('../files/constellations.xml')\n",
    "root = tree.getroot()\n",
    "\n",
    "constellations = list()\n",
    "origins = list()\n",
    "degs2 = list()\n",
    "percents = list()\n",
    "\n",
    "for item in root.iterfind('constellation'):\n",
    "\n",
    "    origins.append(item.attrib['origin'])\n",
    "    constellations.append(item.find('name').text)\n",
    "    \n",
    "    for area in item.iter('area'):\n",
    "        if area.attrib['unit'] == 'deg2':\n",
    "            degs2.append(float(area.text))\n",
    "        else:\n",
    "            percents.append(float(area.text))\n",
    "\n",
    "df = pd.DataFrame({\n",
    "    'constellation': constellations,\n",
    "    'origin': origins,\n",
    "    'deg2': degs2,\n",
    "    'percent': percents\n",
    "})"
   ]
  },
  {
   "cell_type": "markdown",
   "metadata": {},
   "source": [
    "Dans un second temps, trouvez un moyen de dire combien de comptabiliser le nombre de constellations découvertes par Ptolémée et par Lacaille."
   ]
  },
  {
   "cell_type": "code",
   "execution_count": null,
   "metadata": {},
   "outputs": [],
   "source": [
    "# your code here\n",
    "\n",
    "from collections import Counter\n",
    "\n",
    "print(Counter(df['origin']))"
   ]
  }
 ],
 "metadata": {
  "kernelspec": {
   "display_name": "Python 3",
   "language": "python",
   "name": "python3"
  },
  "language_info": {
   "codemirror_mode": {
    "name": "ipython",
    "version": 3
   },
   "file_extension": ".py",
   "mimetype": "text/x-python",
   "name": "python",
   "nbconvert_exporter": "python",
   "pygments_lexer": "ipython3",
   "version": "3.8.0"
  }
 },
 "nbformat": 4,
 "nbformat_minor": 4
}
